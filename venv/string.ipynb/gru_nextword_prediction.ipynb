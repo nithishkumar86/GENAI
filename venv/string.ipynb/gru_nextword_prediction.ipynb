{
 "cells": [
  {
   "cell_type": "code",
   "execution_count": 94,
   "metadata": {},
   "outputs": [],
   "source": [
    "#gru using next word prediction with custom data"
   ]
  },
  {
   "cell_type": "code",
   "execution_count": 24,
   "metadata": {},
   "outputs": [],
   "source": [
    "import pandas as pd\n",
    "import numpy as np\n",
    "import tensorflow\n",
    "from tensorflow.keras.models import Sequential\n",
    "from tensorflow.keras.layers import Dense,Embedding,LSTM,Dropout,Activation,GRU\n",
    "from tensorflow.keras.utils import pad_sequences\n",
    "from tensorflow.keras.utils import to_categorical\n",
    "from tensorflow.keras.preprocessing.text import Tokenizer"
   ]
  },
  {
   "cell_type": "code",
   "execution_count": 4,
   "metadata": {},
   "outputs": [],
   "source": [
    "text=\"\"\"\n",
    "Deep Learning tutorial covers the basics and more advanced topics, \n",
    "making it perfect for beginners and those with experience. \n",
    "Whether you just starting or looking to expand your knowledge,\n",
    "this guide makes it easy to learn about the different technologies of Deep Learning.\n",
    "Deep Learning is a branch of Artificial Intelligence that enables machines to learn from large amounts of data.\n",
    "It uses neural networks with many layers to automatically find patterns and make predictions.\n",
    "It is very useful for tasks like image recognition, language translation, and speech processing.\n",
    "Deep learning models learn directly from data, without the need for manual feature extraction.\n",
    "Popular applications of Deep Learning include self-driving cars, chatbots, medical image analysis, and recommendation systems.\n",
    "\"\"\""
   ]
  },
  {
   "cell_type": "code",
   "execution_count": 5,
   "metadata": {},
   "outputs": [],
   "source": [
    "tokenizer=Tokenizer()"
   ]
  },
  {
   "cell_type": "code",
   "execution_count": 6,
   "metadata": {},
   "outputs": [],
   "source": [
    "tokenizer.fit_on_texts([text])"
   ]
  },
  {
   "cell_type": "code",
   "execution_count": 7,
   "metadata": {},
   "outputs": [
    {
     "data": {
      "text/plain": [
       "dict_items([('deep', 1), ('learning', 2), ('and', 3), ('it', 4), ('to', 5), ('of', 6), ('the', 7), ('for', 8), ('learn', 9), ('with', 10), ('is', 11), ('from', 12), ('data', 13), ('image', 14), ('tutorial', 15), ('covers', 16), ('basics', 17), ('more', 18), ('advanced', 19), ('topics', 20), ('making', 21), ('perfect', 22), ('beginners', 23), ('those', 24), ('experience', 25), ('whether', 26), ('you', 27), ('just', 28), ('starting', 29), ('or', 30), ('looking', 31), ('expand', 32), ('your', 33), ('knowledge', 34), ('this', 35), ('guide', 36), ('makes', 37), ('easy', 38), ('about', 39), ('different', 40), ('technologies', 41), ('a', 42), ('branch', 43), ('artificial', 44), ('intelligence', 45), ('that', 46), ('enables', 47), ('machines', 48), ('large', 49), ('amounts', 50), ('uses', 51), ('neural', 52), ('networks', 53), ('many', 54), ('layers', 55), ('automatically', 56), ('find', 57), ('patterns', 58), ('make', 59), ('predictions', 60), ('very', 61), ('useful', 62), ('tasks', 63), ('like', 64), ('recognition', 65), ('language', 66), ('translation', 67), ('speech', 68), ('processing', 69), ('models', 70), ('directly', 71), ('without', 72), ('need', 73), ('manual', 74), ('feature', 75), ('extraction', 76), ('popular', 77), ('applications', 78), ('include', 79), ('self', 80), ('driving', 81), ('cars', 82), ('chatbots', 83), ('medical', 84), ('analysis', 85), ('recommendation', 86), ('systems', 87)])"
      ]
     },
     "execution_count": 7,
     "metadata": {},
     "output_type": "execute_result"
    }
   ],
   "source": [
    "tokenizer.word_index.items()"
   ]
  },
  {
   "cell_type": "code",
   "execution_count": 96,
   "metadata": {},
   "outputs": [],
   "source": [
    "value={key:value for key,value in tokenizer.word_index.items()}"
   ]
  },
  {
   "cell_type": "code",
   "execution_count": 97,
   "metadata": {},
   "outputs": [
    {
     "data": {
      "text/plain": [
       "{'deep': 1,\n",
       " 'learning': 2,\n",
       " 'and': 3,\n",
       " 'it': 4,\n",
       " 'to': 5,\n",
       " 'of': 6,\n",
       " 'the': 7,\n",
       " 'for': 8,\n",
       " 'learn': 9,\n",
       " 'with': 10,\n",
       " 'is': 11,\n",
       " 'from': 12,\n",
       " 'data': 13,\n",
       " 'image': 14,\n",
       " 'tutorial': 15,\n",
       " 'covers': 16,\n",
       " 'basics': 17,\n",
       " 'more': 18,\n",
       " 'advanced': 19,\n",
       " 'topics': 20,\n",
       " 'making': 21,\n",
       " 'perfect': 22,\n",
       " 'beginners': 23,\n",
       " 'those': 24,\n",
       " 'experience': 25,\n",
       " 'whether': 26,\n",
       " 'you': 27,\n",
       " 'just': 28,\n",
       " 'starting': 29,\n",
       " 'or': 30,\n",
       " 'looking': 31,\n",
       " 'expand': 32,\n",
       " 'your': 33,\n",
       " 'knowledge': 34,\n",
       " 'this': 35,\n",
       " 'guide': 36,\n",
       " 'makes': 37,\n",
       " 'easy': 38,\n",
       " 'about': 39,\n",
       " 'different': 40,\n",
       " 'technologies': 41,\n",
       " 'a': 42,\n",
       " 'branch': 43,\n",
       " 'artificial': 44,\n",
       " 'intelligence': 45,\n",
       " 'that': 46,\n",
       " 'enables': 47,\n",
       " 'machines': 48,\n",
       " 'large': 49,\n",
       " 'amounts': 50,\n",
       " 'uses': 51,\n",
       " 'neural': 52,\n",
       " 'networks': 53,\n",
       " 'many': 54,\n",
       " 'layers': 55,\n",
       " 'automatically': 56,\n",
       " 'find': 57,\n",
       " 'patterns': 58,\n",
       " 'make': 59,\n",
       " 'predictions': 60,\n",
       " 'very': 61,\n",
       " 'useful': 62,\n",
       " 'tasks': 63,\n",
       " 'like': 64,\n",
       " 'recognition': 65,\n",
       " 'language': 66,\n",
       " 'translation': 67,\n",
       " 'speech': 68,\n",
       " 'processing': 69,\n",
       " 'models': 70,\n",
       " 'directly': 71,\n",
       " 'without': 72,\n",
       " 'need': 73,\n",
       " 'manual': 74,\n",
       " 'feature': 75,\n",
       " 'extraction': 76,\n",
       " 'popular': 77,\n",
       " 'applications': 78,\n",
       " 'include': 79,\n",
       " 'self': 80,\n",
       " 'driving': 81,\n",
       " 'cars': 82,\n",
       " 'chatbots': 83,\n",
       " 'medical': 84,\n",
       " 'analysis': 85,\n",
       " 'recommendation': 86,\n",
       " 'systems': 87}"
      ]
     },
     "execution_count": 97,
     "metadata": {},
     "output_type": "execute_result"
    }
   ],
   "source": [
    "value"
   ]
  },
  {
   "cell_type": "code",
   "execution_count": 8,
   "metadata": {},
   "outputs": [],
   "source": [
    "total_words=len(tokenizer.word_index)+1"
   ]
  },
  {
   "cell_type": "code",
   "execution_count": 9,
   "metadata": {},
   "outputs": [
    {
     "data": {
      "text/plain": [
       "88"
      ]
     },
     "execution_count": 9,
     "metadata": {},
     "output_type": "execute_result"
    }
   ],
   "source": [
    "total_words"
   ]
  },
  {
   "cell_type": "code",
   "execution_count": 11,
   "metadata": {},
   "outputs": [],
   "source": [
    "text_vector=[]\n",
    "for line in text.split('\\n'):\n",
    "    vector=tokenizer.texts_to_sequences([line])[0]\n",
    "    for i in range(1,len(vector)):\n",
    "        vec=vector[:i+1]\n",
    "        text_vector.append(vec)\n",
    "        "
   ]
  },
  {
   "cell_type": "code",
   "execution_count": 12,
   "metadata": {},
   "outputs": [
    {
     "data": {
      "text/plain": [
       "[[1, 2],\n",
       " [1, 2, 15],\n",
       " [1, 2, 15, 16],\n",
       " [1, 2, 15, 16, 7],\n",
       " [1, 2, 15, 16, 7, 17],\n",
       " [1, 2, 15, 16, 7, 17, 3],\n",
       " [1, 2, 15, 16, 7, 17, 3, 18],\n",
       " [1, 2, 15, 16, 7, 17, 3, 18, 19],\n",
       " [1, 2, 15, 16, 7, 17, 3, 18, 19, 20],\n",
       " [21, 4],\n",
       " [21, 4, 22],\n",
       " [21, 4, 22, 8],\n",
       " [21, 4, 22, 8, 23],\n",
       " [21, 4, 22, 8, 23, 3],\n",
       " [21, 4, 22, 8, 23, 3, 24],\n",
       " [21, 4, 22, 8, 23, 3, 24, 10],\n",
       " [21, 4, 22, 8, 23, 3, 24, 10, 25],\n",
       " [26, 27],\n",
       " [26, 27, 28],\n",
       " [26, 27, 28, 29],\n",
       " [26, 27, 28, 29, 30],\n",
       " [26, 27, 28, 29, 30, 31],\n",
       " [26, 27, 28, 29, 30, 31, 5],\n",
       " [26, 27, 28, 29, 30, 31, 5, 32],\n",
       " [26, 27, 28, 29, 30, 31, 5, 32, 33],\n",
       " [26, 27, 28, 29, 30, 31, 5, 32, 33, 34],\n",
       " [35, 36],\n",
       " [35, 36, 37],\n",
       " [35, 36, 37, 4],\n",
       " [35, 36, 37, 4, 38],\n",
       " [35, 36, 37, 4, 38, 5],\n",
       " [35, 36, 37, 4, 38, 5, 9],\n",
       " [35, 36, 37, 4, 38, 5, 9, 39],\n",
       " [35, 36, 37, 4, 38, 5, 9, 39, 7],\n",
       " [35, 36, 37, 4, 38, 5, 9, 39, 7, 40],\n",
       " [35, 36, 37, 4, 38, 5, 9, 39, 7, 40, 41],\n",
       " [35, 36, 37, 4, 38, 5, 9, 39, 7, 40, 41, 6],\n",
       " [35, 36, 37, 4, 38, 5, 9, 39, 7, 40, 41, 6, 1],\n",
       " [35, 36, 37, 4, 38, 5, 9, 39, 7, 40, 41, 6, 1, 2],\n",
       " [1, 2],\n",
       " [1, 2, 11],\n",
       " [1, 2, 11, 42],\n",
       " [1, 2, 11, 42, 43],\n",
       " [1, 2, 11, 42, 43, 6],\n",
       " [1, 2, 11, 42, 43, 6, 44],\n",
       " [1, 2, 11, 42, 43, 6, 44, 45],\n",
       " [1, 2, 11, 42, 43, 6, 44, 45, 46],\n",
       " [1, 2, 11, 42, 43, 6, 44, 45, 46, 47],\n",
       " [1, 2, 11, 42, 43, 6, 44, 45, 46, 47, 48],\n",
       " [1, 2, 11, 42, 43, 6, 44, 45, 46, 47, 48, 5],\n",
       " [1, 2, 11, 42, 43, 6, 44, 45, 46, 47, 48, 5, 9],\n",
       " [1, 2, 11, 42, 43, 6, 44, 45, 46, 47, 48, 5, 9, 12],\n",
       " [1, 2, 11, 42, 43, 6, 44, 45, 46, 47, 48, 5, 9, 12, 49],\n",
       " [1, 2, 11, 42, 43, 6, 44, 45, 46, 47, 48, 5, 9, 12, 49, 50],\n",
       " [1, 2, 11, 42, 43, 6, 44, 45, 46, 47, 48, 5, 9, 12, 49, 50, 6],\n",
       " [1, 2, 11, 42, 43, 6, 44, 45, 46, 47, 48, 5, 9, 12, 49, 50, 6, 13],\n",
       " [4, 51],\n",
       " [4, 51, 52],\n",
       " [4, 51, 52, 53],\n",
       " [4, 51, 52, 53, 10],\n",
       " [4, 51, 52, 53, 10, 54],\n",
       " [4, 51, 52, 53, 10, 54, 55],\n",
       " [4, 51, 52, 53, 10, 54, 55, 5],\n",
       " [4, 51, 52, 53, 10, 54, 55, 5, 56],\n",
       " [4, 51, 52, 53, 10, 54, 55, 5, 56, 57],\n",
       " [4, 51, 52, 53, 10, 54, 55, 5, 56, 57, 58],\n",
       " [4, 51, 52, 53, 10, 54, 55, 5, 56, 57, 58, 3],\n",
       " [4, 51, 52, 53, 10, 54, 55, 5, 56, 57, 58, 3, 59],\n",
       " [4, 51, 52, 53, 10, 54, 55, 5, 56, 57, 58, 3, 59, 60],\n",
       " [4, 11],\n",
       " [4, 11, 61],\n",
       " [4, 11, 61, 62],\n",
       " [4, 11, 61, 62, 8],\n",
       " [4, 11, 61, 62, 8, 63],\n",
       " [4, 11, 61, 62, 8, 63, 64],\n",
       " [4, 11, 61, 62, 8, 63, 64, 14],\n",
       " [4, 11, 61, 62, 8, 63, 64, 14, 65],\n",
       " [4, 11, 61, 62, 8, 63, 64, 14, 65, 66],\n",
       " [4, 11, 61, 62, 8, 63, 64, 14, 65, 66, 67],\n",
       " [4, 11, 61, 62, 8, 63, 64, 14, 65, 66, 67, 3],\n",
       " [4, 11, 61, 62, 8, 63, 64, 14, 65, 66, 67, 3, 68],\n",
       " [4, 11, 61, 62, 8, 63, 64, 14, 65, 66, 67, 3, 68, 69],\n",
       " [1, 2],\n",
       " [1, 2, 70],\n",
       " [1, 2, 70, 9],\n",
       " [1, 2, 70, 9, 71],\n",
       " [1, 2, 70, 9, 71, 12],\n",
       " [1, 2, 70, 9, 71, 12, 13],\n",
       " [1, 2, 70, 9, 71, 12, 13, 72],\n",
       " [1, 2, 70, 9, 71, 12, 13, 72, 7],\n",
       " [1, 2, 70, 9, 71, 12, 13, 72, 7, 73],\n",
       " [1, 2, 70, 9, 71, 12, 13, 72, 7, 73, 8],\n",
       " [1, 2, 70, 9, 71, 12, 13, 72, 7, 73, 8, 74],\n",
       " [1, 2, 70, 9, 71, 12, 13, 72, 7, 73, 8, 74, 75],\n",
       " [1, 2, 70, 9, 71, 12, 13, 72, 7, 73, 8, 74, 75, 76],\n",
       " [77, 78],\n",
       " [77, 78, 6],\n",
       " [77, 78, 6, 1],\n",
       " [77, 78, 6, 1, 2],\n",
       " [77, 78, 6, 1, 2, 79],\n",
       " [77, 78, 6, 1, 2, 79, 80],\n",
       " [77, 78, 6, 1, 2, 79, 80, 81],\n",
       " [77, 78, 6, 1, 2, 79, 80, 81, 82],\n",
       " [77, 78, 6, 1, 2, 79, 80, 81, 82, 83],\n",
       " [77, 78, 6, 1, 2, 79, 80, 81, 82, 83, 84],\n",
       " [77, 78, 6, 1, 2, 79, 80, 81, 82, 83, 84, 14],\n",
       " [77, 78, 6, 1, 2, 79, 80, 81, 82, 83, 84, 14, 85],\n",
       " [77, 78, 6, 1, 2, 79, 80, 81, 82, 83, 84, 14, 85, 3],\n",
       " [77, 78, 6, 1, 2, 79, 80, 81, 82, 83, 84, 14, 85, 3, 86],\n",
       " [77, 78, 6, 1, 2, 79, 80, 81, 82, 83, 84, 14, 85, 3, 86, 87]]"
      ]
     },
     "execution_count": 12,
     "metadata": {},
     "output_type": "execute_result"
    }
   ],
   "source": [
    "text_vector"
   ]
  },
  {
   "cell_type": "code",
   "execution_count": 13,
   "metadata": {},
   "outputs": [],
   "source": [
    "max_length=max([len(i) for i in text_vector])"
   ]
  },
  {
   "cell_type": "code",
   "execution_count": 14,
   "metadata": {},
   "outputs": [
    {
     "data": {
      "text/plain": [
       "18"
      ]
     },
     "execution_count": 14,
     "metadata": {},
     "output_type": "execute_result"
    }
   ],
   "source": [
    "max_length"
   ]
  },
  {
   "cell_type": "code",
   "execution_count": 16,
   "metadata": {},
   "outputs": [],
   "source": [
    "pad=np.array(pad_sequences(text_vector,padding='pre',maxlen=max_length))"
   ]
  },
  {
   "cell_type": "code",
   "execution_count": 17,
   "metadata": {},
   "outputs": [
    {
     "data": {
      "text/plain": [
       "array([[ 0,  0,  0, ...,  0,  1,  2],\n",
       "       [ 0,  0,  0, ...,  1,  2, 15],\n",
       "       [ 0,  0,  0, ...,  2, 15, 16],\n",
       "       ...,\n",
       "       [ 0,  0,  0, ..., 14, 85,  3],\n",
       "       [ 0,  0,  0, ..., 85,  3, 86],\n",
       "       [ 0,  0, 77, ...,  3, 86, 87]])"
      ]
     },
     "execution_count": 17,
     "metadata": {},
     "output_type": "execute_result"
    }
   ],
   "source": [
    "pad"
   ]
  },
  {
   "cell_type": "code",
   "execution_count": 18,
   "metadata": {},
   "outputs": [],
   "source": [
    "x=pad[:,:-1]"
   ]
  },
  {
   "cell_type": "code",
   "execution_count": 19,
   "metadata": {},
   "outputs": [
    {
     "data": {
      "text/plain": [
       "array([[ 0,  0,  0, ...,  0,  0,  1],\n",
       "       [ 0,  0,  0, ...,  0,  1,  2],\n",
       "       [ 0,  0,  0, ...,  1,  2, 15],\n",
       "       ...,\n",
       "       [ 0,  0,  0, ..., 84, 14, 85],\n",
       "       [ 0,  0,  0, ..., 14, 85,  3],\n",
       "       [ 0,  0, 77, ..., 85,  3, 86]])"
      ]
     },
     "execution_count": 19,
     "metadata": {},
     "output_type": "execute_result"
    }
   ],
   "source": [
    "x"
   ]
  },
  {
   "cell_type": "code",
   "execution_count": 20,
   "metadata": {},
   "outputs": [],
   "source": [
    "y=pad[:,-1]"
   ]
  },
  {
   "cell_type": "code",
   "execution_count": 21,
   "metadata": {},
   "outputs": [
    {
     "data": {
      "text/plain": [
       "array([ 2, 15, 16,  7, 17,  3, 18, 19, 20,  4, 22,  8, 23,  3, 24, 10, 25,\n",
       "       27, 28, 29, 30, 31,  5, 32, 33, 34, 36, 37,  4, 38,  5,  9, 39,  7,\n",
       "       40, 41,  6,  1,  2,  2, 11, 42, 43,  6, 44, 45, 46, 47, 48,  5,  9,\n",
       "       12, 49, 50,  6, 13, 51, 52, 53, 10, 54, 55,  5, 56, 57, 58,  3, 59,\n",
       "       60, 11, 61, 62,  8, 63, 64, 14, 65, 66, 67,  3, 68, 69,  2, 70,  9,\n",
       "       71, 12, 13, 72,  7, 73,  8, 74, 75, 76, 78,  6,  1,  2, 79, 80, 81,\n",
       "       82, 83, 84, 14, 85,  3, 86, 87])"
      ]
     },
     "execution_count": 21,
     "metadata": {},
     "output_type": "execute_result"
    }
   ],
   "source": [
    "y"
   ]
  },
  {
   "cell_type": "code",
   "execution_count": 22,
   "metadata": {},
   "outputs": [],
   "source": [
    "y=np.array(to_categorical(y,num_classes=total_words))"
   ]
  },
  {
   "cell_type": "code",
   "execution_count": 23,
   "metadata": {},
   "outputs": [
    {
     "data": {
      "text/plain": [
       "array([[0., 0., 1., ..., 0., 0., 0.],\n",
       "       [0., 0., 0., ..., 0., 0., 0.],\n",
       "       [0., 0., 0., ..., 0., 0., 0.],\n",
       "       ...,\n",
       "       [0., 0., 0., ..., 0., 0., 0.],\n",
       "       [0., 0., 0., ..., 0., 1., 0.],\n",
       "       [0., 0., 0., ..., 0., 0., 1.]])"
      ]
     },
     "execution_count": 23,
     "metadata": {},
     "output_type": "execute_result"
    }
   ],
   "source": [
    "y"
   ]
  },
  {
   "cell_type": "code",
   "execution_count": 27,
   "metadata": {},
   "outputs": [
    {
     "data": {
      "text/plain": [
       "88"
      ]
     },
     "execution_count": 27,
     "metadata": {},
     "output_type": "execute_result"
    }
   ],
   "source": [
    "y.shape[1]"
   ]
  },
  {
   "cell_type": "code",
   "execution_count": 28,
   "metadata": {},
   "outputs": [
    {
     "name": "stderr",
     "output_type": "stream",
     "text": [
      "c:\\Users\\user\\AppData\\Local\\Programs\\Python\\Python312\\Lib\\site-packages\\keras\\src\\layers\\core\\embedding.py:90: UserWarning: Argument `input_length` is deprecated. Just remove it.\n",
      "  warnings.warn(\n"
     ]
    }
   ],
   "source": [
    "model=Sequential()\n",
    "model.add(Embedding(total_words,50,input_length=max_length-1))\n",
    "model.add(GRU(32,return_sequences=True))\n",
    "model.add(Dropout(0.2))\n",
    "model.add(GRU(64))\n",
    "model.add(Dropout(0.2))\n",
    "model.add(Dense(y.shape[1],activation='softmax'))"
   ]
  },
  {
   "cell_type": "code",
   "execution_count": 29,
   "metadata": {},
   "outputs": [],
   "source": [
    "model.compile(loss=\"categorical_crossentropy\",optimizer='adam',metrics=['accuracy'])"
   ]
  },
  {
   "cell_type": "code",
   "execution_count": 30,
   "metadata": {},
   "outputs": [],
   "source": [
    "from sklearn.model_selection import train_test_split"
   ]
  },
  {
   "cell_type": "code",
   "execution_count": 31,
   "metadata": {},
   "outputs": [],
   "source": [
    "x_train,x_test,y_train,y_test=train_test_split(x,y,test_size=0.2,random_state=11)"
   ]
  },
  {
   "cell_type": "code",
   "execution_count": 32,
   "metadata": {},
   "outputs": [
    {
     "data": {
      "text/plain": [
       "((88, 17), (22, 17), (88, 88), (22, 88))"
      ]
     },
     "execution_count": 32,
     "metadata": {},
     "output_type": "execute_result"
    }
   ],
   "source": [
    "x_train.shape,x_test.shape,y_train.shape,y_test.shape"
   ]
  },
  {
   "cell_type": "code",
   "execution_count": 33,
   "metadata": {},
   "outputs": [
    {
     "data": {
      "text/plain": [
       "array([[ 0,  0,  0, ...,  1,  2, 15],\n",
       "       [ 0,  0,  0, ..., 14, 85,  3],\n",
       "       [ 0,  0,  0, ...,  7, 17,  3],\n",
       "       ...,\n",
       "       [ 0,  0,  0, ..., 66, 67,  3],\n",
       "       [ 0,  0,  0, ..., 54, 55,  5],\n",
       "       [ 0,  0,  0, ...,  5, 32, 33]])"
      ]
     },
     "execution_count": 33,
     "metadata": {},
     "output_type": "execute_result"
    }
   ],
   "source": [
    "x_train"
   ]
  },
  {
   "cell_type": "code",
   "execution_count": 34,
   "metadata": {},
   "outputs": [
    {
     "data": {
      "text/plain": [
       "array([[ 0,  0,  0,  0,  0,  0,  0,  0,  0,  0,  0,  0,  0,  0,  0,  0,\n",
       "        21],\n",
       "       [ 0,  0,  0,  0,  0,  0,  0,  0,  0,  0,  0,  0,  0,  0, 77, 78,\n",
       "         6],\n",
       "       [ 0,  0,  0,  0,  0,  0,  0,  0,  0,  0,  0, 26, 27, 28, 29, 30,\n",
       "        31],\n",
       "       [ 0,  0,  0,  0,  0,  0,  0,  0,  0,  0,  0,  0,  0,  1,  2, 70,\n",
       "         9],\n",
       "       [ 0,  0,  0,  0,  0,  0,  0,  0,  0,  0,  0,  4, 51, 52, 53, 10,\n",
       "        54],\n",
       "       [ 0,  0,  0,  0,  0,  0,  0,  0,  0,  0,  0,  0,  0,  0, 35, 36,\n",
       "        37],\n",
       "       [ 0,  0,  0,  0,  0,  0,  1,  2, 11, 42, 43,  6, 44, 45, 46, 47,\n",
       "        48],\n",
       "       [ 0,  0,  0,  0,  0,  0,  0,  0,  1,  2, 11, 42, 43,  6, 44, 45,\n",
       "        46],\n",
       "       [ 0,  0,  0,  0,  0, 77, 78,  6,  1,  2, 79, 80, 81, 82, 83, 84,\n",
       "        14],\n",
       "       [ 0,  0,  0,  0,  0,  0,  0,  4, 51, 52, 53, 10, 54, 55,  5, 56,\n",
       "        57],\n",
       "       [ 0,  0,  0,  0,  0,  0,  0,  0,  0,  1,  2, 70,  9, 71, 12, 13,\n",
       "        72],\n",
       "       [ 0,  0,  0,  0,  0,  0,  0,  0,  0,  0,  0,  0,  0,  0,  0,  0,\n",
       "         4],\n",
       "       [ 0,  0,  0,  0,  0,  0,  0,  0,  0, 21,  4, 22,  8, 23,  3, 24,\n",
       "        10],\n",
       "       [ 0,  0,  0,  0,  0,  0,  0,  0,  0,  0,  0,  0,  0,  0,  0,  1,\n",
       "         2],\n",
       "       [ 0,  0,  0,  0,  0,  0,  0,  0,  0,  0, 21,  4, 22,  8, 23,  3,\n",
       "        24],\n",
       "       [ 0,  0,  0,  0,  0,  0,  0,  0,  0,  0,  0,  0,  0,  4, 11, 61,\n",
       "        62],\n",
       "       [ 0,  0,  0,  0,  0,  0,  0,  0,  0,  0,  0,  0,  0,  0,  1,  2,\n",
       "        11],\n",
       "       [ 0,  0,  0,  0,  0,  0, 35, 36, 37,  4, 38,  5,  9, 39,  7, 40,\n",
       "        41],\n",
       "       [ 0,  0,  0,  0,  0,  0,  0,  0,  0,  1,  2, 11, 42, 43,  6, 44,\n",
       "        45],\n",
       "       [ 0,  0,  0,  0,  0,  0,  0,  0,  0,  0,  0,  0, 26, 27, 28, 29,\n",
       "        30],\n",
       "       [ 0,  0,  0,  0,  1,  2, 70,  9, 71, 12, 13, 72,  7, 73,  8, 74,\n",
       "        75],\n",
       "       [ 0,  0,  0,  0,  0,  0,  0,  0,  0,  0,  0,  0, 35, 36, 37,  4,\n",
       "        38]])"
      ]
     },
     "execution_count": 34,
     "metadata": {},
     "output_type": "execute_result"
    }
   ],
   "source": [
    "x_test"
   ]
  },
  {
   "cell_type": "code",
   "execution_count": 35,
   "metadata": {},
   "outputs": [
    {
     "data": {
      "text/plain": [
       "array([[0., 0., 0., ..., 0., 0., 0.],\n",
       "       [0., 0., 0., ..., 0., 1., 0.],\n",
       "       [0., 0., 0., ..., 0., 0., 0.],\n",
       "       ...,\n",
       "       [0., 0., 0., ..., 0., 0., 0.],\n",
       "       [0., 0., 0., ..., 0., 0., 0.],\n",
       "       [0., 0., 0., ..., 0., 0., 0.]])"
      ]
     },
     "execution_count": 35,
     "metadata": {},
     "output_type": "execute_result"
    }
   ],
   "source": [
    "y_train"
   ]
  },
  {
   "cell_type": "code",
   "execution_count": 36,
   "metadata": {},
   "outputs": [
    {
     "data": {
      "text/plain": [
       "array([[0., 0., 0., ..., 0., 0., 0.],\n",
       "       [0., 1., 0., ..., 0., 0., 0.],\n",
       "       [0., 0., 0., ..., 0., 0., 0.],\n",
       "       ...,\n",
       "       [0., 0., 0., ..., 0., 0., 0.],\n",
       "       [0., 0., 0., ..., 0., 0., 0.],\n",
       "       [0., 0., 0., ..., 0., 0., 0.]])"
      ]
     },
     "execution_count": 36,
     "metadata": {},
     "output_type": "execute_result"
    }
   ],
   "source": [
    "y_test"
   ]
  },
  {
   "cell_type": "code",
   "execution_count": 41,
   "metadata": {},
   "outputs": [],
   "source": [
    "from tensorflow.keras.callbacks import EarlyStopping"
   ]
  },
  {
   "cell_type": "code",
   "execution_count": 64,
   "metadata": {},
   "outputs": [],
   "source": [
    "early=EarlyStopping(monitor='val_accuracy',patience=130,restore_best_weights=True)"
   ]
  },
  {
   "cell_type": "code",
   "execution_count": 75,
   "metadata": {},
   "outputs": [
    {
     "name": "stdout",
     "output_type": "stream",
     "text": [
      "Epoch 1/150\n",
      "\u001b[1m3/3\u001b[0m \u001b[32m━━━━━━━━━━━━━━━━━━━━\u001b[0m\u001b[37m\u001b[0m \u001b[1m0s\u001b[0m 90ms/step - accuracy: 0.1275 - loss: 4.4368 - val_accuracy: 0.0556 - val_loss: 4.4932\n",
      "Epoch 2/150\n",
      "\u001b[1m3/3\u001b[0m \u001b[32m━━━━━━━━━━━━━━━━━━━━\u001b[0m\u001b[37m\u001b[0m \u001b[1m0s\u001b[0m 25ms/step - accuracy: 0.0741 - loss: 4.4335 - val_accuracy: 0.0556 - val_loss: 4.4959\n",
      "Epoch 3/150\n",
      "\u001b[1m3/3\u001b[0m \u001b[32m━━━━━━━━━━━━━━━━━━━━\u001b[0m\u001b[37m\u001b[0m \u001b[1m0s\u001b[0m 30ms/step - accuracy: 0.0709 - loss: 4.4252 - val_accuracy: 0.0556 - val_loss: 4.4993\n",
      "Epoch 4/150\n",
      "\u001b[1m3/3\u001b[0m \u001b[32m━━━━━━━━━━━━━━━━━━━━\u001b[0m\u001b[37m\u001b[0m \u001b[1m0s\u001b[0m 45ms/step - accuracy: 0.0598 - loss: 4.4257 - val_accuracy: 0.0556 - val_loss: 4.5038\n",
      "Epoch 5/150\n",
      "\u001b[1m3/3\u001b[0m \u001b[32m━━━━━━━━━━━━━━━━━━━━\u001b[0m\u001b[37m\u001b[0m \u001b[1m0s\u001b[0m 26ms/step - accuracy: 0.0819 - loss: 4.4201 - val_accuracy: 0.0556 - val_loss: 4.5095\n",
      "Epoch 6/150\n",
      "\u001b[1m3/3\u001b[0m \u001b[32m━━━━━━━━━━━━━━━━━━━━\u001b[0m\u001b[37m\u001b[0m \u001b[1m0s\u001b[0m 22ms/step - accuracy: 0.1339 - loss: 4.4047 - val_accuracy: 0.0556 - val_loss: 4.5158\n",
      "Epoch 7/150\n",
      "\u001b[1m3/3\u001b[0m \u001b[32m━━━━━━━━━━━━━━━━━━━━\u001b[0m\u001b[37m\u001b[0m \u001b[1m0s\u001b[0m 24ms/step - accuracy: 0.1118 - loss: 4.3985 - val_accuracy: 0.0556 - val_loss: 4.5230\n",
      "Epoch 8/150\n",
      "\u001b[1m3/3\u001b[0m \u001b[32m━━━━━━━━━━━━━━━━━━━━\u001b[0m\u001b[37m\u001b[0m \u001b[1m0s\u001b[0m 21ms/step - accuracy: 0.0637 - loss: 4.3899 - val_accuracy: 0.0556 - val_loss: 4.5318\n",
      "Epoch 9/150\n",
      "\u001b[1m3/3\u001b[0m \u001b[32m━━━━━━━━━━━━━━━━━━━━\u001b[0m\u001b[37m\u001b[0m \u001b[1m0s\u001b[0m 23ms/step - accuracy: 0.0598 - loss: 4.3768 - val_accuracy: 0.0556 - val_loss: 4.5423\n",
      "Epoch 10/150\n",
      "\u001b[1m3/3\u001b[0m \u001b[32m━━━━━━━━━━━━━━━━━━━━\u001b[0m\u001b[37m\u001b[0m \u001b[1m0s\u001b[0m 22ms/step - accuracy: 0.1157 - loss: 4.3634 - val_accuracy: 0.0556 - val_loss: 4.5558\n",
      "Epoch 11/150\n",
      "\u001b[1m3/3\u001b[0m \u001b[32m━━━━━━━━━━━━━━━━━━━━\u001b[0m\u001b[37m\u001b[0m \u001b[1m0s\u001b[0m 25ms/step - accuracy: 0.0741 - loss: 4.3472 - val_accuracy: 0.0556 - val_loss: 4.5730\n",
      "Epoch 12/150\n",
      "\u001b[1m3/3\u001b[0m \u001b[32m━━━━━━━━━━━━━━━━━━━━\u001b[0m\u001b[37m\u001b[0m \u001b[1m0s\u001b[0m 28ms/step - accuracy: 0.0819 - loss: 4.3203 - val_accuracy: 0.0556 - val_loss: 4.5953\n",
      "Epoch 13/150\n",
      "\u001b[1m3/3\u001b[0m \u001b[32m━━━━━━━━━━━━━━━━━━━━\u001b[0m\u001b[37m\u001b[0m \u001b[1m0s\u001b[0m 24ms/step - accuracy: 0.0410 - loss: 4.3076 - val_accuracy: 0.0556 - val_loss: 4.6245\n",
      "Epoch 14/150\n",
      "\u001b[1m3/3\u001b[0m \u001b[32m━━━━━━━━━━━━━━━━━━━━\u001b[0m\u001b[37m\u001b[0m \u001b[1m0s\u001b[0m 29ms/step - accuracy: 0.0566 - loss: 4.2582 - val_accuracy: 0.0556 - val_loss: 4.6625\n",
      "Epoch 15/150\n",
      "\u001b[1m3/3\u001b[0m \u001b[32m━━━━━━━━━━━━━━━━━━━━\u001b[0m\u001b[37m\u001b[0m \u001b[1m0s\u001b[0m 37ms/step - accuracy: 0.0676 - loss: 4.2192 - val_accuracy: 0.0556 - val_loss: 4.7158\n",
      "Epoch 16/150\n",
      "\u001b[1m3/3\u001b[0m \u001b[32m━━━━━━━━━━━━━━━━━━━━\u001b[0m\u001b[37m\u001b[0m \u001b[1m0s\u001b[0m 24ms/step - accuracy: 0.1242 - loss: 4.1593 - val_accuracy: 0.0556 - val_loss: 4.7901\n",
      "Epoch 17/150\n",
      "\u001b[1m3/3\u001b[0m \u001b[32m━━━━━━━━━━━━━━━━━━━━\u001b[0m\u001b[37m\u001b[0m \u001b[1m0s\u001b[0m 27ms/step - accuracy: 0.0488 - loss: 4.1435 - val_accuracy: 0.0556 - val_loss: 4.8920\n",
      "Epoch 18/150\n",
      "\u001b[1m3/3\u001b[0m \u001b[32m━━━━━━━━━━━━━━━━━━━━\u001b[0m\u001b[37m\u001b[0m \u001b[1m0s\u001b[0m 26ms/step - accuracy: 0.0403 - loss: 4.1685 - val_accuracy: 0.0556 - val_loss: 5.0211\n",
      "Epoch 19/150\n",
      "\u001b[1m3/3\u001b[0m \u001b[32m━━━━━━━━━━━━━━━━━━━━\u001b[0m\u001b[37m\u001b[0m \u001b[1m0s\u001b[0m 42ms/step - accuracy: 0.0598 - loss: 4.0670 - val_accuracy: 0.0556 - val_loss: 5.1860\n",
      "Epoch 20/150\n",
      "\u001b[1m3/3\u001b[0m \u001b[32m━━━━━━━━━━━━━━━━━━━━\u001b[0m\u001b[37m\u001b[0m \u001b[1m0s\u001b[0m 27ms/step - accuracy: 0.0754 - loss: 4.0013 - val_accuracy: 0.0556 - val_loss: 5.3759\n",
      "Epoch 21/150\n",
      "\u001b[1m3/3\u001b[0m \u001b[32m━━━━━━━━━━━━━━━━━━━━\u001b[0m\u001b[37m\u001b[0m \u001b[1m0s\u001b[0m 21ms/step - accuracy: 0.0598 - loss: 4.0240 - val_accuracy: 0.0556 - val_loss: 5.5510\n",
      "Epoch 22/150\n",
      "\u001b[1m3/3\u001b[0m \u001b[32m━━━━━━━━━━━━━━━━━━━━\u001b[0m\u001b[37m\u001b[0m \u001b[1m0s\u001b[0m 32ms/step - accuracy: 0.0598 - loss: 4.0369 - val_accuracy: 0.0556 - val_loss: 5.6753\n",
      "Epoch 23/150\n",
      "\u001b[1m3/3\u001b[0m \u001b[32m━━━━━━━━━━━━━━━━━━━━\u001b[0m\u001b[37m\u001b[0m \u001b[1m0s\u001b[0m 34ms/step - accuracy: 0.0520 - loss: 3.9936 - val_accuracy: 0.0556 - val_loss: 5.7616\n",
      "Epoch 24/150\n",
      "\u001b[1m3/3\u001b[0m \u001b[32m━━━━━━━━━━━━━━━━━━━━\u001b[0m\u001b[37m\u001b[0m \u001b[1m0s\u001b[0m 29ms/step - accuracy: 0.0520 - loss: 4.0135 - val_accuracy: 0.0556 - val_loss: 5.8309\n",
      "Epoch 25/150\n",
      "\u001b[1m3/3\u001b[0m \u001b[32m━━━━━━━━━━━━━━━━━━━━\u001b[0m\u001b[37m\u001b[0m \u001b[1m0s\u001b[0m 30ms/step - accuracy: 0.0709 - loss: 3.9709 - val_accuracy: 0.0556 - val_loss: 5.8895\n",
      "Epoch 26/150\n",
      "\u001b[1m3/3\u001b[0m \u001b[32m━━━━━━━━━━━━━━━━━━━━\u001b[0m\u001b[37m\u001b[0m \u001b[1m0s\u001b[0m 29ms/step - accuracy: 0.0292 - loss: 3.9806 - val_accuracy: 0.0556 - val_loss: 5.9362\n",
      "Epoch 27/150\n",
      "\u001b[1m3/3\u001b[0m \u001b[32m━━━━━━━━━━━━━━━━━━━━\u001b[0m\u001b[37m\u001b[0m \u001b[1m0s\u001b[0m 27ms/step - accuracy: 0.1086 - loss: 3.9739 - val_accuracy: 0.0556 - val_loss: 5.9827\n",
      "Epoch 28/150\n",
      "\u001b[1m3/3\u001b[0m \u001b[32m━━━━━━━━━━━━━━━━━━━━\u001b[0m\u001b[37m\u001b[0m \u001b[1m0s\u001b[0m 30ms/step - accuracy: 0.0631 - loss: 3.9878 - val_accuracy: 0.0556 - val_loss: 6.0033\n",
      "Epoch 29/150\n",
      "\u001b[1m3/3\u001b[0m \u001b[32m━━━━━━━━━━━━━━━━━━━━\u001b[0m\u001b[37m\u001b[0m \u001b[1m0s\u001b[0m 35ms/step - accuracy: 0.0897 - loss: 3.9673 - val_accuracy: 0.0556 - val_loss: 6.0137\n",
      "Epoch 30/150\n",
      "\u001b[1m3/3\u001b[0m \u001b[32m━━━━━━━━━━━━━━━━━━━━\u001b[0m\u001b[37m\u001b[0m \u001b[1m0s\u001b[0m 35ms/step - accuracy: 0.0631 - loss: 3.9565 - val_accuracy: 0.0556 - val_loss: 6.0111\n",
      "Epoch 31/150\n",
      "\u001b[1m3/3\u001b[0m \u001b[32m━━━━━━━━━━━━━━━━━━━━\u001b[0m\u001b[37m\u001b[0m \u001b[1m0s\u001b[0m 37ms/step - accuracy: 0.0865 - loss: 3.8978 - val_accuracy: 0.0556 - val_loss: 6.0080\n",
      "Epoch 32/150\n",
      "\u001b[1m3/3\u001b[0m \u001b[32m━━━━━━━━━━━━━━━━━━━━\u001b[0m\u001b[37m\u001b[0m \u001b[1m0s\u001b[0m 36ms/step - accuracy: 0.0676 - loss: 3.9170 - val_accuracy: 0.0556 - val_loss: 5.9950\n",
      "Epoch 33/150\n",
      "\u001b[1m3/3\u001b[0m \u001b[32m━━━━━━━━━━━━━━━━━━━━\u001b[0m\u001b[37m\u001b[0m \u001b[1m0s\u001b[0m 30ms/step - accuracy: 0.0936 - loss: 3.8826 - val_accuracy: 0.0556 - val_loss: 5.9905\n",
      "Epoch 34/150\n",
      "\u001b[1m3/3\u001b[0m \u001b[32m━━━━━━━━━━━━━━━━━━━━\u001b[0m\u001b[37m\u001b[0m \u001b[1m0s\u001b[0m 33ms/step - accuracy: 0.0930 - loss: 3.9664 - val_accuracy: 0.0556 - val_loss: 6.0132\n",
      "Epoch 35/150\n",
      "\u001b[1m3/3\u001b[0m \u001b[32m━━━━━━━━━━━━━━━━━━━━\u001b[0m\u001b[37m\u001b[0m \u001b[1m0s\u001b[0m 35ms/step - accuracy: 0.0520 - loss: 3.8940 - val_accuracy: 0.0556 - val_loss: 6.0642\n",
      "Epoch 36/150\n",
      "\u001b[1m3/3\u001b[0m \u001b[32m━━━━━━━━━━━━━━━━━━━━\u001b[0m\u001b[37m\u001b[0m \u001b[1m0s\u001b[0m 25ms/step - accuracy: 0.1079 - loss: 3.8892 - val_accuracy: 0.0556 - val_loss: 6.0947\n",
      "Epoch 37/150\n",
      "\u001b[1m3/3\u001b[0m \u001b[32m━━━━━━━━━━━━━━━━━━━━\u001b[0m\u001b[37m\u001b[0m \u001b[1m0s\u001b[0m 30ms/step - accuracy: 0.0897 - loss: 3.9140 - val_accuracy: 0.0556 - val_loss: 6.1096\n",
      "Epoch 38/150\n",
      "\u001b[1m3/3\u001b[0m \u001b[32m━━━━━━━━━━━━━━━━━━━━\u001b[0m\u001b[37m\u001b[0m \u001b[1m0s\u001b[0m 32ms/step - accuracy: 0.0819 - loss: 3.8928 - val_accuracy: 0.0556 - val_loss: 6.1071\n",
      "Epoch 39/150\n",
      "\u001b[1m3/3\u001b[0m \u001b[32m━━━━━━━━━━━━━━━━━━━━\u001b[0m\u001b[37m\u001b[0m \u001b[1m0s\u001b[0m 33ms/step - accuracy: 0.1157 - loss: 3.8157 - val_accuracy: 0.0556 - val_loss: 6.0900\n",
      "Epoch 40/150\n",
      "\u001b[1m3/3\u001b[0m \u001b[32m━━━━━━━━━━━━━━━━━━━━\u001b[0m\u001b[37m\u001b[0m \u001b[1m0s\u001b[0m 29ms/step - accuracy: 0.0930 - loss: 3.8541 - val_accuracy: 0.0556 - val_loss: 6.0865\n",
      "Epoch 41/150\n",
      "\u001b[1m3/3\u001b[0m \u001b[32m━━━━━━━━━━━━━━━━━━━━\u001b[0m\u001b[37m\u001b[0m \u001b[1m0s\u001b[0m 25ms/step - accuracy: 0.0975 - loss: 3.8286 - val_accuracy: 0.0556 - val_loss: 6.0744\n",
      "Epoch 42/150\n",
      "\u001b[1m3/3\u001b[0m \u001b[32m━━━━━━━━━━━━━━━━━━━━\u001b[0m\u001b[37m\u001b[0m \u001b[1m0s\u001b[0m 32ms/step - accuracy: 0.1353 - loss: 3.7531 - val_accuracy: 0.0556 - val_loss: 6.0807\n",
      "Epoch 43/150\n",
      "\u001b[1m3/3\u001b[0m \u001b[32m━━━━━━━━━━━━━━━━━━━━\u001b[0m\u001b[37m\u001b[0m \u001b[1m0s\u001b[0m 35ms/step - accuracy: 0.1047 - loss: 3.7854 - val_accuracy: 0.0556 - val_loss: 6.0799\n",
      "Epoch 44/150\n",
      "\u001b[1m3/3\u001b[0m \u001b[32m━━━━━━━━━━━━━━━━━━━━\u001b[0m\u001b[37m\u001b[0m \u001b[1m0s\u001b[0m 36ms/step - accuracy: 0.1463 - loss: 3.7767 - val_accuracy: 0.0556 - val_loss: 6.0664\n",
      "Epoch 45/150\n",
      "\u001b[1m3/3\u001b[0m \u001b[32m━━━━━━━━━━━━━━━━━━━━\u001b[0m\u001b[37m\u001b[0m \u001b[1m0s\u001b[0m 30ms/step - accuracy: 0.1118 - loss: 3.7936 - val_accuracy: 0.0556 - val_loss: 6.0235\n",
      "Epoch 46/150\n",
      "\u001b[1m3/3\u001b[0m \u001b[32m━━━━━━━━━━━━━━━━━━━━\u001b[0m\u001b[37m\u001b[0m \u001b[1m0s\u001b[0m 29ms/step - accuracy: 0.0852 - loss: 3.7858 - val_accuracy: 0.0556 - val_loss: 5.9974\n",
      "Epoch 47/150\n",
      "\u001b[1m3/3\u001b[0m \u001b[32m━━━━━━━━━━━━━━━━━━━━\u001b[0m\u001b[37m\u001b[0m \u001b[1m0s\u001b[0m 26ms/step - accuracy: 0.1196 - loss: 3.7473 - val_accuracy: 0.0556 - val_loss: 6.0076\n",
      "Epoch 48/150\n",
      "\u001b[1m3/3\u001b[0m \u001b[32m━━━━━━━━━━━━━━━━━━━━\u001b[0m\u001b[37m\u001b[0m \u001b[1m0s\u001b[0m 44ms/step - accuracy: 0.0852 - loss: 3.6738 - val_accuracy: 0.0556 - val_loss: 6.0439\n",
      "Epoch 49/150\n",
      "\u001b[1m3/3\u001b[0m \u001b[32m━━━━━━━━━━━━━━━━━━━━\u001b[0m\u001b[37m\u001b[0m \u001b[1m0s\u001b[0m 24ms/step - accuracy: 0.1040 - loss: 3.6659 - val_accuracy: 0.0556 - val_loss: 6.1016\n",
      "Epoch 50/150\n",
      "\u001b[1m3/3\u001b[0m \u001b[32m━━━━━━━━━━━━━━━━━━━━\u001b[0m\u001b[37m\u001b[0m \u001b[1m0s\u001b[0m 29ms/step - accuracy: 0.0787 - loss: 3.6589 - val_accuracy: 0.0556 - val_loss: 6.1808\n",
      "Epoch 51/150\n",
      "\u001b[1m3/3\u001b[0m \u001b[32m━━━━━━━━━━━━━━━━━━━━\u001b[0m\u001b[37m\u001b[0m \u001b[1m0s\u001b[0m 29ms/step - accuracy: 0.0930 - loss: 3.6835 - val_accuracy: 0.0556 - val_loss: 6.2563\n",
      "Epoch 52/150\n",
      "\u001b[1m3/3\u001b[0m \u001b[32m━━━━━━━━━━━━━━━━━━━━\u001b[0m\u001b[37m\u001b[0m \u001b[1m0s\u001b[0m 29ms/step - accuracy: 0.1502 - loss: 3.6004 - val_accuracy: 0.0556 - val_loss: 6.3299\n",
      "Epoch 53/150\n",
      "\u001b[1m3/3\u001b[0m \u001b[32m━━━━━━━━━━━━━━━━━━━━\u001b[0m\u001b[37m\u001b[0m \u001b[1m0s\u001b[0m 27ms/step - accuracy: 0.1275 - loss: 3.6171 - val_accuracy: 0.0556 - val_loss: 6.3854\n",
      "Epoch 54/150\n",
      "\u001b[1m3/3\u001b[0m \u001b[32m━━━━━━━━━━━━━━━━━━━━\u001b[0m\u001b[37m\u001b[0m \u001b[1m0s\u001b[0m 37ms/step - accuracy: 0.0845 - loss: 3.6114 - val_accuracy: 0.0556 - val_loss: 6.4561\n",
      "Epoch 55/150\n",
      "\u001b[1m3/3\u001b[0m \u001b[32m━━━━━━━━━━━━━━━━━━━━\u001b[0m\u001b[37m\u001b[0m \u001b[1m0s\u001b[0m 37ms/step - accuracy: 0.1268 - loss: 3.5239 - val_accuracy: 0.0556 - val_loss: 6.5299\n",
      "Epoch 56/150\n",
      "\u001b[1m3/3\u001b[0m \u001b[32m━━━━━━━━━━━━━━━━━━━━\u001b[0m\u001b[37m\u001b[0m \u001b[1m0s\u001b[0m 32ms/step - accuracy: 0.1008 - loss: 3.5519 - val_accuracy: 0.0556 - val_loss: 6.5522\n",
      "Epoch 57/150\n",
      "\u001b[1m3/3\u001b[0m \u001b[32m━━━━━━━━━━━━━━━━━━━━\u001b[0m\u001b[37m\u001b[0m \u001b[1m0s\u001b[0m 30ms/step - accuracy: 0.1762 - loss: 3.4129 - val_accuracy: 0.0556 - val_loss: 6.5411\n",
      "Epoch 58/150\n",
      "\u001b[1m3/3\u001b[0m \u001b[32m━━━━━━━━━━━━━━━━━━━━\u001b[0m\u001b[37m\u001b[0m \u001b[1m0s\u001b[0m 27ms/step - accuracy: 0.1144 - loss: 3.5190 - val_accuracy: 0.0556 - val_loss: 6.5205\n",
      "Epoch 59/150\n",
      "\u001b[1m3/3\u001b[0m \u001b[32m━━━━━━━━━━━━━━━━━━━━\u001b[0m\u001b[37m\u001b[0m \u001b[1m0s\u001b[0m 26ms/step - accuracy: 0.1417 - loss: 3.4862 - val_accuracy: 0.0556 - val_loss: 6.5165\n",
      "Epoch 60/150\n",
      "\u001b[1m3/3\u001b[0m \u001b[32m━━━━━━━━━━━━━━━━━━━━\u001b[0m\u001b[37m\u001b[0m \u001b[1m0s\u001b[0m 27ms/step - accuracy: 0.1300 - loss: 3.4095 - val_accuracy: 0.0556 - val_loss: 6.5422\n",
      "Epoch 61/150\n",
      "\u001b[1m3/3\u001b[0m \u001b[32m━━━━━━━━━━━━━━━━━━━━\u001b[0m\u001b[37m\u001b[0m \u001b[1m0s\u001b[0m 27ms/step - accuracy: 0.1196 - loss: 3.3843 - val_accuracy: 0.0556 - val_loss: 6.5601\n",
      "Epoch 62/150\n",
      "\u001b[1m3/3\u001b[0m \u001b[32m━━━━━━━━━━━━━━━━━━━━\u001b[0m\u001b[37m\u001b[0m \u001b[1m0s\u001b[0m 30ms/step - accuracy: 0.1300 - loss: 3.3669 - val_accuracy: 0.0556 - val_loss: 6.5456\n",
      "Epoch 63/150\n",
      "\u001b[1m3/3\u001b[0m \u001b[32m━━━━━━━━━━━━━━━━━━━━\u001b[0m\u001b[37m\u001b[0m \u001b[1m0s\u001b[0m 29ms/step - accuracy: 0.1151 - loss: 3.3227 - val_accuracy: 0.0556 - val_loss: 6.5145\n",
      "Epoch 64/150\n",
      "\u001b[1m3/3\u001b[0m \u001b[32m━━━━━━━━━━━━━━━━━━━━\u001b[0m\u001b[37m\u001b[0m \u001b[1m0s\u001b[0m 28ms/step - accuracy: 0.2016 - loss: 3.3330 - val_accuracy: 0.0556 - val_loss: 6.4914\n",
      "Epoch 65/150\n",
      "\u001b[1m3/3\u001b[0m \u001b[32m━━━━━━━━━━━━━━━━━━━━\u001b[0m\u001b[37m\u001b[0m \u001b[1m0s\u001b[0m 26ms/step - accuracy: 0.1482 - loss: 3.2466 - val_accuracy: 0.0556 - val_loss: 6.5199\n",
      "Epoch 66/150\n",
      "\u001b[1m3/3\u001b[0m \u001b[32m━━━━━━━━━━━━━━━━━━━━\u001b[0m\u001b[37m\u001b[0m \u001b[1m0s\u001b[0m 34ms/step - accuracy: 0.1905 - loss: 3.2125 - val_accuracy: 0.0556 - val_loss: 6.5791\n",
      "Epoch 67/150\n",
      "\u001b[1m3/3\u001b[0m \u001b[32m━━━━━━━━━━━━━━━━━━━━\u001b[0m\u001b[37m\u001b[0m \u001b[1m0s\u001b[0m 36ms/step - accuracy: 0.2243 - loss: 3.2125 - val_accuracy: 0.0556 - val_loss: 6.6442\n",
      "Epoch 68/150\n",
      "\u001b[1m3/3\u001b[0m \u001b[32m━━━━━━━━━━━━━━━━━━━━\u001b[0m\u001b[37m\u001b[0m \u001b[1m0s\u001b[0m 27ms/step - accuracy: 0.1788 - loss: 3.2209 - val_accuracy: 0.0556 - val_loss: 6.6962\n",
      "Epoch 69/150\n",
      "\u001b[1m3/3\u001b[0m \u001b[32m━━━━━━━━━━━━━━━━━━━━\u001b[0m\u001b[37m\u001b[0m \u001b[1m0s\u001b[0m 29ms/step - accuracy: 0.2250 - loss: 3.0699 - val_accuracy: 0.0556 - val_loss: 6.7320\n",
      "Epoch 70/150\n",
      "\u001b[1m3/3\u001b[0m \u001b[32m━━━━━━━━━━━━━━━━━━━━\u001b[0m\u001b[37m\u001b[0m \u001b[1m0s\u001b[0m 29ms/step - accuracy: 0.2218 - loss: 3.0767 - val_accuracy: 0.0556 - val_loss: 6.7469\n",
      "Epoch 71/150\n",
      "\u001b[1m3/3\u001b[0m \u001b[32m━━━━━━━━━━━━━━━━━━━━\u001b[0m\u001b[37m\u001b[0m \u001b[1m0s\u001b[0m 26ms/step - accuracy: 0.1567 - loss: 3.0726 - val_accuracy: 0.0556 - val_loss: 6.7621\n",
      "Epoch 72/150\n",
      "\u001b[1m3/3\u001b[0m \u001b[32m━━━━━━━━━━━━━━━━━━━━\u001b[0m\u001b[37m\u001b[0m \u001b[1m0s\u001b[0m 29ms/step - accuracy: 0.2497 - loss: 3.0666 - val_accuracy: 0.0556 - val_loss: 6.8071\n",
      "Epoch 73/150\n",
      "\u001b[1m3/3\u001b[0m \u001b[32m━━━━━━━━━━━━━━━━━━━━\u001b[0m\u001b[37m\u001b[0m \u001b[1m0s\u001b[0m 29ms/step - accuracy: 0.2009 - loss: 2.9560 - val_accuracy: 0.0556 - val_loss: 6.8585\n",
      "Epoch 74/150\n",
      "\u001b[1m3/3\u001b[0m \u001b[32m━━━━━━━━━━━━━━━━━━━━\u001b[0m\u001b[37m\u001b[0m \u001b[1m0s\u001b[0m 34ms/step - accuracy: 0.2718 - loss: 2.9258 - val_accuracy: 0.0556 - val_loss: 6.8894\n",
      "Epoch 75/150\n",
      "\u001b[1m3/3\u001b[0m \u001b[32m━━━━━━━━━━━━━━━━━━━━\u001b[0m\u001b[37m\u001b[0m \u001b[1m0s\u001b[0m 37ms/step - accuracy: 0.2731 - loss: 2.8893 - val_accuracy: 0.0556 - val_loss: 6.9065\n",
      "Epoch 76/150\n",
      "\u001b[1m3/3\u001b[0m \u001b[32m━━━━━━━━━━━━━━━━━━━━\u001b[0m\u001b[37m\u001b[0m \u001b[1m0s\u001b[0m 29ms/step - accuracy: 0.2796 - loss: 2.9124 - val_accuracy: 0.0556 - val_loss: 6.9345\n",
      "Epoch 77/150\n",
      "\u001b[1m3/3\u001b[0m \u001b[32m━━━━━━━━━━━━━━━━━━━━\u001b[0m\u001b[37m\u001b[0m \u001b[1m0s\u001b[0m 28ms/step - accuracy: 0.2621 - loss: 2.7996 - val_accuracy: 0.0556 - val_loss: 6.9403\n",
      "Epoch 78/150\n",
      "\u001b[1m3/3\u001b[0m \u001b[32m━━━━━━━━━━━━━━━━━━━━\u001b[0m\u001b[37m\u001b[0m \u001b[1m0s\u001b[0m 29ms/step - accuracy: 0.2685 - loss: 2.7638 - val_accuracy: 0.0556 - val_loss: 6.9376\n",
      "Epoch 79/150\n",
      "\u001b[1m3/3\u001b[0m \u001b[32m━━━━━━━━━━━━━━━━━━━━\u001b[0m\u001b[37m\u001b[0m \u001b[1m0s\u001b[0m 35ms/step - accuracy: 0.3127 - loss: 2.7099 - val_accuracy: 0.0556 - val_loss: 6.9641\n",
      "Epoch 80/150\n",
      "\u001b[1m3/3\u001b[0m \u001b[32m━━━━━━━━━━━━━━━━━━━━\u001b[0m\u001b[37m\u001b[0m \u001b[1m0s\u001b[0m 34ms/step - accuracy: 0.3095 - loss: 2.7049 - val_accuracy: 0.0556 - val_loss: 7.0229\n",
      "Epoch 81/150\n",
      "\u001b[1m3/3\u001b[0m \u001b[32m━━━━━━━━━━━━━━━━━━━━\u001b[0m\u001b[37m\u001b[0m \u001b[1m0s\u001b[0m 29ms/step - accuracy: 0.2016 - loss: 2.6962 - val_accuracy: 0.0556 - val_loss: 7.0940\n",
      "Epoch 82/150\n",
      "\u001b[1m3/3\u001b[0m \u001b[32m━━━━━━━━━━━━━━━━━━━━\u001b[0m\u001b[37m\u001b[0m \u001b[1m0s\u001b[0m 32ms/step - accuracy: 0.3465 - loss: 2.6302 - val_accuracy: 0.0556 - val_loss: 7.1373\n",
      "Epoch 83/150\n",
      "\u001b[1m3/3\u001b[0m \u001b[32m━━━━━━━━━━━━━━━━━━━━\u001b[0m\u001b[37m\u001b[0m \u001b[1m0s\u001b[0m 34ms/step - accuracy: 0.3081 - loss: 2.5797 - val_accuracy: 0.0556 - val_loss: 7.1740\n",
      "Epoch 84/150\n",
      "\u001b[1m3/3\u001b[0m \u001b[32m━━━━━━━━━━━━━━━━━━━━\u001b[0m\u001b[37m\u001b[0m \u001b[1m0s\u001b[0m 34ms/step - accuracy: 0.2497 - loss: 2.6213 - val_accuracy: 0.0556 - val_loss: 7.1958\n",
      "Epoch 85/150\n",
      "\u001b[1m3/3\u001b[0m \u001b[32m━━━━━━━━━━━━━━━━━━━━\u001b[0m\u001b[37m\u001b[0m \u001b[1m0s\u001b[0m 26ms/step - accuracy: 0.3778 - loss: 2.4658 - val_accuracy: 0.0556 - val_loss: 7.1983\n",
      "Epoch 86/150\n",
      "\u001b[1m3/3\u001b[0m \u001b[32m━━━━━━━━━━━━━━━━━━━━\u001b[0m\u001b[37m\u001b[0m \u001b[1m0s\u001b[0m 30ms/step - accuracy: 0.2607 - loss: 2.5322 - val_accuracy: 0.0556 - val_loss: 7.1777\n",
      "Epoch 87/150\n",
      "\u001b[1m3/3\u001b[0m \u001b[32m━━━━━━━━━━━━━━━━━━━━\u001b[0m\u001b[37m\u001b[0m \u001b[1m0s\u001b[0m 30ms/step - accuracy: 0.5013 - loss: 2.3624 - val_accuracy: 0.0556 - val_loss: 7.1513\n",
      "Epoch 88/150\n",
      "\u001b[1m3/3\u001b[0m \u001b[32m━━━━━━━━━━━━━━━━━━━━\u001b[0m\u001b[37m\u001b[0m \u001b[1m0s\u001b[0m 31ms/step - accuracy: 0.3661 - loss: 2.4844 - val_accuracy: 0.0556 - val_loss: 7.1255\n",
      "Epoch 89/150\n",
      "\u001b[1m3/3\u001b[0m \u001b[32m━━━━━━━━━━━━━━━━━━━━\u001b[0m\u001b[37m\u001b[0m \u001b[1m0s\u001b[0m 26ms/step - accuracy: 0.3725 - loss: 2.4058 - val_accuracy: 0.0556 - val_loss: 7.1093\n",
      "Epoch 90/150\n",
      "\u001b[1m3/3\u001b[0m \u001b[32m━━━━━━━━━━━━━━━━━━━━\u001b[0m\u001b[37m\u001b[0m \u001b[1m0s\u001b[0m 29ms/step - accuracy: 0.3725 - loss: 2.3697 - val_accuracy: 0.0556 - val_loss: 7.1153\n",
      "Epoch 91/150\n",
      "\u001b[1m3/3\u001b[0m \u001b[32m━━━━━━━━━━━━━━━━━━━━\u001b[0m\u001b[37m\u001b[0m \u001b[1m0s\u001b[0m 55ms/step - accuracy: 0.4116 - loss: 2.1936 - val_accuracy: 0.0556 - val_loss: 7.1079\n",
      "Epoch 92/150\n",
      "\u001b[1m3/3\u001b[0m \u001b[32m━━━━━━━━━━━━━━━━━━━━\u001b[0m\u001b[37m\u001b[0m \u001b[1m0s\u001b[0m 29ms/step - accuracy: 0.3810 - loss: 2.2394 - val_accuracy: 0.0556 - val_loss: 7.1134\n",
      "Epoch 93/150\n",
      "\u001b[1m3/3\u001b[0m \u001b[32m━━━━━━━━━━━━━━━━━━━━\u001b[0m\u001b[37m\u001b[0m \u001b[1m0s\u001b[0m 27ms/step - accuracy: 0.4064 - loss: 2.2004 - val_accuracy: 0.0556 - val_loss: 7.1380\n",
      "Epoch 94/150\n",
      "\u001b[1m3/3\u001b[0m \u001b[32m━━━━━━━━━━━━━━━━━━━━\u001b[0m\u001b[37m\u001b[0m \u001b[1m0s\u001b[0m 42ms/step - accuracy: 0.5007 - loss: 2.0632 - val_accuracy: 0.0556 - val_loss: 7.1998\n",
      "Epoch 95/150\n",
      "\u001b[1m3/3\u001b[0m \u001b[32m━━━━━━━━━━━━━━━━━━━━\u001b[0m\u001b[37m\u001b[0m \u001b[1m0s\u001b[0m 34ms/step - accuracy: 0.5007 - loss: 2.2148 - val_accuracy: 0.0556 - val_loss: 7.2521\n",
      "Epoch 96/150\n",
      "\u001b[1m3/3\u001b[0m \u001b[32m━━━━━━━━━━━━━━━━━━━━\u001b[0m\u001b[37m\u001b[0m \u001b[1m0s\u001b[0m 34ms/step - accuracy: 0.4480 - loss: 2.1079 - val_accuracy: 0.0556 - val_loss: 7.3107\n",
      "Epoch 97/150\n",
      "\u001b[1m3/3\u001b[0m \u001b[32m━━━━━━━━━━━━━━━━━━━━\u001b[0m\u001b[37m\u001b[0m \u001b[1m0s\u001b[0m 27ms/step - accuracy: 0.4161 - loss: 2.1332 - val_accuracy: 0.0556 - val_loss: 7.3557\n",
      "Epoch 98/150\n",
      "\u001b[1m3/3\u001b[0m \u001b[32m━━━━━━━━━━━━━━━━━━━━\u001b[0m\u001b[37m\u001b[0m \u001b[1m0s\u001b[0m 28ms/step - accuracy: 0.5943 - loss: 1.9499 - val_accuracy: 0.0556 - val_loss: 7.3755\n",
      "Epoch 99/150\n",
      "\u001b[1m3/3\u001b[0m \u001b[32m━━━━━━━━━━━━━━━━━━━━\u001b[0m\u001b[37m\u001b[0m \u001b[1m0s\u001b[0m 30ms/step - accuracy: 0.4850 - loss: 1.9514 - val_accuracy: 0.0556 - val_loss: 7.3886\n",
      "Epoch 100/150\n",
      "\u001b[1m3/3\u001b[0m \u001b[32m━━━━━━━━━━━━━━━━━━━━\u001b[0m\u001b[37m\u001b[0m \u001b[1m0s\u001b[0m 24ms/step - accuracy: 0.5923 - loss: 1.9392 - val_accuracy: 0.0556 - val_loss: 7.3982\n",
      "Epoch 101/150\n",
      "\u001b[1m3/3\u001b[0m \u001b[32m━━━━━━━━━━━━━━━━━━━━\u001b[0m\u001b[37m\u001b[0m \u001b[1m0s\u001b[0m 26ms/step - accuracy: 0.5520 - loss: 1.9548 - val_accuracy: 0.0556 - val_loss: 7.4142\n",
      "Epoch 102/150\n",
      "\u001b[1m3/3\u001b[0m \u001b[32m━━━━━━━━━━━━━━━━━━━━\u001b[0m\u001b[37m\u001b[0m \u001b[1m0s\u001b[0m 34ms/step - accuracy: 0.4246 - loss: 1.9960 - val_accuracy: 0.0556 - val_loss: 7.4173\n",
      "Epoch 103/150\n",
      "\u001b[1m3/3\u001b[0m \u001b[32m━━━━━━━━━━━━━━━━━━━━\u001b[0m\u001b[37m\u001b[0m \u001b[1m0s\u001b[0m 31ms/step - accuracy: 0.5435 - loss: 1.8935 - val_accuracy: 0.0556 - val_loss: 7.4538\n",
      "Epoch 104/150\n",
      "\u001b[1m3/3\u001b[0m \u001b[32m━━━━━━━━━━━━━━━━━━━━\u001b[0m\u001b[37m\u001b[0m \u001b[1m0s\u001b[0m 41ms/step - accuracy: 0.5631 - loss: 1.8742 - val_accuracy: 0.0556 - val_loss: 7.4628\n",
      "Epoch 105/150\n",
      "\u001b[1m3/3\u001b[0m \u001b[32m━━━━━━━━━━━━━━━━━━━━\u001b[0m\u001b[37m\u001b[0m \u001b[1m0s\u001b[0m 28ms/step - accuracy: 0.5007 - loss: 1.8251 - val_accuracy: 0.0556 - val_loss: 7.4504\n",
      "Epoch 106/150\n",
      "\u001b[1m3/3\u001b[0m \u001b[32m━━━━━━━━━━━━━━━━━━━━\u001b[0m\u001b[37m\u001b[0m \u001b[1m0s\u001b[0m 29ms/step - accuracy: 0.5833 - loss: 1.6680 - val_accuracy: 0.0556 - val_loss: 7.4383\n",
      "Epoch 107/150\n",
      "\u001b[1m3/3\u001b[0m \u001b[32m━━━━━━━━━━━━━━━━━━━━\u001b[0m\u001b[37m\u001b[0m \u001b[1m0s\u001b[0m 32ms/step - accuracy: 0.5338 - loss: 1.7276 - val_accuracy: 0.0556 - val_loss: 7.4491\n",
      "Epoch 108/150\n",
      "\u001b[1m3/3\u001b[0m \u001b[32m━━━━━━━━━━━━━━━━━━━━\u001b[0m\u001b[37m\u001b[0m \u001b[1m0s\u001b[0m 26ms/step - accuracy: 0.6190 - loss: 1.6815 - val_accuracy: 0.0556 - val_loss: 7.4721\n",
      "Epoch 109/150\n",
      "\u001b[1m3/3\u001b[0m \u001b[32m━━━━━━━━━━━━━━━━━━━━\u001b[0m\u001b[37m\u001b[0m \u001b[1m0s\u001b[0m 27ms/step - accuracy: 0.6723 - loss: 1.6228 - val_accuracy: 0.0556 - val_loss: 7.4948\n",
      "Epoch 110/150\n",
      "\u001b[1m3/3\u001b[0m \u001b[32m━━━━━━━━━━━━━━━━━━━━\u001b[0m\u001b[37m\u001b[0m \u001b[1m0s\u001b[0m 27ms/step - accuracy: 0.5331 - loss: 1.6818 - val_accuracy: 0.0556 - val_loss: 7.5017\n",
      "Epoch 111/150\n",
      "\u001b[1m3/3\u001b[0m \u001b[32m━━━━━━━━━━━━━━━━━━━━\u001b[0m\u001b[37m\u001b[0m \u001b[1m0s\u001b[0m 31ms/step - accuracy: 0.6378 - loss: 1.6341 - val_accuracy: 0.0556 - val_loss: 7.5277\n",
      "Epoch 112/150\n",
      "\u001b[1m3/3\u001b[0m \u001b[32m━━━━━━━━━━━━━━━━━━━━\u001b[0m\u001b[37m\u001b[0m \u001b[1m0s\u001b[0m 34ms/step - accuracy: 0.6606 - loss: 1.6189 - val_accuracy: 0.0556 - val_loss: 7.5676\n",
      "Epoch 113/150\n",
      "\u001b[1m3/3\u001b[0m \u001b[32m━━━━━━━━━━━━━━━━━━━━\u001b[0m\u001b[37m\u001b[0m \u001b[1m0s\u001b[0m 24ms/step - accuracy: 0.6079 - loss: 1.5466 - val_accuracy: 0.0556 - val_loss: 7.5879\n",
      "Epoch 114/150\n",
      "\u001b[1m3/3\u001b[0m \u001b[32m━━━━━━━━━━━━━━━━━━━━\u001b[0m\u001b[37m\u001b[0m \u001b[1m0s\u001b[0m 37ms/step - accuracy: 0.6898 - loss: 1.5113 - val_accuracy: 0.0556 - val_loss: 7.5741\n",
      "Epoch 115/150\n",
      "\u001b[1m3/3\u001b[0m \u001b[32m━━━━━━━━━━━━━━━━━━━━\u001b[0m\u001b[37m\u001b[0m \u001b[1m0s\u001b[0m 28ms/step - accuracy: 0.6691 - loss: 1.5067 - val_accuracy: 0.0556 - val_loss: 7.6168\n",
      "Epoch 116/150\n",
      "\u001b[1m3/3\u001b[0m \u001b[32m━━━━━━━━━━━━━━━━━━━━\u001b[0m\u001b[37m\u001b[0m \u001b[1m0s\u001b[0m 27ms/step - accuracy: 0.6528 - loss: 1.4817 - val_accuracy: 0.0556 - val_loss: 7.6551\n",
      "Epoch 117/150\n",
      "\u001b[1m3/3\u001b[0m \u001b[32m━━━━━━━━━━━━━━━━━━━━\u001b[0m\u001b[37m\u001b[0m \u001b[1m0s\u001b[0m 30ms/step - accuracy: 0.7061 - loss: 1.4719 - val_accuracy: 0.0556 - val_loss: 7.6759\n",
      "Epoch 118/150\n",
      "\u001b[1m3/3\u001b[0m \u001b[32m━━━━━━━━━━━━━━━━━━━━\u001b[0m\u001b[37m\u001b[0m \u001b[1m0s\u001b[0m 30ms/step - accuracy: 0.7425 - loss: 1.4474 - val_accuracy: 0.0556 - val_loss: 7.6941\n",
      "Epoch 119/150\n",
      "\u001b[1m3/3\u001b[0m \u001b[32m━━━━━━━━━━━━━━━━━━━━\u001b[0m\u001b[37m\u001b[0m \u001b[1m0s\u001b[0m 30ms/step - accuracy: 0.7315 - loss: 1.4629 - val_accuracy: 0.0556 - val_loss: 7.7157\n",
      "Epoch 120/150\n",
      "\u001b[1m3/3\u001b[0m \u001b[32m━━━━━━━━━━━━━━━━━━━━\u001b[0m\u001b[37m\u001b[0m \u001b[1m0s\u001b[0m 24ms/step - accuracy: 0.7796 - loss: 1.2735 - val_accuracy: 0.0556 - val_loss: 7.7492\n",
      "Epoch 121/150\n",
      "\u001b[1m3/3\u001b[0m \u001b[32m━━━━━━━━━━━━━━━━━━━━\u001b[0m\u001b[37m\u001b[0m \u001b[1m0s\u001b[0m 26ms/step - accuracy: 0.7529 - loss: 1.3325 - val_accuracy: 0.0556 - val_loss: 7.7768\n",
      "Epoch 122/150\n",
      "\u001b[1m3/3\u001b[0m \u001b[32m━━━━━━━━━━━━━━━━━━━━\u001b[0m\u001b[37m\u001b[0m \u001b[1m0s\u001b[0m 30ms/step - accuracy: 0.7835 - loss: 1.3005 - val_accuracy: 0.0556 - val_loss: 7.7863\n",
      "Epoch 123/150\n",
      "\u001b[1m3/3\u001b[0m \u001b[32m━━━━━━━━━━━━━━━━━━━━\u001b[0m\u001b[37m\u001b[0m \u001b[1m0s\u001b[0m 29ms/step - accuracy: 0.7295 - loss: 1.3033 - val_accuracy: 0.0556 - val_loss: 7.7960\n",
      "Epoch 124/150\n",
      "\u001b[1m3/3\u001b[0m \u001b[32m━━━━━━━━━━━━━━━━━━━━\u001b[0m\u001b[37m\u001b[0m \u001b[1m0s\u001b[0m 30ms/step - accuracy: 0.7731 - loss: 1.2973 - val_accuracy: 0.0556 - val_loss: 7.8261\n",
      "Epoch 125/150\n",
      "\u001b[1m3/3\u001b[0m \u001b[32m━━━━━━━━━━━━━━━━━━━━\u001b[0m\u001b[37m\u001b[0m \u001b[1m0s\u001b[0m 38ms/step - accuracy: 0.7952 - loss: 1.3104 - val_accuracy: 0.0556 - val_loss: 7.8784\n",
      "Epoch 126/150\n",
      "\u001b[1m3/3\u001b[0m \u001b[32m━━━━━━━━━━━━━━━━━━━━\u001b[0m\u001b[37m\u001b[0m \u001b[1m0s\u001b[0m 29ms/step - accuracy: 0.7497 - loss: 1.1909 - val_accuracy: 0.0556 - val_loss: 7.9206\n",
      "Epoch 127/150\n",
      "\u001b[1m3/3\u001b[0m \u001b[32m━━━━━━━━━━━━━━━━━━━━\u001b[0m\u001b[37m\u001b[0m \u001b[1m0s\u001b[0m 29ms/step - accuracy: 0.8329 - loss: 1.1705 - val_accuracy: 0.0556 - val_loss: 7.9389\n",
      "Epoch 128/150\n",
      "\u001b[1m3/3\u001b[0m \u001b[32m━━━━━━━━━━━━━━━━━━━━\u001b[0m\u001b[37m\u001b[0m \u001b[1m0s\u001b[0m 25ms/step - accuracy: 0.7763 - loss: 1.2074 - val_accuracy: 0.0556 - val_loss: 7.9643\n",
      "Epoch 129/150\n",
      "\u001b[1m3/3\u001b[0m \u001b[32m━━━━━━━━━━━━━━━━━━━━\u001b[0m\u001b[37m\u001b[0m \u001b[1m0s\u001b[0m 30ms/step - accuracy: 0.8362 - loss: 1.2146 - val_accuracy: 0.0556 - val_loss: 7.9830\n",
      "Epoch 130/150\n",
      "\u001b[1m3/3\u001b[0m \u001b[32m━━━━━━━━━━━━━━━━━━━━\u001b[0m\u001b[37m\u001b[0m \u001b[1m0s\u001b[0m 32ms/step - accuracy: 0.8472 - loss: 1.0798 - val_accuracy: 0.0556 - val_loss: 7.9939\n",
      "Epoch 131/150\n",
      "\u001b[1m3/3\u001b[0m \u001b[32m━━━━━━━━━━━━━━━━━━━━\u001b[0m\u001b[37m\u001b[0m \u001b[1m0s\u001b[0m 28ms/step - accuracy: 0.8323 - loss: 1.1864 - val_accuracy: 0.0556 - val_loss: 8.0075\n",
      "Epoch 132/150\n",
      "\u001b[1m3/3\u001b[0m \u001b[32m━━━━━━━━━━━━━━━━━━━━\u001b[0m\u001b[37m\u001b[0m \u001b[1m0s\u001b[0m 34ms/step - accuracy: 0.7600 - loss: 1.1157 - val_accuracy: 0.0556 - val_loss: 8.0440\n",
      "Epoch 133/150\n",
      "\u001b[1m3/3\u001b[0m \u001b[32m━━━━━━━━━━━━━━━━━━━━\u001b[0m\u001b[37m\u001b[0m \u001b[1m0s\u001b[0m 27ms/step - accuracy: 0.8700 - loss: 1.0865 - val_accuracy: 0.0556 - val_loss: 8.1128\n",
      "Epoch 134/150\n",
      "\u001b[1m3/3\u001b[0m \u001b[32m━━━━━━━━━━━━━━━━━━━━\u001b[0m\u001b[37m\u001b[0m \u001b[1m0s\u001b[0m 25ms/step - accuracy: 0.8212 - loss: 1.0803 - val_accuracy: 0.0556 - val_loss: 8.1679\n",
      "Epoch 135/150\n",
      "\u001b[1m3/3\u001b[0m \u001b[32m━━━━━━━━━━━━━━━━━━━━\u001b[0m\u001b[37m\u001b[0m \u001b[1m0s\u001b[0m 30ms/step - accuracy: 0.8017 - loss: 1.0976 - val_accuracy: 0.0556 - val_loss: 8.2175\n",
      "Epoch 136/150\n",
      "\u001b[1m3/3\u001b[0m \u001b[32m━━━━━━━━━━━━━━━━━━━━\u001b[0m\u001b[37m\u001b[0m \u001b[1m0s\u001b[0m 25ms/step - accuracy: 0.7763 - loss: 1.0715 - val_accuracy: 0.0556 - val_loss: 8.2493\n",
      "Epoch 137/150\n",
      "\u001b[1m3/3\u001b[0m \u001b[32m━━━━━━━━━━━━━━━━━━━━\u001b[0m\u001b[37m\u001b[0m \u001b[1m0s\u001b[0m 29ms/step - accuracy: 0.7991 - loss: 1.0151 - val_accuracy: 0.0556 - val_loss: 8.2742\n",
      "Epoch 138/150\n",
      "\u001b[1m3/3\u001b[0m \u001b[32m━━━━━━━━━━━━━━━━━━━━\u001b[0m\u001b[37m\u001b[0m \u001b[1m0s\u001b[0m 34ms/step - accuracy: 0.8544 - loss: 1.0694 - val_accuracy: 0.0556 - val_loss: 8.3005\n",
      "Epoch 139/150\n",
      "\u001b[1m3/3\u001b[0m \u001b[32m━━━━━━━━━━━━━━━━━━━━\u001b[0m\u001b[37m\u001b[0m \u001b[1m0s\u001b[0m 25ms/step - accuracy: 0.8205 - loss: 1.0082 - val_accuracy: 0.0556 - val_loss: 8.3043\n",
      "Epoch 140/150\n",
      "\u001b[1m3/3\u001b[0m \u001b[32m━━━━━━━━━━━━━━━━━━━━\u001b[0m\u001b[37m\u001b[0m \u001b[1m0s\u001b[0m 32ms/step - accuracy: 0.8804 - loss: 0.9996 - val_accuracy: 0.0556 - val_loss: 8.2896\n",
      "Epoch 141/150\n",
      "\u001b[1m3/3\u001b[0m \u001b[32m━━━━━━━━━━━━━━━━━━━━\u001b[0m\u001b[37m\u001b[0m \u001b[1m0s\u001b[0m 21ms/step - accuracy: 0.8504 - loss: 0.9543 - val_accuracy: 0.0556 - val_loss: 8.2839\n",
      "Epoch 142/150\n",
      "\u001b[1m3/3\u001b[0m \u001b[32m━━━━━━━━━━━━━━━━━━━━\u001b[0m\u001b[37m\u001b[0m \u001b[1m0s\u001b[0m 24ms/step - accuracy: 0.8283 - loss: 0.9661 - val_accuracy: 0.0556 - val_loss: 8.2984\n",
      "Epoch 143/150\n",
      "\u001b[1m3/3\u001b[0m \u001b[32m━━━━━━━━━━━━━━━━━━━━\u001b[0m\u001b[37m\u001b[0m \u001b[1m0s\u001b[0m 27ms/step - accuracy: 0.8953 - loss: 0.9428 - val_accuracy: 0.0556 - val_loss: 8.3349\n",
      "Epoch 144/150\n",
      "\u001b[1m3/3\u001b[0m \u001b[32m━━━━━━━━━━━━━━━━━━━━\u001b[0m\u001b[37m\u001b[0m \u001b[1m0s\u001b[0m 34ms/step - accuracy: 0.8693 - loss: 0.9477 - val_accuracy: 0.0556 - val_loss: 8.4041\n",
      "Epoch 145/150\n",
      "\u001b[1m3/3\u001b[0m \u001b[32m━━━━━━━━━━━━━━━━━━━━\u001b[0m\u001b[37m\u001b[0m \u001b[1m0s\u001b[0m 32ms/step - accuracy: 0.8771 - loss: 0.8353 - val_accuracy: 0.0556 - val_loss: 8.4687\n",
      "Epoch 146/150\n",
      "\u001b[1m3/3\u001b[0m \u001b[32m━━━━━━━━━━━━━━━━━━━━\u001b[0m\u001b[37m\u001b[0m \u001b[1m0s\u001b[0m 36ms/step - accuracy: 0.8693 - loss: 0.8922 - val_accuracy: 0.0556 - val_loss: 8.5045\n",
      "Epoch 147/150\n",
      "\u001b[1m3/3\u001b[0m \u001b[32m━━━━━━━━━━━━━━━━━━━━\u001b[0m\u001b[37m\u001b[0m \u001b[1m0s\u001b[0m 29ms/step - accuracy: 0.9025 - loss: 0.7720 - val_accuracy: 0.0556 - val_loss: 8.5000\n",
      "Epoch 148/150\n",
      "\u001b[1m3/3\u001b[0m \u001b[32m━━━━━━━━━━━━━━━━━━━━\u001b[0m\u001b[37m\u001b[0m \u001b[1m0s\u001b[0m 28ms/step - accuracy: 0.8283 - loss: 0.8559 - val_accuracy: 0.0556 - val_loss: 8.4809\n",
      "Epoch 149/150\n",
      "\u001b[1m3/3\u001b[0m \u001b[32m━━━━━━━━━━━━━━━━━━━━\u001b[0m\u001b[37m\u001b[0m \u001b[1m0s\u001b[0m 29ms/step - accuracy: 0.8700 - loss: 0.8270 - val_accuracy: 0.0556 - val_loss: 8.4953\n",
      "Epoch 150/150\n",
      "\u001b[1m3/3\u001b[0m \u001b[32m━━━━━━━━━━━━━━━━━━━━\u001b[0m\u001b[37m\u001b[0m \u001b[1m0s\u001b[0m 36ms/step - accuracy: 0.8511 - loss: 0.8169 - val_accuracy: 0.0556 - val_loss: 8.5126\n"
     ]
    }
   ],
   "source": [
    "history=model.fit(x_train,y_train,validation_split=(0.2),epochs=150,verbose=True)"
   ]
  },
  {
   "cell_type": "code",
   "execution_count": 76,
   "metadata": {},
   "outputs": [],
   "source": [
    "import matplotlib.pyplot as plt"
   ]
  },
  {
   "cell_type": "code",
   "execution_count": 77,
   "metadata": {},
   "outputs": [
    {
     "data": {
      "text/plain": [
       "[<matplotlib.lines.Line2D at 0x1116d942420>]"
      ]
     },
     "execution_count": 77,
     "metadata": {},
     "output_type": "execute_result"
    },
    {
     "data": {
      "image/png": "[encoded data removed]",
      "text/plain": [
       "<Figure size 640x480 with 1 Axes>"
      ]
     },
     "metadata": {},
     "output_type": "display_data"
    }
   ],
   "source": [
    "plt.plot(history.history['accuracy'])"
   ]
  },
  {
   "cell_type": "code",
   "execution_count": 78,
   "metadata": {},
   "outputs": [
    {
     "data": {
      "text/plain": [
       "[<matplotlib.lines.Line2D at 0x1116dd3bdd0>]"
      ]
     },
     "execution_count": 78,
     "metadata": {},
     "output_type": "execute_result"
    },
    {
     "data": {
      "image/png": "[encoded data removed]",
      "text/plain": [
       "<Figure size 640x480 with 1 Axes>"
      ]
     },
     "metadata": {},
     "output_type": "display_data"
    }
   ],
   "source": [
    "plt.plot(history.history['val_accuracy'])"
   ]
  },
  {
   "cell_type": "code",
   "execution_count": 79,
   "metadata": {},
   "outputs": [],
   "source": [
    "def prediction(data):\n",
    "    token=tokenizer.texts_to_sequences([data])[0]\n",
    "    if len(token)>max_length:\n",
    "        token=token[-(max_length):]\n",
    "    else:\n",
    "        pad_seq=np.array(pad_sequences([token],padding='pre',maxlen=max_length+1))\n",
    "        print(pad_seq)\n",
    "        pred=model.predict(pad_seq)\n",
    "        value=np.argmax(pred,axis=1)\n",
    "        for word,index in tokenizer.word_index.items():\n",
    "            if index==value:\n",
    "                return word\n",
    "        return None"
   ]
  },
  {
   "cell_type": "code",
   "execution_count": 92,
   "metadata": {},
   "outputs": [
    {
     "name": "stdout",
     "output_type": "stream",
     "text": [
      "[[ 0  0  0  0  0  0  0  0  0  0  0  0  0  1  2 70  9 71 12]]\n",
      "\u001b[1m1/1\u001b[0m \u001b[32m━━━━━━━━━━━━━━━━━━━━\u001b[0m\u001b[37m\u001b[0m \u001b[1m0s\u001b[0m 24ms/step\n",
      "data\n"
     ]
    }
   ],
   "source": [
    "input=\"Deep learning models learn directly from  \"\n",
    "print(prediction(input))"
   ]
  },
  {
   "cell_type": "code",
   "execution_count": 62,
   "metadata": {},
   "outputs": [
    {
     "name": "stdout",
     "output_type": "stream",
     "text": [
      "\n",
      "Deep Learning tutorial covers the basics and more advanced topics, \n",
      "making it perfect for beginners and those with experience. \n",
      "Whether you just starting or looking to expand your knowledge,\n",
      "this guide makes it easy to learn about the different technologies of Deep Learning.\n",
      "Deep Learning is a branch of Artificial Intelligence that enables machines to learn from large amounts of data.\n",
      "It uses neural networks with many layers to automatically find patterns and make predictions.\n",
      "It is very useful for tasks like image recognition, language translation, and speech processing.\n",
      "Deep learning models learn directly from data, without the need for manual feature extraction.\n",
      "Popular applications of Deep Learning include self-driving cars, chatbots, medical image analysis, and recommendation systems.\n",
      " "
     ]
    }
   ],
   "source": [
    "print(text,end=\" \")"
   ]
  },
  {
   "cell_type": "code",
   "execution_count": 93,
   "metadata": {},
   "outputs": [],
   "source": [
    "#gru have \n",
    "#rt =>reset gate,\n",
    "#zt =>update gate\n",
    "#ht=>temporary hidden state\n",
    "#it has no long term memory instead ht-1 will act as a both longterm and short term memory\n",
    "#reset gate resetting the information from the ht-1 in memory\n",
    "#temporary hidden state ht is coupling of update gate zt some information will be add in it\n",
    "# ht-1 ---->ht\n",
    "# update gate->candidate gate "
   ]
  }
 ],
 "metadata": {
  "kernelspec": {
   "display_name": "Python 3",
   "language": "python",
   "name": "python3"
  },
  "language_info": {
   "codemirror_mode": {
    "name": "ipython",
    "version": 3
   },
   "file_extension": ".py",
   "mimetype": "text/x-python",
   "name": "python",
   "nbconvert_exporter": "python",
   "pygments_lexer": "ipython3",
   "version": "3.12.2"
  }
 },
 "nbformat": 4,
 "nbformat_minor": 2
}
