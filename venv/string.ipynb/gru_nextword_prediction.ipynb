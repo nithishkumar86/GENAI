{
 "cells": [
  {
   "cell_type": "code",
   "execution_count": 2,
   "metadata": {},
   "outputs": [],
   "source": [
    "#gru using next word prediction in tensorflow with custom data"
   ]
  },
  {
   "cell_type": "code",
   "execution_count": 3,
   "metadata": {},
   "outputs": [],
   "source": [
    "import pandas as pd\n",
    "import numpy as np\n",
    "import tensorflow\n",
    "from tensorflow.keras.models import Sequential\n",
    "from tensorflow.keras.layers import Dense,Embedding,LSTM,Dropout,Activation,GRU\n",
    "from tensorflow.keras.utils import pad_sequences\n",
    "from tensorflow.keras.utils import to_categorical\n",
    "from tensorflow.keras.preprocessing.text import Tokenizer"
   ]
  },
  {
   "cell_type": "code",
   "execution_count": 4,
   "metadata": {},
   "outputs": [],
   "source": [
    "text=\"\"\"\n",
    "Deep Learning tutorial covers the basics and more advanced topics, \n",
    "making it perfect for beginners and those with experience. \n",
    "Whether you just starting or looking to expand your knowledge,\n",
    "this guide makes it easy to learn about the different technologies of Deep Learning.\n",
    "Deep Learning is a branch of Artificial Intelligence that enables machines to learn from large amounts of data.\n",
    "It uses neural networks with many layers to automatically find patterns and make predictions.\n",
    "It is very useful for tasks like image recognition, language translation, and speech processing.\n",
    "Deep learning models learn directly from data, without the need for manual feature extraction.\n",
    "Popular applications of Deep Learning include self-driving cars, chatbots, medical image analysis, and recommendation systems.\n",
    "\"\"\""
   ]
  },
  {
   "cell_type": "code",
   "execution_count": 5,
   "metadata": {},
   "outputs": [],
   "source": [
    "tokenizer=Tokenizer()"
   ]
  },
  {
   "cell_type": "code",
   "execution_count": 6,
   "metadata": {},
   "outputs": [],
   "source": [
    "tokenizer.fit_on_texts([text])"
   ]
  },
  {
   "cell_type": "code",
   "execution_count": 7,
   "metadata": {},
   "outputs": [
    {
     "data": {
      "text/plain": [
       "dict_items([('deep', 1), ('learning', 2), ('and', 3), ('it', 4), ('to', 5), ('of', 6), ('the', 7), ('for', 8), ('learn', 9), ('with', 10), ('is', 11), ('from', 12), ('data', 13), ('image', 14), ('tutorial', 15), ('covers', 16), ('basics', 17), ('more', 18), ('advanced', 19), ('topics', 20), ('making', 21), ('perfect', 22), ('beginners', 23), ('those', 24), ('experience', 25), ('whether', 26), ('you', 27), ('just', 28), ('starting', 29), ('or', 30), ('looking', 31), ('expand', 32), ('your', 33), ('knowledge', 34), ('this', 35), ('guide', 36), ('makes', 37), ('easy', 38), ('about', 39), ('different', 40), ('technologies', 41), ('a', 42), ('branch', 43), ('artificial', 44), ('intelligence', 45), ('that', 46), ('enables', 47), ('machines', 48), ('large', 49), ('amounts', 50), ('uses', 51), ('neural', 52), ('networks', 53), ('many', 54), ('layers', 55), ('automatically', 56), ('find', 57), ('patterns', 58), ('make', 59), ('predictions', 60), ('very', 61), ('useful', 62), ('tasks', 63), ('like', 64), ('recognition', 65), ('language', 66), ('translation', 67), ('speech', 68), ('processing', 69), ('models', 70), ('directly', 71), ('without', 72), ('need', 73), ('manual', 74), ('feature', 75), ('extraction', 76), ('popular', 77), ('applications', 78), ('include', 79), ('self', 80), ('driving', 81), ('cars', 82), ('chatbots', 83), ('medical', 84), ('analysis', 85), ('recommendation', 86), ('systems', 87)])"
      ]
     },
     "execution_count": 7,
     "metadata": {},
     "output_type": "execute_result"
    }
   ],
   "source": [
    "tokenizer.word_index.items()"
   ]
  },
  {
   "cell_type": "code",
   "execution_count": 8,
   "metadata": {},
   "outputs": [],
   "source": [
    "value={key:value for key,value in tokenizer.word_index.items()}"
   ]
  },
  {
   "cell_type": "code",
   "execution_count": 44,
   "metadata": {},
   "outputs": [
    {
     "data": {
      "text/plain": [
       "{'deep': 1,\n",
       " 'learning': 2,\n",
       " 'and': 3,\n",
       " 'it': 4,\n",
       " 'to': 5,\n",
       " 'of': 6,\n",
       " 'the': 7,\n",
       " 'for': 8,\n",
       " 'learn': 9,\n",
       " 'with': 10,\n",
       " 'is': 11,\n",
       " 'from': 12,\n",
       " 'data': 13,\n",
       " 'image': 14,\n",
       " 'tutorial': 15,\n",
       " 'covers': 16,\n",
       " 'basics': 17,\n",
       " 'more': 18,\n",
       " 'advanced': 19,\n",
       " 'topics': 20,\n",
       " 'making': 21,\n",
       " 'perfect': 22,\n",
       " 'beginners': 23,\n",
       " 'those': 24,\n",
       " 'experience': 25,\n",
       " 'whether': 26,\n",
       " 'you': 27,\n",
       " 'just': 28,\n",
       " 'starting': 29,\n",
       " 'or': 30,\n",
       " 'looking': 31,\n",
       " 'expand': 32,\n",
       " 'your': 33,\n",
       " 'knowledge': 34,\n",
       " 'this': 35,\n",
       " 'guide': 36,\n",
       " 'makes': 37,\n",
       " 'easy': 38,\n",
       " 'about': 39,\n",
       " 'different': 40,\n",
       " 'technologies': 41,\n",
       " 'a': 42,\n",
       " 'branch': 43,\n",
       " 'artificial': 44,\n",
       " 'intelligence': 45,\n",
       " 'that': 46,\n",
       " 'enables': 47,\n",
       " 'machines': 48,\n",
       " 'large': 49,\n",
       " 'amounts': 50,\n",
       " 'uses': 51,\n",
       " 'neural': 52,\n",
       " 'networks': 53,\n",
       " 'many': 54,\n",
       " 'layers': 55,\n",
       " 'automatically': 56,\n",
       " 'find': 57,\n",
       " 'patterns': 58,\n",
       " 'make': 59,\n",
       " 'predictions': 60,\n",
       " 'very': 61,\n",
       " 'useful': 62,\n",
       " 'tasks': 63,\n",
       " 'like': 64,\n",
       " 'recognition': 65,\n",
       " 'language': 66,\n",
       " 'translation': 67,\n",
       " 'speech': 68,\n",
       " 'processing': 69,\n",
       " 'models': 70,\n",
       " 'directly': 71,\n",
       " 'without': 72,\n",
       " 'need': 73,\n",
       " 'manual': 74,\n",
       " 'feature': 75,\n",
       " 'extraction': 76,\n",
       " 'popular': 77,\n",
       " 'applications': 78,\n",
       " 'include': 79,\n",
       " 'self': 80,\n",
       " 'driving': 81,\n",
       " 'cars': 82,\n",
       " 'chatbots': 83,\n",
       " 'medical': 84,\n",
       " 'analysis': 85,\n",
       " 'recommendation': 86,\n",
       " 'systems': 87}"
      ]
     },
     "execution_count": 44,
     "metadata": {},
     "output_type": "execute_result"
    }
   ],
   "source": [
    "value"
   ]
  },
  {
   "cell_type": "code",
   "execution_count": null,
   "metadata": {},
   "outputs": [],
   "source": [
    "value"
   ]
  },
  {
   "cell_type": "code",
   "execution_count": 9,
   "metadata": {},
   "outputs": [],
   "source": [
    "total_words=len(tokenizer.word_index)+1"
   ]
  },
  {
   "cell_type": "code",
   "execution_count": 10,
   "metadata": {},
   "outputs": [
    {
     "data": {
      "text/plain": [
       "88"
      ]
     },
     "execution_count": 10,
     "metadata": {},
     "output_type": "execute_result"
    }
   ],
   "source": [
    "total_words"
   ]
  },
  {
   "cell_type": "code",
   "execution_count": 11,
   "metadata": {},
   "outputs": [],
   "source": [
    "text_vector=[]\n",
    "for line in text.split('\\n'):\n",
    "    vector=tokenizer.texts_to_sequences([line])[0]\n",
    "    for i in range(1,len(vector)):\n",
    "        vec=vector[:i+1]\n",
    "        text_vector.append(vec)\n",
    "        "
   ]
  },
  {
   "cell_type": "code",
   "execution_count": 12,
   "metadata": {},
   "outputs": [
    {
     "data": {
      "text/plain": [
       "[[1, 2],\n",
       " [1, 2, 15],\n",
       " [1, 2, 15, 16],\n",
       " [1, 2, 15, 16, 7],\n",
       " [1, 2, 15, 16, 7, 17],\n",
       " [1, 2, 15, 16, 7, 17, 3],\n",
       " [1, 2, 15, 16, 7, 17, 3, 18],\n",
       " [1, 2, 15, 16, 7, 17, 3, 18, 19],\n",
       " [1, 2, 15, 16, 7, 17, 3, 18, 19, 20],\n",
       " [21, 4],\n",
       " [21, 4, 22],\n",
       " [21, 4, 22, 8],\n",
       " [21, 4, 22, 8, 23],\n",
       " [21, 4, 22, 8, 23, 3],\n",
       " [21, 4, 22, 8, 23, 3, 24],\n",
       " [21, 4, 22, 8, 23, 3, 24, 10],\n",
       " [21, 4, 22, 8, 23, 3, 24, 10, 25],\n",
       " [26, 27],\n",
       " [26, 27, 28],\n",
       " [26, 27, 28, 29],\n",
       " [26, 27, 28, 29, 30],\n",
       " [26, 27, 28, 29, 30, 31],\n",
       " [26, 27, 28, 29, 30, 31, 5],\n",
       " [26, 27, 28, 29, 30, 31, 5, 32],\n",
       " [26, 27, 28, 29, 30, 31, 5, 32, 33],\n",
       " [26, 27, 28, 29, 30, 31, 5, 32, 33, 34],\n",
       " [35, 36],\n",
       " [35, 36, 37],\n",
       " [35, 36, 37, 4],\n",
       " [35, 36, 37, 4, 38],\n",
       " [35, 36, 37, 4, 38, 5],\n",
       " [35, 36, 37, 4, 38, 5, 9],\n",
       " [35, 36, 37, 4, 38, 5, 9, 39],\n",
       " [35, 36, 37, 4, 38, 5, 9, 39, 7],\n",
       " [35, 36, 37, 4, 38, 5, 9, 39, 7, 40],\n",
       " [35, 36, 37, 4, 38, 5, 9, 39, 7, 40, 41],\n",
       " [35, 36, 37, 4, 38, 5, 9, 39, 7, 40, 41, 6],\n",
       " [35, 36, 37, 4, 38, 5, 9, 39, 7, 40, 41, 6, 1],\n",
       " [35, 36, 37, 4, 38, 5, 9, 39, 7, 40, 41, 6, 1, 2],\n",
       " [1, 2],\n",
       " [1, 2, 11],\n",
       " [1, 2, 11, 42],\n",
       " [1, 2, 11, 42, 43],\n",
       " [1, 2, 11, 42, 43, 6],\n",
       " [1, 2, 11, 42, 43, 6, 44],\n",
       " [1, 2, 11, 42, 43, 6, 44, 45],\n",
       " [1, 2, 11, 42, 43, 6, 44, 45, 46],\n",
       " [1, 2, 11, 42, 43, 6, 44, 45, 46, 47],\n",
       " [1, 2, 11, 42, 43, 6, 44, 45, 46, 47, 48],\n",
       " [1, 2, 11, 42, 43, 6, 44, 45, 46, 47, 48, 5],\n",
       " [1, 2, 11, 42, 43, 6, 44, 45, 46, 47, 48, 5, 9],\n",
       " [1, 2, 11, 42, 43, 6, 44, 45, 46, 47, 48, 5, 9, 12],\n",
       " [1, 2, 11, 42, 43, 6, 44, 45, 46, 47, 48, 5, 9, 12, 49],\n",
       " [1, 2, 11, 42, 43, 6, 44, 45, 46, 47, 48, 5, 9, 12, 49, 50],\n",
       " [1, 2, 11, 42, 43, 6, 44, 45, 46, 47, 48, 5, 9, 12, 49, 50, 6],\n",
       " [1, 2, 11, 42, 43, 6, 44, 45, 46, 47, 48, 5, 9, 12, 49, 50, 6, 13],\n",
       " [4, 51],\n",
       " [4, 51, 52],\n",
       " [4, 51, 52, 53],\n",
       " [4, 51, 52, 53, 10],\n",
       " [4, 51, 52, 53, 10, 54],\n",
       " [4, 51, 52, 53, 10, 54, 55],\n",
       " [4, 51, 52, 53, 10, 54, 55, 5],\n",
       " [4, 51, 52, 53, 10, 54, 55, 5, 56],\n",
       " [4, 51, 52, 53, 10, 54, 55, 5, 56, 57],\n",
       " [4, 51, 52, 53, 10, 54, 55, 5, 56, 57, 58],\n",
       " [4, 51, 52, 53, 10, 54, 55, 5, 56, 57, 58, 3],\n",
       " [4, 51, 52, 53, 10, 54, 55, 5, 56, 57, 58, 3, 59],\n",
       " [4, 51, 52, 53, 10, 54, 55, 5, 56, 57, 58, 3, 59, 60],\n",
       " [4, 11],\n",
       " [4, 11, 61],\n",
       " [4, 11, 61, 62],\n",
       " [4, 11, 61, 62, 8],\n",
       " [4, 11, 61, 62, 8, 63],\n",
       " [4, 11, 61, 62, 8, 63, 64],\n",
       " [4, 11, 61, 62, 8, 63, 64, 14],\n",
       " [4, 11, 61, 62, 8, 63, 64, 14, 65],\n",
       " [4, 11, 61, 62, 8, 63, 64, 14, 65, 66],\n",
       " [4, 11, 61, 62, 8, 63, 64, 14, 65, 66, 67],\n",
       " [4, 11, 61, 62, 8, 63, 64, 14, 65, 66, 67, 3],\n",
       " [4, 11, 61, 62, 8, 63, 64, 14, 65, 66, 67, 3, 68],\n",
       " [4, 11, 61, 62, 8, 63, 64, 14, 65, 66, 67, 3, 68, 69],\n",
       " [1, 2],\n",
       " [1, 2, 70],\n",
       " [1, 2, 70, 9],\n",
       " [1, 2, 70, 9, 71],\n",
       " [1, 2, 70, 9, 71, 12],\n",
       " [1, 2, 70, 9, 71, 12, 13],\n",
       " [1, 2, 70, 9, 71, 12, 13, 72],\n",
       " [1, 2, 70, 9, 71, 12, 13, 72, 7],\n",
       " [1, 2, 70, 9, 71, 12, 13, 72, 7, 73],\n",
       " [1, 2, 70, 9, 71, 12, 13, 72, 7, 73, 8],\n",
       " [1, 2, 70, 9, 71, 12, 13, 72, 7, 73, 8, 74],\n",
       " [1, 2, 70, 9, 71, 12, 13, 72, 7, 73, 8, 74, 75],\n",
       " [1, 2, 70, 9, 71, 12, 13, 72, 7, 73, 8, 74, 75, 76],\n",
       " [77, 78],\n",
       " [77, 78, 6],\n",
       " [77, 78, 6, 1],\n",
       " [77, 78, 6, 1, 2],\n",
       " [77, 78, 6, 1, 2, 79],\n",
       " [77, 78, 6, 1, 2, 79, 80],\n",
       " [77, 78, 6, 1, 2, 79, 80, 81],\n",
       " [77, 78, 6, 1, 2, 79, 80, 81, 82],\n",
       " [77, 78, 6, 1, 2, 79, 80, 81, 82, 83],\n",
       " [77, 78, 6, 1, 2, 79, 80, 81, 82, 83, 84],\n",
       " [77, 78, 6, 1, 2, 79, 80, 81, 82, 83, 84, 14],\n",
       " [77, 78, 6, 1, 2, 79, 80, 81, 82, 83, 84, 14, 85],\n",
       " [77, 78, 6, 1, 2, 79, 80, 81, 82, 83, 84, 14, 85, 3],\n",
       " [77, 78, 6, 1, 2, 79, 80, 81, 82, 83, 84, 14, 85, 3, 86],\n",
       " [77, 78, 6, 1, 2, 79, 80, 81, 82, 83, 84, 14, 85, 3, 86, 87]]"
      ]
     },
     "execution_count": 12,
     "metadata": {},
     "output_type": "execute_result"
    }
   ],
   "source": [
    "text_vector"
   ]
  },
  {
   "cell_type": "code",
   "execution_count": 13,
   "metadata": {},
   "outputs": [],
   "source": [
    "max_length=max([len(i) for i in text_vector])"
   ]
  },
  {
   "cell_type": "code",
   "execution_count": 14,
   "metadata": {},
   "outputs": [
    {
     "data": {
      "text/plain": [
       "18"
      ]
     },
     "execution_count": 14,
     "metadata": {},
     "output_type": "execute_result"
    }
   ],
   "source": [
    "max_length"
   ]
  },
  {
   "cell_type": "code",
   "execution_count": 15,
   "metadata": {},
   "outputs": [],
   "source": [
    "pad=np.array(pad_sequences(text_vector,padding='pre',maxlen=max_length))"
   ]
  },
  {
   "cell_type": "code",
   "execution_count": 16,
   "metadata": {},
   "outputs": [
    {
     "data": {
      "text/plain": [
       "array([[ 0,  0,  0, ...,  0,  1,  2],\n",
       "       [ 0,  0,  0, ...,  1,  2, 15],\n",
       "       [ 0,  0,  0, ...,  2, 15, 16],\n",
       "       ...,\n",
       "       [ 0,  0,  0, ..., 14, 85,  3],\n",
       "       [ 0,  0,  0, ..., 85,  3, 86],\n",
       "       [ 0,  0, 77, ...,  3, 86, 87]])"
      ]
     },
     "execution_count": 16,
     "metadata": {},
     "output_type": "execute_result"
    }
   ],
   "source": [
    "pad"
   ]
  },
  {
   "cell_type": "code",
   "execution_count": 17,
   "metadata": {},
   "outputs": [],
   "source": [
    "x=pad[:,:-1]"
   ]
  },
  {
   "cell_type": "code",
   "execution_count": 18,
   "metadata": {},
   "outputs": [
    {
     "data": {
      "text/plain": [
       "array([[ 0,  0,  0, ...,  0,  0,  1],\n",
       "       [ 0,  0,  0, ...,  0,  1,  2],\n",
       "       [ 0,  0,  0, ...,  1,  2, 15],\n",
       "       ...,\n",
       "       [ 0,  0,  0, ..., 84, 14, 85],\n",
       "       [ 0,  0,  0, ..., 14, 85,  3],\n",
       "       [ 0,  0, 77, ..., 85,  3, 86]])"
      ]
     },
     "execution_count": 18,
     "metadata": {},
     "output_type": "execute_result"
    }
   ],
   "source": [
    "x"
   ]
  },
  {
   "cell_type": "code",
   "execution_count": 19,
   "metadata": {},
   "outputs": [],
   "source": [
    "y=pad[:,-1]"
   ]
  },
  {
   "cell_type": "code",
   "execution_count": 20,
   "metadata": {},
   "outputs": [
    {
     "data": {
      "text/plain": [
       "array([ 2, 15, 16,  7, 17,  3, 18, 19, 20,  4, 22,  8, 23,  3, 24, 10, 25,\n",
       "       27, 28, 29, 30, 31,  5, 32, 33, 34, 36, 37,  4, 38,  5,  9, 39,  7,\n",
       "       40, 41,  6,  1,  2,  2, 11, 42, 43,  6, 44, 45, 46, 47, 48,  5,  9,\n",
       "       12, 49, 50,  6, 13, 51, 52, 53, 10, 54, 55,  5, 56, 57, 58,  3, 59,\n",
       "       60, 11, 61, 62,  8, 63, 64, 14, 65, 66, 67,  3, 68, 69,  2, 70,  9,\n",
       "       71, 12, 13, 72,  7, 73,  8, 74, 75, 76, 78,  6,  1,  2, 79, 80, 81,\n",
       "       82, 83, 84, 14, 85,  3, 86, 87])"
      ]
     },
     "execution_count": 20,
     "metadata": {},
     "output_type": "execute_result"
    }
   ],
   "source": [
    "y"
   ]
  },
  {
   "cell_type": "code",
   "execution_count": 21,
   "metadata": {},
   "outputs": [],
   "source": [
    "y=np.array(to_categorical(y,num_classes=total_words))"
   ]
  },
  {
   "cell_type": "code",
   "execution_count": 22,
   "metadata": {},
   "outputs": [
    {
     "data": {
      "text/plain": [
       "array([[0., 0., 1., ..., 0., 0., 0.],\n",
       "       [0., 0., 0., ..., 0., 0., 0.],\n",
       "       [0., 0., 0., ..., 0., 0., 0.],\n",
       "       ...,\n",
       "       [0., 0., 0., ..., 0., 0., 0.],\n",
       "       [0., 0., 0., ..., 0., 1., 0.],\n",
       "       [0., 0., 0., ..., 0., 0., 1.]])"
      ]
     },
     "execution_count": 22,
     "metadata": {},
     "output_type": "execute_result"
    }
   ],
   "source": [
    "y"
   ]
  },
  {
   "cell_type": "code",
   "execution_count": 23,
   "metadata": {},
   "outputs": [
    {
     "data": {
      "text/plain": [
       "88"
      ]
     },
     "execution_count": 23,
     "metadata": {},
     "output_type": "execute_result"
    }
   ],
   "source": [
    "y.shape[1]"
   ]
  },
  {
   "cell_type": "code",
   "execution_count": 24,
   "metadata": {},
   "outputs": [
    {
     "name": "stderr",
     "output_type": "stream",
     "text": [
      "c:\\Users\\user\\AppData\\Local\\Programs\\Python\\Python312\\Lib\\site-packages\\keras\\src\\layers\\core\\embedding.py:90: UserWarning: Argument `input_length` is deprecated. Just remove it.\n",
      "  warnings.warn(\n"
     ]
    }
   ],
   "source": [
    "model=Sequential()\n",
    "model.add(Embedding(total_words,50,input_length=max_length-1))\n",
    "model.add(GRU(32,return_sequences=True))\n",
    "model.add(Dropout(0.2))\n",
    "model.add(GRU(64))\n",
    "model.add(Dropout(0.2))\n",
    "model.add(Dense(y.shape[1],activation='softmax'))"
   ]
  },
  {
   "cell_type": "code",
   "execution_count": 25,
   "metadata": {},
   "outputs": [],
   "source": [
    "model.compile(loss=\"categorical_crossentropy\",optimizer='adam',metrics=['accuracy'])"
   ]
  },
  {
   "cell_type": "code",
   "execution_count": 26,
   "metadata": {},
   "outputs": [],
   "source": [
    "from sklearn.model_selection import train_test_split"
   ]
  },
  {
   "cell_type": "code",
   "execution_count": 27,
   "metadata": {},
   "outputs": [],
   "source": [
    "x_train,x_test,y_train,y_test=train_test_split(x,y,test_size=0.2,random_state=11)"
   ]
  },
  {
   "cell_type": "code",
   "execution_count": 28,
   "metadata": {},
   "outputs": [
    {
     "data": {
      "text/plain": [
       "((88, 17), (22, 17), (88, 88), (22, 88))"
      ]
     },
     "execution_count": 28,
     "metadata": {},
     "output_type": "execute_result"
    }
   ],
   "source": [
    "x_train.shape,x_test.shape,y_train.shape,y_test.shape"
   ]
  },
  {
   "cell_type": "code",
   "execution_count": 29,
   "metadata": {},
   "outputs": [
    {
     "data": {
      "text/plain": [
       "array([[ 0,  0,  0, ...,  1,  2, 15],\n",
       "       [ 0,  0,  0, ..., 14, 85,  3],\n",
       "       [ 0,  0,  0, ...,  7, 17,  3],\n",
       "       ...,\n",
       "       [ 0,  0,  0, ..., 66, 67,  3],\n",
       "       [ 0,  0,  0, ..., 54, 55,  5],\n",
       "       [ 0,  0,  0, ...,  5, 32, 33]])"
      ]
     },
     "execution_count": 29,
     "metadata": {},
     "output_type": "execute_result"
    }
   ],
   "source": [
    "x_train"
   ]
  },
  {
   "cell_type": "code",
   "execution_count": 30,
   "metadata": {},
   "outputs": [
    {
     "data": {
      "text/plain": [
       "array([[ 0,  0,  0,  0,  0,  0,  0,  0,  0,  0,  0,  0,  0,  0,  0,  0,\n",
       "        21],\n",
       "       [ 0,  0,  0,  0,  0,  0,  0,  0,  0,  0,  0,  0,  0,  0, 77, 78,\n",
       "         6],\n",
       "       [ 0,  0,  0,  0,  0,  0,  0,  0,  0,  0,  0, 26, 27, 28, 29, 30,\n",
       "        31],\n",
       "       [ 0,  0,  0,  0,  0,  0,  0,  0,  0,  0,  0,  0,  0,  1,  2, 70,\n",
       "         9],\n",
       "       [ 0,  0,  0,  0,  0,  0,  0,  0,  0,  0,  0,  4, 51, 52, 53, 10,\n",
       "        54],\n",
       "       [ 0,  0,  0,  0,  0,  0,  0,  0,  0,  0,  0,  0,  0,  0, 35, 36,\n",
       "        37],\n",
       "       [ 0,  0,  0,  0,  0,  0,  1,  2, 11, 42, 43,  6, 44, 45, 46, 47,\n",
       "        48],\n",
       "       [ 0,  0,  0,  0,  0,  0,  0,  0,  1,  2, 11, 42, 43,  6, 44, 45,\n",
       "        46],\n",
       "       [ 0,  0,  0,  0,  0, 77, 78,  6,  1,  2, 79, 80, 81, 82, 83, 84,\n",
       "        14],\n",
       "       [ 0,  0,  0,  0,  0,  0,  0,  4, 51, 52, 53, 10, 54, 55,  5, 56,\n",
       "        57],\n",
       "       [ 0,  0,  0,  0,  0,  0,  0,  0,  0,  1,  2, 70,  9, 71, 12, 13,\n",
       "        72],\n",
       "       [ 0,  0,  0,  0,  0,  0,  0,  0,  0,  0,  0,  0,  0,  0,  0,  0,\n",
       "         4],\n",
       "       [ 0,  0,  0,  0,  0,  0,  0,  0,  0, 21,  4, 22,  8, 23,  3, 24,\n",
       "        10],\n",
       "       [ 0,  0,  0,  0,  0,  0,  0,  0,  0,  0,  0,  0,  0,  0,  0,  1,\n",
       "         2],\n",
       "       [ 0,  0,  0,  0,  0,  0,  0,  0,  0,  0, 21,  4, 22,  8, 23,  3,\n",
       "        24],\n",
       "       [ 0,  0,  0,  0,  0,  0,  0,  0,  0,  0,  0,  0,  0,  4, 11, 61,\n",
       "        62],\n",
       "       [ 0,  0,  0,  0,  0,  0,  0,  0,  0,  0,  0,  0,  0,  0,  1,  2,\n",
       "        11],\n",
       "       [ 0,  0,  0,  0,  0,  0, 35, 36, 37,  4, 38,  5,  9, 39,  7, 40,\n",
       "        41],\n",
       "       [ 0,  0,  0,  0,  0,  0,  0,  0,  0,  1,  2, 11, 42, 43,  6, 44,\n",
       "        45],\n",
       "       [ 0,  0,  0,  0,  0,  0,  0,  0,  0,  0,  0,  0, 26, 27, 28, 29,\n",
       "        30],\n",
       "       [ 0,  0,  0,  0,  1,  2, 70,  9, 71, 12, 13, 72,  7, 73,  8, 74,\n",
       "        75],\n",
       "       [ 0,  0,  0,  0,  0,  0,  0,  0,  0,  0,  0,  0, 35, 36, 37,  4,\n",
       "        38]])"
      ]
     },
     "execution_count": 30,
     "metadata": {},
     "output_type": "execute_result"
    }
   ],
   "source": [
    "x_test"
   ]
  },
  {
   "cell_type": "code",
   "execution_count": 31,
   "metadata": {},
   "outputs": [
    {
     "data": {
      "text/plain": [
       "array([[0., 0., 0., ..., 0., 0., 0.],\n",
       "       [0., 0., 0., ..., 0., 1., 0.],\n",
       "       [0., 0., 0., ..., 0., 0., 0.],\n",
       "       ...,\n",
       "       [0., 0., 0., ..., 0., 0., 0.],\n",
       "       [0., 0., 0., ..., 0., 0., 0.],\n",
       "       [0., 0., 0., ..., 0., 0., 0.]])"
      ]
     },
     "execution_count": 31,
     "metadata": {},
     "output_type": "execute_result"
    }
   ],
   "source": [
    "y_train"
   ]
  },
  {
   "cell_type": "code",
   "execution_count": 32,
   "metadata": {},
   "outputs": [
    {
     "data": {
      "text/plain": [
       "array([[0., 0., 0., ..., 0., 0., 0.],\n",
       "       [0., 1., 0., ..., 0., 0., 0.],\n",
       "       [0., 0., 0., ..., 0., 0., 0.],\n",
       "       ...,\n",
       "       [0., 0., 0., ..., 0., 0., 0.],\n",
       "       [0., 0., 0., ..., 0., 0., 0.],\n",
       "       [0., 0., 0., ..., 0., 0., 0.]])"
      ]
     },
     "execution_count": 32,
     "metadata": {},
     "output_type": "execute_result"
    }
   ],
   "source": [
    "y_test"
   ]
  },
  {
   "cell_type": "code",
   "execution_count": 33,
   "metadata": {},
   "outputs": [],
   "source": [
    "from tensorflow.keras.callbacks import EarlyStopping"
   ]
  },
  {
   "cell_type": "code",
   "execution_count": 34,
   "metadata": {},
   "outputs": [],
   "source": [
    "early=EarlyStopping(monitor='val_accuracy',patience=130,restore_best_weights=True)"
   ]
  },
  {
   "cell_type": "code",
   "execution_count": 35,
   "metadata": {},
   "outputs": [
    {
     "name": "stdout",
     "output_type": "stream",
     "text": [
      "Epoch 1/150\n",
      "\u001b[1m3/3\u001b[0m \u001b[32m━━━━━━━━━━━━━━━━━━━━\u001b[0m\u001b[37m\u001b[0m \u001b[1m4s\u001b[0m 228ms/step - accuracy: 0.0110 - loss: 4.4783 - val_accuracy: 0.0000e+00 - val_loss: 4.4796\n",
      "Epoch 2/150\n",
      "\u001b[1m3/3\u001b[0m \u001b[32m━━━━━━━━━━━━━━━━━━━━\u001b[0m\u001b[37m\u001b[0m \u001b[1m0s\u001b[0m 25ms/step - accuracy: 0.0858 - loss: 4.4705 - val_accuracy: 0.0556 - val_loss: 4.4816\n",
      "Epoch 3/150\n",
      "\u001b[1m3/3\u001b[0m \u001b[32m━━━━━━━━━━━━━━━━━━━━\u001b[0m\u001b[37m\u001b[0m \u001b[1m0s\u001b[0m 27ms/step - accuracy: 0.1001 - loss: 4.4657 - val_accuracy: 0.0556 - val_loss: 4.4827\n",
      "Epoch 4/150\n",
      "\u001b[1m3/3\u001b[0m \u001b[32m━━━━━━━━━━━━━━━━━━━━\u001b[0m\u001b[37m\u001b[0m \u001b[1m0s\u001b[0m 39ms/step - accuracy: 0.1190 - loss: 4.4604 - val_accuracy: 0.0556 - val_loss: 4.4837\n",
      "Epoch 5/150\n",
      "\u001b[1m3/3\u001b[0m \u001b[32m━━━━━━━━━━━━━━━━━━━━\u001b[0m\u001b[37m\u001b[0m \u001b[1m0s\u001b[0m 24ms/step - accuracy: 0.0891 - loss: 4.4518 - val_accuracy: 0.0556 - val_loss: 4.4849\n",
      "Epoch 6/150\n",
      "\u001b[1m3/3\u001b[0m \u001b[32m━━━━━━━━━━━━━━━━━━━━\u001b[0m\u001b[37m\u001b[0m \u001b[1m0s\u001b[0m 29ms/step - accuracy: 0.0741 - loss: 4.4444 - val_accuracy: 0.1111 - val_loss: 4.4868\n",
      "Epoch 7/150\n",
      "\u001b[1m3/3\u001b[0m \u001b[32m━━━━━━━━━━━━━━━━━━━━\u001b[0m\u001b[37m\u001b[0m \u001b[1m0s\u001b[0m 28ms/step - accuracy: 0.0513 - loss: 4.4396 - val_accuracy: 0.1111 - val_loss: 4.4888\n",
      "Epoch 8/150\n",
      "\u001b[1m3/3\u001b[0m \u001b[32m━━━━━━━━━━━━━━━━━━━━\u001b[0m\u001b[37m\u001b[0m \u001b[1m0s\u001b[0m 15ms/step - accuracy: 0.0748 - loss: 4.4260 - val_accuracy: 0.1111 - val_loss: 4.4902\n",
      "Epoch 9/150\n",
      "\u001b[1m3/3\u001b[0m \u001b[32m━━━━━━━━━━━━━━━━━━━━\u001b[0m\u001b[37m\u001b[0m \u001b[1m0s\u001b[0m 23ms/step - accuracy: 0.0741 - loss: 4.4144 - val_accuracy: 0.1111 - val_loss: 4.4925\n",
      "Epoch 10/150\n",
      "\u001b[1m3/3\u001b[0m \u001b[32m━━━━━━━━━━━━━━━━━━━━\u001b[0m\u001b[37m\u001b[0m \u001b[1m0s\u001b[0m 32ms/step - accuracy: 0.0787 - loss: 4.3839 - val_accuracy: 0.1111 - val_loss: 4.4978\n",
      "Epoch 11/150\n",
      "\u001b[1m3/3\u001b[0m \u001b[32m━━━━━━━━━━━━━━━━━━━━\u001b[0m\u001b[37m\u001b[0m \u001b[1m0s\u001b[0m 26ms/step - accuracy: 0.1157 - loss: 4.3414 - val_accuracy: 0.1111 - val_loss: 4.5111\n",
      "Epoch 12/150\n",
      "\u001b[1m3/3\u001b[0m \u001b[32m━━━━━━━━━━━━━━━━━━━━\u001b[0m\u001b[37m\u001b[0m \u001b[1m0s\u001b[0m 24ms/step - accuracy: 0.0663 - loss: 4.3176 - val_accuracy: 0.1111 - val_loss: 4.5454\n",
      "Epoch 13/150\n",
      "\u001b[1m3/3\u001b[0m \u001b[32m━━━━━━━━━━━━━━━━━━━━\u001b[0m\u001b[37m\u001b[0m \u001b[1m0s\u001b[0m 41ms/step - accuracy: 0.0858 - loss: 4.2136 - val_accuracy: 0.1111 - val_loss: 4.6426\n",
      "Epoch 14/150\n",
      "\u001b[1m3/3\u001b[0m \u001b[32m━━━━━━━━━━━━━━━━━━━━\u001b[0m\u001b[37m\u001b[0m \u001b[1m0s\u001b[0m 20ms/step - accuracy: 0.0787 - loss: 4.0991 - val_accuracy: 0.1111 - val_loss: 4.8519\n",
      "Epoch 15/150\n",
      "\u001b[1m3/3\u001b[0m \u001b[32m━━━━━━━━━━━━━━━━━━━━\u001b[0m\u001b[37m\u001b[0m \u001b[1m0s\u001b[0m 57ms/step - accuracy: 0.0969 - loss: 4.0769 - val_accuracy: 0.0556 - val_loss: 5.0101\n",
      "Epoch 16/150\n",
      "\u001b[1m3/3\u001b[0m \u001b[32m━━━━━━━━━━━━━━━━━━━━\u001b[0m\u001b[37m\u001b[0m \u001b[1m0s\u001b[0m 39ms/step - accuracy: 0.1008 - loss: 4.0905 - val_accuracy: 0.0556 - val_loss: 5.0711\n",
      "Epoch 17/150\n",
      "\u001b[1m3/3\u001b[0m \u001b[32m━━━━━━━━━━━━━━━━━━━━\u001b[0m\u001b[37m\u001b[0m \u001b[1m0s\u001b[0m 45ms/step - accuracy: 0.0513 - loss: 4.0746 - val_accuracy: 0.0556 - val_loss: 5.0910\n",
      "Epoch 18/150\n",
      "\u001b[1m3/3\u001b[0m \u001b[32m━━━━━━━━━━━━━━━━━━━━\u001b[0m\u001b[37m\u001b[0m \u001b[1m0s\u001b[0m 28ms/step - accuracy: 0.1001 - loss: 3.9904 - val_accuracy: 0.0556 - val_loss: 5.1395\n",
      "Epoch 19/150\n",
      "\u001b[1m3/3\u001b[0m \u001b[32m━━━━━━━━━━━━━━━━━━━━\u001b[0m\u001b[37m\u001b[0m \u001b[1m0s\u001b[0m 30ms/step - accuracy: 0.0891 - loss: 3.9972 - val_accuracy: 0.0556 - val_loss: 5.1814\n",
      "Epoch 20/150\n",
      "\u001b[1m3/3\u001b[0m \u001b[32m━━━━━━━━━━━━━━━━━━━━\u001b[0m\u001b[37m\u001b[0m \u001b[1m0s\u001b[0m 20ms/step - accuracy: 0.1047 - loss: 3.8862 - val_accuracy: 0.0556 - val_loss: 5.2183\n",
      "Epoch 21/150\n",
      "\u001b[1m3/3\u001b[0m \u001b[32m━━━━━━━━━━━━━━━━━━━━\u001b[0m\u001b[37m\u001b[0m \u001b[1m0s\u001b[0m 23ms/step - accuracy: 0.1086 - loss: 3.7845 - val_accuracy: 0.0556 - val_loss: 5.2641\n",
      "Epoch 22/150\n",
      "\u001b[1m3/3\u001b[0m \u001b[32m━━━━━━━━━━━━━━━━━━━━\u001b[0m\u001b[37m\u001b[0m \u001b[1m0s\u001b[0m 33ms/step - accuracy: 0.0891 - loss: 3.8739 - val_accuracy: 0.0556 - val_loss: 5.2864\n",
      "Epoch 23/150\n",
      "\u001b[1m3/3\u001b[0m \u001b[32m━━━━━━━━━━━━━━━━━━━━\u001b[0m\u001b[37m\u001b[0m \u001b[1m0s\u001b[0m 60ms/step - accuracy: 0.1079 - loss: 3.7395 - val_accuracy: 0.0556 - val_loss: 5.3273\n",
      "Epoch 24/150\n",
      "\u001b[1m3/3\u001b[0m \u001b[32m━━━━━━━━━━━━━━━━━━━━\u001b[0m\u001b[37m\u001b[0m \u001b[1m0s\u001b[0m 76ms/step - accuracy: 0.1040 - loss: 3.7509 - val_accuracy: 0.0556 - val_loss: 5.3588\n",
      "Epoch 25/150\n",
      "\u001b[1m3/3\u001b[0m \u001b[32m━━━━━━━━━━━━━━━━━━━━\u001b[0m\u001b[37m\u001b[0m \u001b[1m0s\u001b[0m 30ms/step - accuracy: 0.1242 - loss: 3.6059 - val_accuracy: 0.0556 - val_loss: 5.4397\n",
      "Epoch 26/150\n",
      "\u001b[1m3/3\u001b[0m \u001b[32m━━━━━━━━━━━━━━━━━━━━\u001b[0m\u001b[37m\u001b[0m \u001b[1m0s\u001b[0m 40ms/step - accuracy: 0.0969 - loss: 3.6421 - val_accuracy: 0.0556 - val_loss: 5.5318\n",
      "Epoch 27/150\n",
      "\u001b[1m3/3\u001b[0m \u001b[32m━━━━━━━━━━━━━━━━━━━━\u001b[0m\u001b[37m\u001b[0m \u001b[1m0s\u001b[0m 74ms/step - accuracy: 0.1235 - loss: 3.5016 - val_accuracy: 0.0556 - val_loss: 5.6481\n",
      "Epoch 28/150\n",
      "\u001b[1m3/3\u001b[0m \u001b[32m━━━━━━━━━━━━━━━━━━━━\u001b[0m\u001b[37m\u001b[0m \u001b[1m0s\u001b[0m 46ms/step - accuracy: 0.1040 - loss: 3.5533 - val_accuracy: 0.0556 - val_loss: 5.7444\n",
      "Epoch 29/150\n",
      "\u001b[1m3/3\u001b[0m \u001b[32m━━━━━━━━━━━━━━━━━━━━\u001b[0m\u001b[37m\u001b[0m \u001b[1m0s\u001b[0m 25ms/step - accuracy: 0.1196 - loss: 3.4715 - val_accuracy: 0.0556 - val_loss: 5.8562\n",
      "Epoch 30/150\n",
      "\u001b[1m3/3\u001b[0m \u001b[32m━━━━━━━━━━━━━━━━━━━━\u001b[0m\u001b[37m\u001b[0m \u001b[1m0s\u001b[0m 62ms/step - accuracy: 0.1222 - loss: 3.4955 - val_accuracy: 0.0556 - val_loss: 5.9503\n",
      "Epoch 31/150\n",
      "\u001b[1m3/3\u001b[0m \u001b[32m━━━━━━━━━━━━━━━━━━━━\u001b[0m\u001b[37m\u001b[0m \u001b[1m0s\u001b[0m 15ms/step - accuracy: 0.1235 - loss: 3.4246 - val_accuracy: 0.0556 - val_loss: 6.0192\n",
      "Epoch 32/150\n",
      "\u001b[1m3/3\u001b[0m \u001b[32m━━━━━━━━━━━━━━━━━━━━\u001b[0m\u001b[37m\u001b[0m \u001b[1m0s\u001b[0m 19ms/step - accuracy: 0.1346 - loss: 3.3243 - val_accuracy: 0.0556 - val_loss: 6.0417\n",
      "Epoch 33/150\n",
      "\u001b[1m3/3\u001b[0m \u001b[32m━━━━━━━━━━━━━━━━━━━━\u001b[0m\u001b[37m\u001b[0m \u001b[1m0s\u001b[0m 32ms/step - accuracy: 0.1378 - loss: 3.3333 - val_accuracy: 0.0556 - val_loss: 6.0479\n",
      "Epoch 34/150\n",
      "\u001b[1m3/3\u001b[0m \u001b[32m━━━━━━━━━━━━━━━━━━━━\u001b[0m\u001b[37m\u001b[0m \u001b[1m0s\u001b[0m 16ms/step - accuracy: 0.1261 - loss: 3.2605 - val_accuracy: 0.0556 - val_loss: 6.0467\n",
      "Epoch 35/150\n",
      "\u001b[1m3/3\u001b[0m \u001b[32m━━━━━━━━━━━━━━━━━━━━\u001b[0m\u001b[37m\u001b[0m \u001b[1m0s\u001b[0m 22ms/step - accuracy: 0.1599 - loss: 3.2702 - val_accuracy: 0.0556 - val_loss: 6.0464\n",
      "Epoch 36/150\n",
      "\u001b[1m3/3\u001b[0m \u001b[32m━━━━━━━━━━━━━━━━━━━━\u001b[0m\u001b[37m\u001b[0m \u001b[1m0s\u001b[0m 42ms/step - accuracy: 0.1300 - loss: 3.2741 - val_accuracy: 0.0556 - val_loss: 6.0535\n",
      "Epoch 37/150\n",
      "\u001b[1m3/3\u001b[0m \u001b[32m━━━━━━━━━━━━━━━━━━━━\u001b[0m\u001b[37m\u001b[0m \u001b[1m0s\u001b[0m 26ms/step - accuracy: 0.1606 - loss: 3.2023 - val_accuracy: 0.0556 - val_loss: 6.0809\n",
      "Epoch 38/150\n",
      "\u001b[1m3/3\u001b[0m \u001b[32m━━━━━━━━━━━━━━━━━━━━\u001b[0m\u001b[37m\u001b[0m \u001b[1m0s\u001b[0m 32ms/step - accuracy: 0.1645 - loss: 3.0741 - val_accuracy: 0.0556 - val_loss: 6.1205\n",
      "Epoch 39/150\n",
      "\u001b[1m3/3\u001b[0m \u001b[32m━━━━━━━━━━━━━━━━━━━━\u001b[0m\u001b[37m\u001b[0m \u001b[1m0s\u001b[0m 57ms/step - accuracy: 0.1717 - loss: 3.1653 - val_accuracy: 0.0556 - val_loss: 6.1668\n",
      "Epoch 40/150\n",
      "\u001b[1m3/3\u001b[0m \u001b[32m━━━━━━━━━━━━━━━━━━━━\u001b[0m\u001b[37m\u001b[0m \u001b[1m0s\u001b[0m 20ms/step - accuracy: 0.1235 - loss: 3.1276 - val_accuracy: 0.0556 - val_loss: 6.2342\n",
      "Epoch 41/150\n",
      "\u001b[1m3/3\u001b[0m \u001b[32m━━━━━━━━━━━━━━━━━━━━\u001b[0m\u001b[37m\u001b[0m \u001b[1m0s\u001b[0m 27ms/step - accuracy: 0.1567 - loss: 3.0682 - val_accuracy: 0.0556 - val_loss: 6.3100\n",
      "Epoch 42/150\n",
      "\u001b[1m3/3\u001b[0m \u001b[32m━━━━━━━━━━━━━━━━━━━━\u001b[0m\u001b[37m\u001b[0m \u001b[1m0s\u001b[0m 23ms/step - accuracy: 0.1756 - loss: 3.1020 - val_accuracy: 0.0556 - val_loss: 6.3682\n",
      "Epoch 43/150\n",
      "\u001b[1m3/3\u001b[0m \u001b[32m━━━━━━━━━━━━━━━━━━━━\u001b[0m\u001b[37m\u001b[0m \u001b[1m0s\u001b[0m 24ms/step - accuracy: 0.1944 - loss: 3.0363 - val_accuracy: 0.0556 - val_loss: 6.3901\n",
      "Epoch 44/150\n",
      "\u001b[1m3/3\u001b[0m \u001b[32m━━━━━━━━━━━━━━━━━━━━\u001b[0m\u001b[37m\u001b[0m \u001b[1m0s\u001b[0m 30ms/step - accuracy: 0.1567 - loss: 3.0499 - val_accuracy: 0.0556 - val_loss: 6.4551\n",
      "Epoch 45/150\n",
      "\u001b[1m3/3\u001b[0m \u001b[32m━━━━━━━━━━━━━━━━━━━━\u001b[0m\u001b[37m\u001b[0m \u001b[1m0s\u001b[0m 77ms/step - accuracy: 0.1677 - loss: 3.0119 - val_accuracy: 0.0556 - val_loss: 6.5155\n",
      "Epoch 46/150\n",
      "\u001b[1m3/3\u001b[0m \u001b[32m━━━━━━━━━━━━━━━━━━━━\u001b[0m\u001b[37m\u001b[0m \u001b[1m0s\u001b[0m 40ms/step - accuracy: 0.1717 - loss: 2.9752 - val_accuracy: 0.0556 - val_loss: 6.5497\n",
      "Epoch 47/150\n",
      "\u001b[1m3/3\u001b[0m \u001b[32m━━━━━━━━━━━━━━━━━━━━\u001b[0m\u001b[37m\u001b[0m \u001b[1m0s\u001b[0m 33ms/step - accuracy: 0.2165 - loss: 2.9035 - val_accuracy: 0.0556 - val_loss: 6.5565\n",
      "Epoch 48/150\n",
      "\u001b[1m3/3\u001b[0m \u001b[32m━━━━━━━━━━━━━━━━━━━━\u001b[0m\u001b[37m\u001b[0m \u001b[1m0s\u001b[0m 34ms/step - accuracy: 0.1905 - loss: 2.8991 - val_accuracy: 0.0556 - val_loss: 6.5468\n",
      "Epoch 49/150\n",
      "\u001b[1m3/3\u001b[0m \u001b[32m━━━━━━━━━━━━━━━━━━━━\u001b[0m\u001b[37m\u001b[0m \u001b[1m0s\u001b[0m 29ms/step - accuracy: 0.2152 - loss: 2.8934 - val_accuracy: 0.0556 - val_loss: 6.5421\n",
      "Epoch 50/150\n",
      "\u001b[1m3/3\u001b[0m \u001b[32m━━━━━━━━━━━━━━━━━━━━\u001b[0m\u001b[37m\u001b[0m \u001b[1m0s\u001b[0m 42ms/step - accuracy: 0.2080 - loss: 2.8797 - val_accuracy: 0.0556 - val_loss: 6.5729\n",
      "Epoch 51/150\n",
      "\u001b[1m3/3\u001b[0m \u001b[32m━━━━━━━━━━━━━━━━━━━━\u001b[0m\u001b[37m\u001b[0m \u001b[1m0s\u001b[0m 22ms/step - accuracy: 0.2165 - loss: 2.8501 - val_accuracy: 0.0556 - val_loss: 6.6156\n",
      "Epoch 52/150\n",
      "\u001b[1m3/3\u001b[0m \u001b[32m━━━━━━━━━━━━━━━━━━━━\u001b[0m\u001b[37m\u001b[0m \u001b[1m0s\u001b[0m 36ms/step - accuracy: 0.2432 - loss: 2.6967 - val_accuracy: 0.0556 - val_loss: 6.6220\n",
      "Epoch 53/150\n",
      "\u001b[1m3/3\u001b[0m \u001b[32m━━━━━━━━━━━━━━━━━━━━\u001b[0m\u001b[37m\u001b[0m \u001b[1m0s\u001b[0m 38ms/step - accuracy: 0.2614 - loss: 2.7768 - val_accuracy: 0.0556 - val_loss: 6.6057\n",
      "Epoch 54/150\n",
      "\u001b[1m3/3\u001b[0m \u001b[32m━━━━━━━━━━━━━━━━━━━━\u001b[0m\u001b[37m\u001b[0m \u001b[1m0s\u001b[0m 31ms/step - accuracy: 0.3102 - loss: 2.6611 - val_accuracy: 0.0556 - val_loss: 6.5763\n",
      "Epoch 55/150\n",
      "\u001b[1m3/3\u001b[0m \u001b[32m━━━━━━━━━━━━━━━━━━━━\u001b[0m\u001b[37m\u001b[0m \u001b[1m0s\u001b[0m 46ms/step - accuracy: 0.2451 - loss: 2.7352 - val_accuracy: 0.0556 - val_loss: 6.5603\n",
      "Epoch 56/150\n",
      "\u001b[1m3/3\u001b[0m \u001b[32m━━━━━━━━━━━━━━━━━━━━\u001b[0m\u001b[37m\u001b[0m \u001b[1m0s\u001b[0m 30ms/step - accuracy: 0.2913 - loss: 2.6337 - val_accuracy: 0.0556 - val_loss: 6.5907\n",
      "Epoch 57/150\n",
      "\u001b[1m3/3\u001b[0m \u001b[32m━━━━━━━━━━━━━━━━━━━━\u001b[0m\u001b[37m\u001b[0m \u001b[1m0s\u001b[0m 38ms/step - accuracy: 0.3362 - loss: 2.6534 - val_accuracy: 0.0556 - val_loss: 6.6429\n",
      "Epoch 58/150\n",
      "\u001b[1m3/3\u001b[0m \u001b[32m━━━━━━━━━━━━━━━━━━━━\u001b[0m\u001b[37m\u001b[0m \u001b[1m0s\u001b[0m 26ms/step - accuracy: 0.2913 - loss: 2.5831 - val_accuracy: 0.0556 - val_loss: 6.7079\n",
      "Epoch 59/150\n",
      "\u001b[1m3/3\u001b[0m \u001b[32m━━━━━━━━━━━━━━━━━━━━\u001b[0m\u001b[37m\u001b[0m \u001b[1m0s\u001b[0m 16ms/step - accuracy: 0.3251 - loss: 2.5916 - val_accuracy: 0.0556 - val_loss: 6.7131\n",
      "Epoch 60/150\n",
      "\u001b[1m3/3\u001b[0m \u001b[32m━━━━━━━━━━━━━━━━━━━━\u001b[0m\u001b[37m\u001b[0m \u001b[1m0s\u001b[0m 24ms/step - accuracy: 0.2490 - loss: 2.6497 - val_accuracy: 0.0556 - val_loss: 6.7030\n",
      "Epoch 61/150\n",
      "\u001b[1m3/3\u001b[0m \u001b[32m━━━━━━━━━━━━━━━━━━━━\u001b[0m\u001b[37m\u001b[0m \u001b[1m0s\u001b[0m 30ms/step - accuracy: 0.3362 - loss: 2.5090 - val_accuracy: 0.0556 - val_loss: 6.7106\n",
      "Epoch 62/150\n",
      "\u001b[1m3/3\u001b[0m \u001b[32m━━━━━━━━━━━━━━━━━━━━\u001b[0m\u001b[37m\u001b[0m \u001b[1m0s\u001b[0m 19ms/step - accuracy: 0.2991 - loss: 2.4885 - val_accuracy: 0.0556 - val_loss: 6.7196\n",
      "Epoch 63/150\n",
      "\u001b[1m3/3\u001b[0m \u001b[32m━━━━━━━━━━━━━━━━━━━━\u001b[0m\u001b[37m\u001b[0m \u001b[1m0s\u001b[0m 24ms/step - accuracy: 0.3401 - loss: 2.4911 - val_accuracy: 0.0556 - val_loss: 6.7057\n",
      "Epoch 64/150\n",
      "\u001b[1m3/3\u001b[0m \u001b[32m━━━━━━━━━━━━━━━━━━━━\u001b[0m\u001b[37m\u001b[0m \u001b[1m0s\u001b[0m 60ms/step - accuracy: 0.3316 - loss: 2.5079 - val_accuracy: 0.0556 - val_loss: 6.6848\n",
      "Epoch 65/150\n",
      "\u001b[1m3/3\u001b[0m \u001b[32m━━━━━━━━━━━━━━━━━━━━\u001b[0m\u001b[37m\u001b[0m \u001b[1m0s\u001b[0m 36ms/step - accuracy: 0.3023 - loss: 2.5037 - val_accuracy: 0.0556 - val_loss: 6.7261\n",
      "Epoch 66/150\n",
      "\u001b[1m3/3\u001b[0m \u001b[32m━━━━━━━━━━━━━━━━━━━━\u001b[0m\u001b[37m\u001b[0m \u001b[1m0s\u001b[0m 16ms/step - accuracy: 0.3953 - loss: 2.3610 - val_accuracy: 0.0556 - val_loss: 6.7972\n",
      "Epoch 67/150\n",
      "\u001b[1m3/3\u001b[0m \u001b[32m━━━━━━━━━━━━━━━━━━━━\u001b[0m\u001b[37m\u001b[0m \u001b[1m0s\u001b[0m 28ms/step - accuracy: 0.3355 - loss: 2.3558 - val_accuracy: 0.0556 - val_loss: 6.8686\n",
      "Epoch 68/150\n",
      "\u001b[1m3/3\u001b[0m \u001b[32m━━━━━━━━━━━━━━━━━━━━\u001b[0m\u001b[37m\u001b[0m \u001b[1m0s\u001b[0m 16ms/step - accuracy: 0.3530 - loss: 2.4366 - val_accuracy: 0.0556 - val_loss: 6.9523\n",
      "Epoch 69/150\n",
      "\u001b[1m3/3\u001b[0m \u001b[32m━━━━━━━━━━━━━━━━━━━━\u001b[0m\u001b[37m\u001b[0m \u001b[1m0s\u001b[0m 23ms/step - accuracy: 0.4448 - loss: 2.3401 - val_accuracy: 0.0556 - val_loss: 7.0245\n",
      "Epoch 70/150\n",
      "\u001b[1m3/3\u001b[0m \u001b[32m━━━━━━━━━━━━━━━━━━━━\u001b[0m\u001b[37m\u001b[0m \u001b[1m0s\u001b[0m 24ms/step - accuracy: 0.3719 - loss: 2.3339 - val_accuracy: 0.0556 - val_loss: 7.1117\n",
      "Epoch 71/150\n",
      "\u001b[1m3/3\u001b[0m \u001b[32m━━━━━━━━━━━━━━━━━━━━\u001b[0m\u001b[37m\u001b[0m \u001b[1m0s\u001b[0m 32ms/step - accuracy: 0.3244 - loss: 2.3669 - val_accuracy: 0.0556 - val_loss: 7.1799\n",
      "Epoch 72/150\n",
      "\u001b[1m3/3\u001b[0m \u001b[32m━━━━━━━━━━━━━━━━━━━━\u001b[0m\u001b[37m\u001b[0m \u001b[1m0s\u001b[0m 25ms/step - accuracy: 0.4565 - loss: 2.1978 - val_accuracy: 0.0556 - val_loss: 7.2081\n",
      "Epoch 73/150\n",
      "\u001b[1m3/3\u001b[0m \u001b[32m━━━━━━━━━━━━━━━━━━━━\u001b[0m\u001b[37m\u001b[0m \u001b[1m0s\u001b[0m 36ms/step - accuracy: 0.4187 - loss: 2.2187 - val_accuracy: 0.0556 - val_loss: 7.2043\n",
      "Epoch 74/150\n",
      "\u001b[1m3/3\u001b[0m \u001b[32m━━━━━━━━━━━━━━━━━━━━\u001b[0m\u001b[37m\u001b[0m \u001b[1m0s\u001b[0m 28ms/step - accuracy: 0.3921 - loss: 2.2152 - val_accuracy: 0.0556 - val_loss: 7.1683\n",
      "Epoch 75/150\n",
      "\u001b[1m3/3\u001b[0m \u001b[32m━━━━━━━━━━━━━━━━━━━━\u001b[0m\u001b[37m\u001b[0m \u001b[1m0s\u001b[0m 22ms/step - accuracy: 0.4148 - loss: 2.1335 - val_accuracy: 0.0556 - val_loss: 7.1301\n",
      "Epoch 76/150\n",
      "\u001b[1m3/3\u001b[0m \u001b[32m━━━━━━━━━━━━━━━━━━━━\u001b[0m\u001b[37m\u001b[0m \u001b[1m0s\u001b[0m 24ms/step - accuracy: 0.4064 - loss: 2.1384 - val_accuracy: 0.0556 - val_loss: 7.1073\n",
      "Epoch 77/150\n",
      "\u001b[1m3/3\u001b[0m \u001b[32m━━━━━━━━━━━━━━━━━━━━\u001b[0m\u001b[37m\u001b[0m \u001b[1m0s\u001b[0m 24ms/step - accuracy: 0.4077 - loss: 2.1565 - val_accuracy: 0.0556 - val_loss: 7.1014\n",
      "Epoch 78/150\n",
      "\u001b[1m3/3\u001b[0m \u001b[32m━━━━━━━━━━━━━━━━━━━━\u001b[0m\u001b[37m\u001b[0m \u001b[1m0s\u001b[0m 29ms/step - accuracy: 0.4590 - loss: 2.0765 - val_accuracy: 0.0556 - val_loss: 7.1084\n",
      "Epoch 79/150\n",
      "\u001b[1m3/3\u001b[0m \u001b[32m━━━━━━━━━━━━━━━━━━━━\u001b[0m\u001b[37m\u001b[0m \u001b[1m0s\u001b[0m 25ms/step - accuracy: 0.5241 - loss: 2.0296 - val_accuracy: 0.0556 - val_loss: 7.1188\n",
      "Epoch 80/150\n",
      "\u001b[1m3/3\u001b[0m \u001b[32m━━━━━━━━━━━━━━━━━━━━\u001b[0m\u001b[37m\u001b[0m \u001b[1m0s\u001b[0m 23ms/step - accuracy: 0.4747 - loss: 2.0112 - val_accuracy: 0.0556 - val_loss: 7.1167\n",
      "Epoch 81/150\n",
      "\u001b[1m3/3\u001b[0m \u001b[32m━━━━━━━━━━━━━━━━━━━━\u001b[0m\u001b[37m\u001b[0m \u001b[1m0s\u001b[0m 30ms/step - accuracy: 0.5533 - loss: 2.0377 - val_accuracy: 0.0556 - val_loss: 7.1223\n",
      "Epoch 82/150\n",
      "\u001b[1m3/3\u001b[0m \u001b[32m━━━━━━━━━━━━━━━━━━━━\u001b[0m\u001b[37m\u001b[0m \u001b[1m0s\u001b[0m 48ms/step - accuracy: 0.5637 - loss: 1.9640 - val_accuracy: 0.0556 - val_loss: 7.1539\n",
      "Epoch 83/150\n",
      "\u001b[1m3/3\u001b[0m \u001b[32m━━━━━━━━━━━━━━━━━━━━\u001b[0m\u001b[37m\u001b[0m \u001b[1m0s\u001b[0m 29ms/step - accuracy: 0.4538 - loss: 2.0152 - val_accuracy: 0.0556 - val_loss: 7.1920\n",
      "Epoch 84/150\n",
      "\u001b[1m3/3\u001b[0m \u001b[32m━━━━━━━━━━━━━━━━━━━━\u001b[0m\u001b[37m\u001b[0m \u001b[1m0s\u001b[0m 26ms/step - accuracy: 0.5410 - loss: 1.9141 - val_accuracy: 0.0556 - val_loss: 7.2302\n",
      "Epoch 85/150\n",
      "\u001b[1m3/3\u001b[0m \u001b[32m━━━━━━━━━━━━━━━━━━━━\u001b[0m\u001b[37m\u001b[0m \u001b[1m0s\u001b[0m 12ms/step - accuracy: 0.5260 - loss: 1.9606 - val_accuracy: 0.0556 - val_loss: 7.2747\n",
      "Epoch 86/150\n",
      "\u001b[1m3/3\u001b[0m \u001b[32m━━━━━━━━━━━━━━━━━━━━\u001b[0m\u001b[37m\u001b[0m \u001b[1m0s\u001b[0m 19ms/step - accuracy: 0.5013 - loss: 1.9536 - val_accuracy: 0.0556 - val_loss: 7.3271\n",
      "Epoch 87/150\n",
      "\u001b[1m3/3\u001b[0m \u001b[32m━━━━━━━━━━━━━━━━━━━━\u001b[0m\u001b[37m\u001b[0m \u001b[1m0s\u001b[0m 23ms/step - accuracy: 0.5071 - loss: 1.9273 - val_accuracy: 0.0556 - val_loss: 7.3612\n",
      "Epoch 88/150\n",
      "\u001b[1m3/3\u001b[0m \u001b[32m━━━━━━━━━━━━━━━━━━━━\u001b[0m\u001b[37m\u001b[0m \u001b[1m0s\u001b[0m 35ms/step - accuracy: 0.5129 - loss: 1.8305 - val_accuracy: 0.0556 - val_loss: 7.3787\n",
      "Epoch 89/150\n",
      "\u001b[1m3/3\u001b[0m \u001b[32m━━━━━━━━━━━━━━━━━━━━\u001b[0m\u001b[37m\u001b[0m \u001b[1m0s\u001b[0m 20ms/step - accuracy: 0.5371 - loss: 1.8712 - val_accuracy: 0.0556 - val_loss: 7.4217\n",
      "Epoch 90/150\n",
      "\u001b[1m3/3\u001b[0m \u001b[32m━━━━━━━━━━━━━━━━━━━━\u001b[0m\u001b[37m\u001b[0m \u001b[1m0s\u001b[0m 16ms/step - accuracy: 0.5338 - loss: 1.8166 - val_accuracy: 0.0556 - val_loss: 7.4565\n",
      "Epoch 91/150\n",
      "\u001b[1m3/3\u001b[0m \u001b[32m━━━━━━━━━━━━━━━━━━━━\u001b[0m\u001b[37m\u001b[0m \u001b[1m0s\u001b[0m 24ms/step - accuracy: 0.4876 - loss: 1.8697 - val_accuracy: 0.0556 - val_loss: 7.4599\n",
      "Epoch 92/150\n",
      "\u001b[1m3/3\u001b[0m \u001b[32m━━━━━━━━━━━━━━━━━━━━\u001b[0m\u001b[37m\u001b[0m \u001b[1m0s\u001b[0m 38ms/step - accuracy: 0.5253 - loss: 1.8681 - val_accuracy: 0.0556 - val_loss: 7.4544\n",
      "Epoch 93/150\n",
      "\u001b[1m3/3\u001b[0m \u001b[32m━━━━━━━━━━━━━━━━━━━━\u001b[0m\u001b[37m\u001b[0m \u001b[1m0s\u001b[0m 25ms/step - accuracy: 0.5826 - loss: 1.7544 - val_accuracy: 0.0556 - val_loss: 7.4657\n",
      "Epoch 94/150\n",
      "\u001b[1m3/3\u001b[0m \u001b[32m━━━━━━━━━━━━━━━━━━━━\u001b[0m\u001b[37m\u001b[0m \u001b[1m0s\u001b[0m 24ms/step - accuracy: 0.5260 - loss: 1.7319 - val_accuracy: 0.0556 - val_loss: 7.4745\n",
      "Epoch 95/150\n",
      "\u001b[1m3/3\u001b[0m \u001b[32m━━━━━━━━━━━━━━━━━━━━\u001b[0m\u001b[37m\u001b[0m \u001b[1m0s\u001b[0m 46ms/step - accuracy: 0.4954 - loss: 1.8416 - val_accuracy: 0.0556 - val_loss: 7.4894\n",
      "Epoch 96/150\n",
      "\u001b[1m3/3\u001b[0m \u001b[32m━━━━━━━━━━━━━━━━━━━━\u001b[0m\u001b[37m\u001b[0m \u001b[1m0s\u001b[0m 24ms/step - accuracy: 0.5748 - loss: 1.7704 - val_accuracy: 0.0556 - val_loss: 7.5165\n",
      "Epoch 97/150\n",
      "\u001b[1m3/3\u001b[0m \u001b[32m━━━━━━━━━━━━━━━━━━━━\u001b[0m\u001b[37m\u001b[0m \u001b[1m0s\u001b[0m 26ms/step - accuracy: 0.5891 - loss: 1.8025 - val_accuracy: 0.0556 - val_loss: 7.5252\n",
      "Epoch 98/150\n",
      "\u001b[1m3/3\u001b[0m \u001b[32m━━━━━━━━━━━━━━━━━━━━\u001b[0m\u001b[37m\u001b[0m \u001b[1m0s\u001b[0m 24ms/step - accuracy: 0.5559 - loss: 1.6988 - val_accuracy: 0.0556 - val_loss: 7.5197\n",
      "Epoch 99/150\n",
      "\u001b[1m3/3\u001b[0m \u001b[32m━━━━━━━━━━━━━━━━━━━━\u001b[0m\u001b[37m\u001b[0m \u001b[1m0s\u001b[0m 22ms/step - accuracy: 0.5566 - loss: 1.7131 - val_accuracy: 0.0556 - val_loss: 7.5230\n",
      "Epoch 100/150\n",
      "\u001b[1m3/3\u001b[0m \u001b[32m━━━━━━━━━━━━━━━━━━━━\u001b[0m\u001b[37m\u001b[0m \u001b[1m0s\u001b[0m 23ms/step - accuracy: 0.6619 - loss: 1.6214 - val_accuracy: 0.0556 - val_loss: 7.5365\n",
      "Epoch 101/150\n",
      "\u001b[1m3/3\u001b[0m \u001b[32m━━━━━━━━━━━━━━━━━━━━\u001b[0m\u001b[37m\u001b[0m \u001b[1m0s\u001b[0m 43ms/step - accuracy: 0.5592 - loss: 1.7311 - val_accuracy: 0.0556 - val_loss: 7.5453\n",
      "Epoch 102/150\n",
      "\u001b[1m3/3\u001b[0m \u001b[32m━━━━━━━━━━━━━━━━━━━━\u001b[0m\u001b[37m\u001b[0m \u001b[1m0s\u001b[0m 22ms/step - accuracy: 0.5676 - loss: 1.6085 - val_accuracy: 0.0556 - val_loss: 7.5511\n",
      "Epoch 103/150\n",
      "\u001b[1m3/3\u001b[0m \u001b[32m━━━━━━━━━━━━━━━━━━━━\u001b[0m\u001b[37m\u001b[0m \u001b[1m0s\u001b[0m 20ms/step - accuracy: 0.6203 - loss: 1.5893 - val_accuracy: 0.0556 - val_loss: 7.5588\n",
      "Epoch 104/150\n",
      "\u001b[1m3/3\u001b[0m \u001b[32m━━━━━━━━━━━━━━━━━━━━\u001b[0m\u001b[37m\u001b[0m \u001b[1m0s\u001b[0m 24ms/step - accuracy: 0.6795 - loss: 1.6014 - val_accuracy: 0.0556 - val_loss: 7.5710\n",
      "Epoch 105/150\n",
      "\u001b[1m3/3\u001b[0m \u001b[32m━━━━━━━━━━━━━━━━━━━━\u001b[0m\u001b[37m\u001b[0m \u001b[1m0s\u001b[0m 24ms/step - accuracy: 0.5962 - loss: 1.5722 - val_accuracy: 0.0556 - val_loss: 7.5803\n",
      "Epoch 106/150\n",
      "\u001b[1m3/3\u001b[0m \u001b[32m━━━━━━━━━━━━━━━━━━━━\u001b[0m\u001b[37m\u001b[0m \u001b[1m0s\u001b[0m 27ms/step - accuracy: 0.6307 - loss: 1.5674 - val_accuracy: 0.0556 - val_loss: 7.6010\n",
      "Epoch 107/150\n",
      "\u001b[1m3/3\u001b[0m \u001b[32m━━━━━━━━━━━━━━━━━━━━\u001b[0m\u001b[37m\u001b[0m \u001b[1m0s\u001b[0m 34ms/step - accuracy: 0.5552 - loss: 1.5261 - val_accuracy: 0.0556 - val_loss: 7.6404\n",
      "Epoch 108/150\n",
      "\u001b[1m3/3\u001b[0m \u001b[32m━━━━━━━━━━━━━━━━━━━━\u001b[0m\u001b[37m\u001b[0m \u001b[1m0s\u001b[0m 24ms/step - accuracy: 0.5670 - loss: 1.5678 - val_accuracy: 0.0556 - val_loss: 7.6705\n",
      "Epoch 109/150\n",
      "\u001b[1m3/3\u001b[0m \u001b[32m━━━━━━━━━━━━━━━━━━━━\u001b[0m\u001b[37m\u001b[0m \u001b[1m0s\u001b[0m 24ms/step - accuracy: 0.6281 - loss: 1.4703 - val_accuracy: 0.0556 - val_loss: 7.6914\n",
      "Epoch 110/150\n",
      "\u001b[1m3/3\u001b[0m \u001b[32m━━━━━━━━━━━━━━━━━━━━\u001b[0m\u001b[37m\u001b[0m \u001b[1m0s\u001b[0m 23ms/step - accuracy: 0.7198 - loss: 1.4678 - val_accuracy: 0.0556 - val_loss: 7.7298\n",
      "Epoch 111/150\n",
      "\u001b[1m3/3\u001b[0m \u001b[32m━━━━━━━━━━━━━━━━━━━━\u001b[0m\u001b[37m\u001b[0m \u001b[1m0s\u001b[0m 16ms/step - accuracy: 0.6424 - loss: 1.4591 - val_accuracy: 0.0556 - val_loss: 7.7874\n",
      "Epoch 112/150\n",
      "\u001b[1m3/3\u001b[0m \u001b[32m━━━━━━━━━━━━━━━━━━━━\u001b[0m\u001b[37m\u001b[0m \u001b[1m0s\u001b[0m 24ms/step - accuracy: 0.6560 - loss: 1.5464 - val_accuracy: 0.0556 - val_loss: 7.8194\n",
      "Epoch 113/150\n",
      "\u001b[1m3/3\u001b[0m \u001b[32m━━━━━━━━━━━━━━━━━━━━\u001b[0m\u001b[37m\u001b[0m \u001b[1m0s\u001b[0m 24ms/step - accuracy: 0.7165 - loss: 1.4164 - val_accuracy: 0.0556 - val_loss: 7.8232\n",
      "Epoch 114/150\n",
      "\u001b[1m3/3\u001b[0m \u001b[32m━━━━━━━━━━━━━━━━━━━━\u001b[0m\u001b[37m\u001b[0m \u001b[1m0s\u001b[0m 24ms/step - accuracy: 0.7016 - loss: 1.4054 - val_accuracy: 0.0556 - val_loss: 7.7980\n",
      "Epoch 115/150\n",
      "\u001b[1m3/3\u001b[0m \u001b[32m━━━━━━━━━━━━━━━━━━━━\u001b[0m\u001b[37m\u001b[0m \u001b[1m0s\u001b[0m 24ms/step - accuracy: 0.6801 - loss: 1.4153 - val_accuracy: 0.0556 - val_loss: 7.7714\n",
      "Epoch 116/150\n",
      "\u001b[1m3/3\u001b[0m \u001b[32m━━━━━━━━━━━━━━━━━━━━\u001b[0m\u001b[37m\u001b[0m \u001b[1m0s\u001b[0m 24ms/step - accuracy: 0.6671 - loss: 1.4541 - val_accuracy: 0.0556 - val_loss: 7.7678\n",
      "Epoch 117/150\n",
      "\u001b[1m3/3\u001b[0m \u001b[32m━━━━━━━━━━━━━━━━━━━━\u001b[0m\u001b[37m\u001b[0m \u001b[1m0s\u001b[0m 29ms/step - accuracy: 0.7874 - loss: 1.2806 - val_accuracy: 0.0556 - val_loss: 7.8114\n",
      "Epoch 118/150\n",
      "\u001b[1m3/3\u001b[0m \u001b[32m━━━━━━━━━━━━━━━━━━━━\u001b[0m\u001b[37m\u001b[0m \u001b[1m0s\u001b[0m 34ms/step - accuracy: 0.7354 - loss: 1.3902 - val_accuracy: 0.0556 - val_loss: 7.8449\n",
      "Epoch 119/150\n",
      "\u001b[1m3/3\u001b[0m \u001b[32m━━━━━━━━━━━━━━━━━━━━\u001b[0m\u001b[37m\u001b[0m \u001b[1m0s\u001b[0m 46ms/step - accuracy: 0.7542 - loss: 1.3331 - val_accuracy: 0.0556 - val_loss: 7.8617\n",
      "Epoch 120/150\n",
      "\u001b[1m3/3\u001b[0m \u001b[32m━━━━━━━━━━━━━━━━━━━━\u001b[0m\u001b[37m\u001b[0m \u001b[1m0s\u001b[0m 40ms/step - accuracy: 0.6710 - loss: 1.3462 - val_accuracy: 0.0556 - val_loss: 7.8802\n",
      "Epoch 121/150\n",
      "\u001b[1m3/3\u001b[0m \u001b[32m━━━━━━━━━━━━━━━━━━━━\u001b[0m\u001b[37m\u001b[0m \u001b[1m0s\u001b[0m 39ms/step - accuracy: 0.7425 - loss: 1.3837 - val_accuracy: 0.0556 - val_loss: 7.8841\n",
      "Epoch 122/150\n",
      "\u001b[1m3/3\u001b[0m \u001b[32m━━━━━━━━━━━━━━━━━━━━\u001b[0m\u001b[37m\u001b[0m \u001b[1m0s\u001b[0m 45ms/step - accuracy: 0.6931 - loss: 1.3314 - val_accuracy: 0.0556 - val_loss: 7.8993\n",
      "Epoch 123/150\n",
      "\u001b[1m3/3\u001b[0m \u001b[32m━━━━━━━━━━━━━━━━━━━━\u001b[0m\u001b[37m\u001b[0m \u001b[1m0s\u001b[0m 45ms/step - accuracy: 0.7503 - loss: 1.2756 - val_accuracy: 0.0556 - val_loss: 7.9196\n",
      "Epoch 124/150\n",
      "\u001b[1m3/3\u001b[0m \u001b[32m━━━━━━━━━━━━━━━━━━━━\u001b[0m\u001b[37m\u001b[0m \u001b[1m0s\u001b[0m 79ms/step - accuracy: 0.7614 - loss: 1.1823 - val_accuracy: 0.0556 - val_loss: 7.9382\n",
      "Epoch 125/150\n",
      "\u001b[1m3/3\u001b[0m \u001b[32m━━━━━━━━━━━━━━━━━━━━\u001b[0m\u001b[37m\u001b[0m \u001b[1m0s\u001b[0m 62ms/step - accuracy: 0.7347 - loss: 1.2365 - val_accuracy: 0.0556 - val_loss: 7.9489\n",
      "Epoch 126/150\n",
      "\u001b[1m3/3\u001b[0m \u001b[32m━━━━━━━━━━━━━━━━━━━━\u001b[0m\u001b[37m\u001b[0m \u001b[1m0s\u001b[0m 32ms/step - accuracy: 0.7835 - loss: 1.2520 - val_accuracy: 0.0556 - val_loss: 7.9708\n",
      "Epoch 127/150\n",
      "\u001b[1m3/3\u001b[0m \u001b[32m━━━━━━━━━━━━━━━━━━━━\u001b[0m\u001b[37m\u001b[0m \u001b[1m0s\u001b[0m 44ms/step - accuracy: 0.7055 - loss: 1.2940 - val_accuracy: 0.0556 - val_loss: 7.9806\n",
      "Epoch 128/150\n",
      "\u001b[1m3/3\u001b[0m \u001b[32m━━━━━━━━━━━━━━━━━━━━\u001b[0m\u001b[37m\u001b[0m \u001b[1m0s\u001b[0m 40ms/step - accuracy: 0.7848 - loss: 1.2325 - val_accuracy: 0.0556 - val_loss: 7.9772\n",
      "Epoch 129/150\n",
      "\u001b[1m3/3\u001b[0m \u001b[32m━━━━━━━━━━━━━━━━━━━━\u001b[0m\u001b[37m\u001b[0m \u001b[1m0s\u001b[0m 40ms/step - accuracy: 0.7087 - loss: 1.2888 - val_accuracy: 0.0556 - val_loss: 7.9848\n",
      "Epoch 130/150\n",
      "\u001b[1m3/3\u001b[0m \u001b[32m━━━━━━━━━━━━━━━━━━━━\u001b[0m\u001b[37m\u001b[0m \u001b[1m0s\u001b[0m 49ms/step - accuracy: 0.7451 - loss: 1.3007 - val_accuracy: 0.0556 - val_loss: 8.0096\n",
      "Epoch 131/150\n",
      "\u001b[1m3/3\u001b[0m \u001b[32m━━━━━━━━━━━━━━━━━━━━\u001b[0m\u001b[37m\u001b[0m \u001b[1m0s\u001b[0m 21ms/step - accuracy: 0.8323 - loss: 1.1897 - val_accuracy: 0.0556 - val_loss: 8.0412\n",
      "Epoch 132/150\n",
      "\u001b[1m3/3\u001b[0m \u001b[32m━━━━━━━━━━━━━━━━━━━━\u001b[0m\u001b[37m\u001b[0m \u001b[1m0s\u001b[0m 24ms/step - accuracy: 0.7217 - loss: 1.1924 - val_accuracy: 0.0556 - val_loss: 8.0497\n",
      "Epoch 133/150\n",
      "\u001b[1m3/3\u001b[0m \u001b[32m━━━━━━━━━━━━━━━━━━━━\u001b[0m\u001b[37m\u001b[0m \u001b[1m0s\u001b[0m 24ms/step - accuracy: 0.7991 - loss: 1.1615 - val_accuracy: 0.0556 - val_loss: 8.0384\n",
      "Epoch 134/150\n",
      "\u001b[1m3/3\u001b[0m \u001b[32m━━━━━━━━━━━━━━━━━━━━\u001b[0m\u001b[37m\u001b[0m \u001b[1m0s\u001b[0m 24ms/step - accuracy: 0.8700 - loss: 1.1359 - val_accuracy: 0.0556 - val_loss: 8.0359\n",
      "Epoch 135/150\n",
      "\u001b[1m3/3\u001b[0m \u001b[32m━━━━━━━━━━━━━━━━━━━━\u001b[0m\u001b[37m\u001b[0m \u001b[1m0s\u001b[0m 23ms/step - accuracy: 0.7984 - loss: 1.1030 - val_accuracy: 0.0556 - val_loss: 8.0587\n",
      "Epoch 136/150\n",
      "\u001b[1m3/3\u001b[0m \u001b[32m━━━━━━━━━━━━━━━━━━━━\u001b[0m\u001b[37m\u001b[0m \u001b[1m0s\u001b[0m 24ms/step - accuracy: 0.8355 - loss: 1.1383 - val_accuracy: 0.0556 - val_loss: 8.1044\n",
      "Epoch 137/150\n",
      "\u001b[1m3/3\u001b[0m \u001b[32m━━━━━━━━━━━━━━━━━━━━\u001b[0m\u001b[37m\u001b[0m \u001b[1m0s\u001b[0m 20ms/step - accuracy: 0.8062 - loss: 1.0832 - val_accuracy: 0.0556 - val_loss: 8.1521\n",
      "Epoch 138/150\n",
      "\u001b[1m3/3\u001b[0m \u001b[32m━━━━━━━━━━━━━━━━━━━━\u001b[0m\u001b[37m\u001b[0m \u001b[1m0s\u001b[0m 27ms/step - accuracy: 0.7913 - loss: 1.0958 - val_accuracy: 0.0556 - val_loss: 8.1966\n",
      "Epoch 139/150\n",
      "\u001b[1m3/3\u001b[0m \u001b[32m━━━━━━━━━━━━━━━━━━━━\u001b[0m\u001b[37m\u001b[0m \u001b[1m0s\u001b[0m 24ms/step - accuracy: 0.7393 - loss: 1.1092 - val_accuracy: 0.0556 - val_loss: 8.2394\n",
      "Epoch 140/150\n",
      "\u001b[1m3/3\u001b[0m \u001b[32m━━━━━━━━━━━━━━━━━━━━\u001b[0m\u001b[37m\u001b[0m \u001b[1m0s\u001b[0m 24ms/step - accuracy: 0.8544 - loss: 1.0807 - val_accuracy: 0.0556 - val_loss: 8.2656\n",
      "Epoch 141/150\n",
      "\u001b[1m3/3\u001b[0m \u001b[32m━━━━━━━━━━━━━━━━━━━━\u001b[0m\u001b[37m\u001b[0m \u001b[1m0s\u001b[0m 24ms/step - accuracy: 0.8622 - loss: 1.0705 - val_accuracy: 0.0556 - val_loss: 8.2739\n",
      "Epoch 142/150\n",
      "\u001b[1m3/3\u001b[0m \u001b[32m━━━━━━━━━━━━━━━━━━━━\u001b[0m\u001b[37m\u001b[0m \u001b[1m0s\u001b[0m 27ms/step - accuracy: 0.7906 - loss: 1.1579 - val_accuracy: 0.0556 - val_loss: 8.2672\n",
      "Epoch 143/150\n",
      "\u001b[1m3/3\u001b[0m \u001b[32m━━━━━━━━━━━━━━━━━━━━\u001b[0m\u001b[37m\u001b[0m \u001b[1m0s\u001b[0m 36ms/step - accuracy: 0.7600 - loss: 1.0840 - val_accuracy: 0.0556 - val_loss: 8.2599\n",
      "Epoch 144/150\n",
      "\u001b[1m3/3\u001b[0m \u001b[32m━━━━━━━━━━━━━━━━━━━━\u001b[0m\u001b[37m\u001b[0m \u001b[1m0s\u001b[0m 37ms/step - accuracy: 0.8504 - loss: 1.0034 - val_accuracy: 0.0556 - val_loss: 8.2480\n",
      "Epoch 145/150\n",
      "\u001b[1m3/3\u001b[0m \u001b[32m━━━━━━━━━━━━━━━━━━━━\u001b[0m\u001b[37m\u001b[0m \u001b[1m0s\u001b[0m 36ms/step - accuracy: 0.8511 - loss: 0.9942 - val_accuracy: 0.0556 - val_loss: 8.2281\n",
      "Epoch 146/150\n",
      "\u001b[1m3/3\u001b[0m \u001b[32m━━━━━━━━━━━━━━━━━━━━\u001b[0m\u001b[37m\u001b[0m \u001b[1m0s\u001b[0m 42ms/step - accuracy: 0.8134 - loss: 0.9855 - val_accuracy: 0.0556 - val_loss: 8.1986\n",
      "Epoch 147/150\n",
      "\u001b[1m3/3\u001b[0m \u001b[32m━━━━━━━━━━━━━━━━━━━━\u001b[0m\u001b[37m\u001b[0m \u001b[1m0s\u001b[0m 47ms/step - accuracy: 0.8283 - loss: 1.0763 - val_accuracy: 0.0556 - val_loss: 8.1949\n",
      "Epoch 148/150\n",
      "\u001b[1m3/3\u001b[0m \u001b[32m━━━━━━━━━━━━━━━━━━━━\u001b[0m\u001b[37m\u001b[0m \u001b[1m0s\u001b[0m 30ms/step - accuracy: 0.8433 - loss: 1.0203 - val_accuracy: 0.0556 - val_loss: 8.2242\n",
      "Epoch 149/150\n",
      "\u001b[1m3/3\u001b[0m \u001b[32m━━━━━━━━━━━━━━━━━━━━\u001b[0m\u001b[37m\u001b[0m \u001b[1m0s\u001b[0m 48ms/step - accuracy: 0.8329 - loss: 0.9794 - val_accuracy: 0.0556 - val_loss: 8.2575\n",
      "Epoch 150/150\n",
      "\u001b[1m3/3\u001b[0m \u001b[32m━━━━━━━━━━━━━━━━━━━━\u001b[0m\u001b[37m\u001b[0m \u001b[1m0s\u001b[0m 60ms/step - accuracy: 0.7913 - loss: 1.0314 - val_accuracy: 0.0556 - val_loss: 8.2824\n"
     ]
    }
   ],
   "source": [
    "history=model.fit(x_train,y_train,validation_split=(0.2),epochs=150,verbose=True)"
   ]
  },
  {
   "cell_type": "code",
   "execution_count": 36,
   "metadata": {},
   "outputs": [],
   "source": [
    "import matplotlib.pyplot as plt"
   ]
  },
  {
   "cell_type": "code",
   "execution_count": 37,
   "metadata": {},
   "outputs": [
    {
     "data": {
      "text/plain": [
       "[<matplotlib.lines.Line2D at 0x21c7d928080>]"
      ]
     },
     "execution_count": 37,
     "metadata": {},
     "output_type": "execute_result"
    },
    {
     "data": {
      "image/png": "[encoded data removed]",
      "text/plain": [
       "<Figure size 640x480 with 1 Axes>"
      ]
     },
     "metadata": {},
     "output_type": "display_data"
    }
   ],
   "source": [
    "plt.plot(history.history['accuracy'])"
   ]
  },
  {
   "cell_type": "code",
   "execution_count": 38,
   "metadata": {},
   "outputs": [
    {
     "data": {
      "text/plain": [
       "[<matplotlib.lines.Line2D at 0x21c05000b30>]"
      ]
     },
     "execution_count": 38,
     "metadata": {},
     "output_type": "execute_result"
    },
    {
     "data": {
      "image/png": "[encoded data removed]",
      "text/plain": [
       "<Figure size 640x480 with 1 Axes>"
      ]
     },
     "metadata": {},
     "output_type": "display_data"
    }
   ],
   "source": [
    "plt.plot(history.history['val_accuracy'])"
   ]
  },
  {
   "cell_type": "code",
   "execution_count": 39,
   "metadata": {},
   "outputs": [],
   "source": [
    "def prediction(data):\n",
    "    token=tokenizer.texts_to_sequences([data])[0]\n",
    "    if len(token)>max_length:\n",
    "        token=token[-(max_length):]\n",
    "    else:\n",
    "        pad_seq=np.array(pad_sequences([token],padding='pre',maxlen=max_length+1))\n",
    "        print(pad_seq)\n",
    "        pred=model.predict(pad_seq)\n",
    "        value=np.argmax(pred,axis=1)\n",
    "        for word,index in tokenizer.word_index.items():\n",
    "            if index==value:\n",
    "                return word\n",
    "        return None"
   ]
  },
  {
   "cell_type": "code",
   "execution_count": 40,
   "metadata": {},
   "outputs": [
    {
     "name": "stdout",
     "output_type": "stream",
     "text": [
      "[[ 0  0  0  0  0  0  0  0  0  0  0  0  0  1  2 70  9 71 12]]\n",
      "\u001b[1m1/1\u001b[0m \u001b[32m━━━━━━━━━━━━━━━━━━━━\u001b[0m\u001b[37m\u001b[0m \u001b[1m0s\u001b[0m 262ms/step\n",
      "data\n"
     ]
    }
   ],
   "source": [
    "input=\"Deep learning models learn directly from  \"\n",
    "print(prediction(input))"
   ]
  },
  {
   "cell_type": "code",
   "execution_count": 43,
   "metadata": {},
   "outputs": [],
   "source": [
    "#gru have \n",
    "#rt =>reset gate,\n",
    "#zt =>update gate\n",
    "#ht=>temporary hidden state\n",
    "#it has no long term memory instead ht-1 will act as a both longterm and short term memory\n",
    "#reset gate resetting the information from the ht-1 in memory\n",
    "#temporary hidden state ht is coupling of update gate zt some information will be add in it\n",
    "# ht-1 ---->ht\n",
    "# update gate->candidate gate "
   ]
  }
 ],
 "metadata": {
  "kernelspec": {
   "display_name": "Python 3",
   "language": "python",
   "name": "python3"
  },
  "language_info": {
   "codemirror_mode": {
    "name": "ipython",
    "version": 3
   },
   "file_extension": ".py",
   "mimetype": "text/x-python",
   "name": "python",
   "nbconvert_exporter": "python",
   "pygments_lexer": "ipython3",
   "version": "3.12.2"
  }
 },
 "nbformat": 4,
 "nbformat_minor": 2
}
