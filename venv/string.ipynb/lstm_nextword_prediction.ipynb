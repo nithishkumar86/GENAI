{
 "cells": [
  {
   "cell_type": "code",
   "execution_count": 45,
   "metadata": {},
   "outputs": [],
   "source": [
    "#lstm using next word prediction in tensorflow"
   ]
  },
  {
   "cell_type": "code",
   "execution_count": 44,
   "metadata": {},
   "outputs": [],
   "source": [
    "import pandas as pd\n",
    "import numpy as np\n",
    "import tensorflow\n",
    "from tensorflow.keras.models import Sequential\n",
    "from tensorflow.keras.layers import Dense,Embedding,LSTM,Dropout,Activation\n",
    "from tensorflow.keras.utils import pad_sequences\n",
    "from tensorflow.keras.utils import to_categorical\n",
    "from tensorflow.keras.preprocessing.text import Tokenizer"
   ]
  },
  {
   "cell_type": "code",
   "execution_count": 2,
   "metadata": {},
   "outputs": [],
   "source": [
    "text=\"\"\"\n",
    "Deep Learning tutorial covers the basics and more advanced topics, \n",
    "making it perfect for beginners and those with experience. \n",
    "Whether you just starting or looking to expand your knowledge,\n",
    "this guide makes it easy to learn about the different technologies of Deep Learning.\n",
    "Deep Learning is a branch of Artificial Intelligence that enables machines to learn from large amounts of data.\n",
    "It uses neural networks with many layers to automatically find patterns and make predictions.\n",
    "It is very useful for tasks like image recognition, language translation, and speech processing.\n",
    "Deep learning models learn directly from data, without the need for manual feature extraction.\n",
    "Popular applications of Deep Learning include self-driving cars, chatbots, medical image analysis, and recommendation systems.\n",
    "\"\"\""
   ]
  },
  {
   "cell_type": "code",
   "execution_count": 3,
   "metadata": {},
   "outputs": [
    {
     "data": {
      "text/plain": [
       "'\\nDeep Learning tutorial covers the basics and more advanced topics, \\nmaking it perfect for beginners and those with experience. \\nWhether you just starting or looking to expand your knowledge,\\nthis guide makes it easy to learn about the different technologies of Deep Learning.\\nDeep Learning is a branch of Artificial Intelligence that enables machines to learn from large amounts of data.\\nIt uses neural networks with many layers to automatically find patterns and make predictions.\\nIt is very useful for tasks like image recognition, language translation, and speech processing.\\nDeep learning models learn directly from data, without the need for manual feature extraction.\\nPopular applications of Deep Learning include self-driving cars, chatbots, medical image analysis, and recommendation systems.\\n'"
      ]
     },
     "execution_count": 3,
     "metadata": {},
     "output_type": "execute_result"
    }
   ],
   "source": [
    "text"
   ]
  },
  {
   "cell_type": "code",
   "execution_count": 4,
   "metadata": {},
   "outputs": [],
   "source": [
    "tokenizer=Tokenizer()"
   ]
  },
  {
   "cell_type": "code",
   "execution_count": 5,
   "metadata": {},
   "outputs": [],
   "source": [
    "tokenizer.fit_on_texts([text])"
   ]
  },
  {
   "cell_type": "code",
   "execution_count": 6,
   "metadata": {},
   "outputs": [
    {
     "data": {
      "text/plain": [
       "dict_items([('deep', 1), ('learning', 2), ('and', 3), ('it', 4), ('to', 5), ('of', 6), ('the', 7), ('for', 8), ('learn', 9), ('with', 10), ('is', 11), ('from', 12), ('data', 13), ('image', 14), ('tutorial', 15), ('covers', 16), ('basics', 17), ('more', 18), ('advanced', 19), ('topics', 20), ('making', 21), ('perfect', 22), ('beginners', 23), ('those', 24), ('experience', 25), ('whether', 26), ('you', 27), ('just', 28), ('starting', 29), ('or', 30), ('looking', 31), ('expand', 32), ('your', 33), ('knowledge', 34), ('this', 35), ('guide', 36), ('makes', 37), ('easy', 38), ('about', 39), ('different', 40), ('technologies', 41), ('a', 42), ('branch', 43), ('artificial', 44), ('intelligence', 45), ('that', 46), ('enables', 47), ('machines', 48), ('large', 49), ('amounts', 50), ('uses', 51), ('neural', 52), ('networks', 53), ('many', 54), ('layers', 55), ('automatically', 56), ('find', 57), ('patterns', 58), ('make', 59), ('predictions', 60), ('very', 61), ('useful', 62), ('tasks', 63), ('like', 64), ('recognition', 65), ('language', 66), ('translation', 67), ('speech', 68), ('processing', 69), ('models', 70), ('directly', 71), ('without', 72), ('need', 73), ('manual', 74), ('feature', 75), ('extraction', 76), ('popular', 77), ('applications', 78), ('include', 79), ('self', 80), ('driving', 81), ('cars', 82), ('chatbots', 83), ('medical', 84), ('analysis', 85), ('recommendation', 86), ('systems', 87)])"
      ]
     },
     "execution_count": 6,
     "metadata": {},
     "output_type": "execute_result"
    }
   ],
   "source": [
    "tokenizer.word_index.items()"
   ]
  },
  {
   "cell_type": "code",
   "execution_count": 7,
   "metadata": {},
   "outputs": [],
   "source": [
    "total_words=len(tokenizer.word_index)+1"
   ]
  },
  {
   "cell_type": "code",
   "execution_count": 8,
   "metadata": {},
   "outputs": [
    {
     "data": {
      "text/plain": [
       "88"
      ]
     },
     "execution_count": 8,
     "metadata": {},
     "output_type": "execute_result"
    }
   ],
   "source": [
    "total_words"
   ]
  },
  {
   "cell_type": "code",
   "execution_count": 9,
   "metadata": {},
   "outputs": [],
   "source": [
    "vector_corpus=[]\n",
    "for line in text.split('\\n'):\n",
    "    vector=tokenizer.texts_to_sequences([line])[0]\n",
    "    for i in range(1,len(vector)):\n",
    "        text=vector[:i+1]\n",
    "        vector_corpus.append(text)\n"
   ]
  },
  {
   "cell_type": "code",
   "execution_count": 10,
   "metadata": {},
   "outputs": [
    {
     "data": {
      "text/plain": [
       "[[1, 2],\n",
       " [1, 2, 15],\n",
       " [1, 2, 15, 16],\n",
       " [1, 2, 15, 16, 7],\n",
       " [1, 2, 15, 16, 7, 17],\n",
       " [1, 2, 15, 16, 7, 17, 3],\n",
       " [1, 2, 15, 16, 7, 17, 3, 18],\n",
       " [1, 2, 15, 16, 7, 17, 3, 18, 19],\n",
       " [1, 2, 15, 16, 7, 17, 3, 18, 19, 20],\n",
       " [21, 4],\n",
       " [21, 4, 22],\n",
       " [21, 4, 22, 8],\n",
       " [21, 4, 22, 8, 23],\n",
       " [21, 4, 22, 8, 23, 3],\n",
       " [21, 4, 22, 8, 23, 3, 24],\n",
       " [21, 4, 22, 8, 23, 3, 24, 10],\n",
       " [21, 4, 22, 8, 23, 3, 24, 10, 25],\n",
       " [26, 27],\n",
       " [26, 27, 28],\n",
       " [26, 27, 28, 29],\n",
       " [26, 27, 28, 29, 30],\n",
       " [26, 27, 28, 29, 30, 31],\n",
       " [26, 27, 28, 29, 30, 31, 5],\n",
       " [26, 27, 28, 29, 30, 31, 5, 32],\n",
       " [26, 27, 28, 29, 30, 31, 5, 32, 33],\n",
       " [26, 27, 28, 29, 30, 31, 5, 32, 33, 34],\n",
       " [35, 36],\n",
       " [35, 36, 37],\n",
       " [35, 36, 37, 4],\n",
       " [35, 36, 37, 4, 38],\n",
       " [35, 36, 37, 4, 38, 5],\n",
       " [35, 36, 37, 4, 38, 5, 9],\n",
       " [35, 36, 37, 4, 38, 5, 9, 39],\n",
       " [35, 36, 37, 4, 38, 5, 9, 39, 7],\n",
       " [35, 36, 37, 4, 38, 5, 9, 39, 7, 40],\n",
       " [35, 36, 37, 4, 38, 5, 9, 39, 7, 40, 41],\n",
       " [35, 36, 37, 4, 38, 5, 9, 39, 7, 40, 41, 6],\n",
       " [35, 36, 37, 4, 38, 5, 9, 39, 7, 40, 41, 6, 1],\n",
       " [35, 36, 37, 4, 38, 5, 9, 39, 7, 40, 41, 6, 1, 2],\n",
       " [1, 2],\n",
       " [1, 2, 11],\n",
       " [1, 2, 11, 42],\n",
       " [1, 2, 11, 42, 43],\n",
       " [1, 2, 11, 42, 43, 6],\n",
       " [1, 2, 11, 42, 43, 6, 44],\n",
       " [1, 2, 11, 42, 43, 6, 44, 45],\n",
       " [1, 2, 11, 42, 43, 6, 44, 45, 46],\n",
       " [1, 2, 11, 42, 43, 6, 44, 45, 46, 47],\n",
       " [1, 2, 11, 42, 43, 6, 44, 45, 46, 47, 48],\n",
       " [1, 2, 11, 42, 43, 6, 44, 45, 46, 47, 48, 5],\n",
       " [1, 2, 11, 42, 43, 6, 44, 45, 46, 47, 48, 5, 9],\n",
       " [1, 2, 11, 42, 43, 6, 44, 45, 46, 47, 48, 5, 9, 12],\n",
       " [1, 2, 11, 42, 43, 6, 44, 45, 46, 47, 48, 5, 9, 12, 49],\n",
       " [1, 2, 11, 42, 43, 6, 44, 45, 46, 47, 48, 5, 9, 12, 49, 50],\n",
       " [1, 2, 11, 42, 43, 6, 44, 45, 46, 47, 48, 5, 9, 12, 49, 50, 6],\n",
       " [1, 2, 11, 42, 43, 6, 44, 45, 46, 47, 48, 5, 9, 12, 49, 50, 6, 13],\n",
       " [4, 51],\n",
       " [4, 51, 52],\n",
       " [4, 51, 52, 53],\n",
       " [4, 51, 52, 53, 10],\n",
       " [4, 51, 52, 53, 10, 54],\n",
       " [4, 51, 52, 53, 10, 54, 55],\n",
       " [4, 51, 52, 53, 10, 54, 55, 5],\n",
       " [4, 51, 52, 53, 10, 54, 55, 5, 56],\n",
       " [4, 51, 52, 53, 10, 54, 55, 5, 56, 57],\n",
       " [4, 51, 52, 53, 10, 54, 55, 5, 56, 57, 58],\n",
       " [4, 51, 52, 53, 10, 54, 55, 5, 56, 57, 58, 3],\n",
       " [4, 51, 52, 53, 10, 54, 55, 5, 56, 57, 58, 3, 59],\n",
       " [4, 51, 52, 53, 10, 54, 55, 5, 56, 57, 58, 3, 59, 60],\n",
       " [4, 11],\n",
       " [4, 11, 61],\n",
       " [4, 11, 61, 62],\n",
       " [4, 11, 61, 62, 8],\n",
       " [4, 11, 61, 62, 8, 63],\n",
       " [4, 11, 61, 62, 8, 63, 64],\n",
       " [4, 11, 61, 62, 8, 63, 64, 14],\n",
       " [4, 11, 61, 62, 8, 63, 64, 14, 65],\n",
       " [4, 11, 61, 62, 8, 63, 64, 14, 65, 66],\n",
       " [4, 11, 61, 62, 8, 63, 64, 14, 65, 66, 67],\n",
       " [4, 11, 61, 62, 8, 63, 64, 14, 65, 66, 67, 3],\n",
       " [4, 11, 61, 62, 8, 63, 64, 14, 65, 66, 67, 3, 68],\n",
       " [4, 11, 61, 62, 8, 63, 64, 14, 65, 66, 67, 3, 68, 69],\n",
       " [1, 2],\n",
       " [1, 2, 70],\n",
       " [1, 2, 70, 9],\n",
       " [1, 2, 70, 9, 71],\n",
       " [1, 2, 70, 9, 71, 12],\n",
       " [1, 2, 70, 9, 71, 12, 13],\n",
       " [1, 2, 70, 9, 71, 12, 13, 72],\n",
       " [1, 2, 70, 9, 71, 12, 13, 72, 7],\n",
       " [1, 2, 70, 9, 71, 12, 13, 72, 7, 73],\n",
       " [1, 2, 70, 9, 71, 12, 13, 72, 7, 73, 8],\n",
       " [1, 2, 70, 9, 71, 12, 13, 72, 7, 73, 8, 74],\n",
       " [1, 2, 70, 9, 71, 12, 13, 72, 7, 73, 8, 74, 75],\n",
       " [1, 2, 70, 9, 71, 12, 13, 72, 7, 73, 8, 74, 75, 76],\n",
       " [77, 78],\n",
       " [77, 78, 6],\n",
       " [77, 78, 6, 1],\n",
       " [77, 78, 6, 1, 2],\n",
       " [77, 78, 6, 1, 2, 79],\n",
       " [77, 78, 6, 1, 2, 79, 80],\n",
       " [77, 78, 6, 1, 2, 79, 80, 81],\n",
       " [77, 78, 6, 1, 2, 79, 80, 81, 82],\n",
       " [77, 78, 6, 1, 2, 79, 80, 81, 82, 83],\n",
       " [77, 78, 6, 1, 2, 79, 80, 81, 82, 83, 84],\n",
       " [77, 78, 6, 1, 2, 79, 80, 81, 82, 83, 84, 14],\n",
       " [77, 78, 6, 1, 2, 79, 80, 81, 82, 83, 84, 14, 85],\n",
       " [77, 78, 6, 1, 2, 79, 80, 81, 82, 83, 84, 14, 85, 3],\n",
       " [77, 78, 6, 1, 2, 79, 80, 81, 82, 83, 84, 14, 85, 3, 86],\n",
       " [77, 78, 6, 1, 2, 79, 80, 81, 82, 83, 84, 14, 85, 3, 86, 87]]"
      ]
     },
     "execution_count": 10,
     "metadata": {},
     "output_type": "execute_result"
    }
   ],
   "source": [
    "vector_corpus"
   ]
  },
  {
   "cell_type": "code",
   "execution_count": 11,
   "metadata": {},
   "outputs": [],
   "source": [
    "max_length=max([len(vec) for vec in vector_corpus])"
   ]
  },
  {
   "cell_type": "code",
   "execution_count": 12,
   "metadata": {},
   "outputs": [
    {
     "data": {
      "text/plain": [
       "18"
      ]
     },
     "execution_count": 12,
     "metadata": {},
     "output_type": "execute_result"
    }
   ],
   "source": [
    "max_length"
   ]
  },
  {
   "cell_type": "code",
   "execution_count": 13,
   "metadata": {},
   "outputs": [],
   "source": [
    "pad=np.array(pad_sequences(vector_corpus,maxlen=max_length))"
   ]
  },
  {
   "cell_type": "code",
   "execution_count": 14,
   "metadata": {},
   "outputs": [
    {
     "data": {
      "text/plain": [
       "array([[ 0,  0,  0, ...,  0,  1,  2],\n",
       "       [ 0,  0,  0, ...,  1,  2, 15],\n",
       "       [ 0,  0,  0, ...,  2, 15, 16],\n",
       "       ...,\n",
       "       [ 0,  0,  0, ..., 14, 85,  3],\n",
       "       [ 0,  0,  0, ..., 85,  3, 86],\n",
       "       [ 0,  0, 77, ...,  3, 86, 87]])"
      ]
     },
     "execution_count": 14,
     "metadata": {},
     "output_type": "execute_result"
    }
   ],
   "source": [
    "pad"
   ]
  },
  {
   "cell_type": "code",
   "execution_count": 15,
   "metadata": {},
   "outputs": [
    {
     "data": {
      "text/plain": [
       "array([[ 0,  0,  0, ...,  0,  0,  1],\n",
       "       [ 0,  0,  0, ...,  0,  1,  2],\n",
       "       [ 0,  0,  0, ...,  1,  2, 15],\n",
       "       ...,\n",
       "       [ 0,  0,  0, ..., 84, 14, 85],\n",
       "       [ 0,  0,  0, ..., 14, 85,  3],\n",
       "       [ 0,  0, 77, ..., 85,  3, 86]])"
      ]
     },
     "execution_count": 15,
     "metadata": {},
     "output_type": "execute_result"
    }
   ],
   "source": [
    "x=pad[:,:-1]\n",
    "x"
   ]
  },
  {
   "cell_type": "code",
   "execution_count": 16,
   "metadata": {},
   "outputs": [
    {
     "data": {
      "text/plain": [
       "array([ 2, 15, 16,  7, 17,  3, 18, 19, 20,  4, 22,  8, 23,  3, 24, 10, 25,\n",
       "       27, 28, 29, 30, 31,  5, 32, 33, 34, 36, 37,  4, 38,  5,  9, 39,  7,\n",
       "       40, 41,  6,  1,  2,  2, 11, 42, 43,  6, 44, 45, 46, 47, 48,  5,  9,\n",
       "       12, 49, 50,  6, 13, 51, 52, 53, 10, 54, 55,  5, 56, 57, 58,  3, 59,\n",
       "       60, 11, 61, 62,  8, 63, 64, 14, 65, 66, 67,  3, 68, 69,  2, 70,  9,\n",
       "       71, 12, 13, 72,  7, 73,  8, 74, 75, 76, 78,  6,  1,  2, 79, 80, 81,\n",
       "       82, 83, 84, 14, 85,  3, 86, 87])"
      ]
     },
     "execution_count": 16,
     "metadata": {},
     "output_type": "execute_result"
    }
   ],
   "source": [
    "y=pad[:,-1]\n",
    "y"
   ]
  },
  {
   "cell_type": "code",
   "execution_count": 17,
   "metadata": {},
   "outputs": [
    {
     "data": {
      "text/plain": [
       "(110,)"
      ]
     },
     "execution_count": 17,
     "metadata": {},
     "output_type": "execute_result"
    }
   ],
   "source": [
    "y.shape"
   ]
  },
  {
   "cell_type": "code",
   "execution_count": 18,
   "metadata": {},
   "outputs": [],
   "source": [
    "y=np.array(to_categorical(y,num_classes=total_words))"
   ]
  },
  {
   "cell_type": "code",
   "execution_count": 19,
   "metadata": {},
   "outputs": [
    {
     "data": {
      "text/plain": [
       "array([[0., 0., 1., ..., 0., 0., 0.],\n",
       "       [0., 0., 0., ..., 0., 0., 0.],\n",
       "       [0., 0., 0., ..., 0., 0., 0.],\n",
       "       ...,\n",
       "       [0., 0., 0., ..., 0., 0., 0.],\n",
       "       [0., 0., 0., ..., 0., 1., 0.],\n",
       "       [0., 0., 0., ..., 0., 0., 1.]])"
      ]
     },
     "execution_count": 19,
     "metadata": {},
     "output_type": "execute_result"
    }
   ],
   "source": [
    "y"
   ]
  },
  {
   "cell_type": "code",
   "execution_count": 20,
   "metadata": {},
   "outputs": [
    {
     "data": {
      "text/plain": [
       "array([0., 0., 1., 0., 0., 0., 0., 0., 0., 0., 0., 0., 0., 0., 0., 0., 0.,\n",
       "       0., 0., 0., 0., 0., 0., 0., 0., 0., 0., 0., 0., 0., 0., 0., 0., 0.,\n",
       "       0., 0., 0., 0., 0., 0., 0., 0., 0., 0., 0., 0., 0., 0., 0., 0., 0.,\n",
       "       0., 0., 0., 0., 0., 0., 0., 0., 0., 0., 0., 0., 0., 0., 0., 0., 0.,\n",
       "       0., 0., 0., 0., 0., 0., 0., 0., 0., 0., 0., 0., 0., 0., 0., 0., 0.,\n",
       "       0., 0., 0.])"
      ]
     },
     "execution_count": 20,
     "metadata": {},
     "output_type": "execute_result"
    }
   ],
   "source": [
    "y[0]"
   ]
  },
  {
   "cell_type": "code",
   "execution_count": 21,
   "metadata": {},
   "outputs": [
    {
     "data": {
      "text/plain": [
       "88"
      ]
     },
     "execution_count": 21,
     "metadata": {},
     "output_type": "execute_result"
    }
   ],
   "source": [
    "y.shape[1]"
   ]
  },
  {
   "cell_type": "code",
   "execution_count": 22,
   "metadata": {},
   "outputs": [
    {
     "name": "stderr",
     "output_type": "stream",
     "text": [
      "c:\\Users\\user\\AppData\\Local\\Programs\\Python\\Python312\\Lib\\site-packages\\keras\\src\\layers\\core\\embedding.py:90: UserWarning: Argument `input_length` is deprecated. Just remove it.\n",
      "  warnings.warn(\n"
     ]
    }
   ],
   "source": [
    "model=Sequential()\n",
    "model.add(Embedding(total_words,50,input_length=max_length-1))\n",
    "model.add(LSTM(32,return_sequences=True))\n",
    "model.add(Dropout(0.2))\n",
    "model.add(LSTM(64))\n",
    "model.add(Dropout(0.2))\n",
    "model.add(Dense(y.shape[1],activation='softmax'))"
   ]
  },
  {
   "cell_type": "code",
   "execution_count": 23,
   "metadata": {},
   "outputs": [
    {
     "data": {
      "text/plain": [
       "88"
      ]
     },
     "execution_count": 23,
     "metadata": {},
     "output_type": "execute_result"
    }
   ],
   "source": [
    "y.shape[1]"
   ]
  },
  {
   "cell_type": "code",
   "execution_count": 24,
   "metadata": {},
   "outputs": [],
   "source": [
    "model.compile(loss=\"categorical_crossentropy\",optimizer='adam',metrics=['accuracy'])"
   ]
  },
  {
   "cell_type": "code",
   "execution_count": 25,
   "metadata": {},
   "outputs": [],
   "source": [
    "from sklearn.model_selection import train_test_split"
   ]
  },
  {
   "cell_type": "code",
   "execution_count": 26,
   "metadata": {},
   "outputs": [],
   "source": [
    "x_train,x_test,y_train,y_test=train_test_split(x,y,test_size=0.2,random_state=11)"
   ]
  },
  {
   "cell_type": "code",
   "execution_count": 27,
   "metadata": {},
   "outputs": [
    {
     "data": {
      "text/plain": [
       "((88, 17), (22, 17), (88, 88), (22, 88))"
      ]
     },
     "execution_count": 27,
     "metadata": {},
     "output_type": "execute_result"
    }
   ],
   "source": [
    "x_train.shape,x_test.shape,y_train.shape,y_test.shape"
   ]
  },
  {
   "cell_type": "code",
   "execution_count": 28,
   "metadata": {},
   "outputs": [
    {
     "data": {
      "text/plain": [
       "array([[ 0,  0,  0, ...,  1,  2, 15],\n",
       "       [ 0,  0,  0, ..., 14, 85,  3],\n",
       "       [ 0,  0,  0, ...,  7, 17,  3],\n",
       "       ...,\n",
       "       [ 0,  0,  0, ..., 66, 67,  3],\n",
       "       [ 0,  0,  0, ..., 54, 55,  5],\n",
       "       [ 0,  0,  0, ...,  5, 32, 33]])"
      ]
     },
     "execution_count": 28,
     "metadata": {},
     "output_type": "execute_result"
    }
   ],
   "source": [
    "x_train"
   ]
  },
  {
   "cell_type": "code",
   "execution_count": 29,
   "metadata": {},
   "outputs": [
    {
     "data": {
      "text/plain": [
       "array([[ 0,  0,  0,  0,  0,  0,  0,  0,  0,  0,  0,  0,  0,  0,  0,  0,\n",
       "        21],\n",
       "       [ 0,  0,  0,  0,  0,  0,  0,  0,  0,  0,  0,  0,  0,  0, 77, 78,\n",
       "         6],\n",
       "       [ 0,  0,  0,  0,  0,  0,  0,  0,  0,  0,  0, 26, 27, 28, 29, 30,\n",
       "        31],\n",
       "       [ 0,  0,  0,  0,  0,  0,  0,  0,  0,  0,  0,  0,  0,  1,  2, 70,\n",
       "         9],\n",
       "       [ 0,  0,  0,  0,  0,  0,  0,  0,  0,  0,  0,  4, 51, 52, 53, 10,\n",
       "        54],\n",
       "       [ 0,  0,  0,  0,  0,  0,  0,  0,  0,  0,  0,  0,  0,  0, 35, 36,\n",
       "        37],\n",
       "       [ 0,  0,  0,  0,  0,  0,  1,  2, 11, 42, 43,  6, 44, 45, 46, 47,\n",
       "        48],\n",
       "       [ 0,  0,  0,  0,  0,  0,  0,  0,  1,  2, 11, 42, 43,  6, 44, 45,\n",
       "        46],\n",
       "       [ 0,  0,  0,  0,  0, 77, 78,  6,  1,  2, 79, 80, 81, 82, 83, 84,\n",
       "        14],\n",
       "       [ 0,  0,  0,  0,  0,  0,  0,  4, 51, 52, 53, 10, 54, 55,  5, 56,\n",
       "        57],\n",
       "       [ 0,  0,  0,  0,  0,  0,  0,  0,  0,  1,  2, 70,  9, 71, 12, 13,\n",
       "        72],\n",
       "       [ 0,  0,  0,  0,  0,  0,  0,  0,  0,  0,  0,  0,  0,  0,  0,  0,\n",
       "         4],\n",
       "       [ 0,  0,  0,  0,  0,  0,  0,  0,  0, 21,  4, 22,  8, 23,  3, 24,\n",
       "        10],\n",
       "       [ 0,  0,  0,  0,  0,  0,  0,  0,  0,  0,  0,  0,  0,  0,  0,  1,\n",
       "         2],\n",
       "       [ 0,  0,  0,  0,  0,  0,  0,  0,  0,  0, 21,  4, 22,  8, 23,  3,\n",
       "        24],\n",
       "       [ 0,  0,  0,  0,  0,  0,  0,  0,  0,  0,  0,  0,  0,  4, 11, 61,\n",
       "        62],\n",
       "       [ 0,  0,  0,  0,  0,  0,  0,  0,  0,  0,  0,  0,  0,  0,  1,  2,\n",
       "        11],\n",
       "       [ 0,  0,  0,  0,  0,  0, 35, 36, 37,  4, 38,  5,  9, 39,  7, 40,\n",
       "        41],\n",
       "       [ 0,  0,  0,  0,  0,  0,  0,  0,  0,  1,  2, 11, 42, 43,  6, 44,\n",
       "        45],\n",
       "       [ 0,  0,  0,  0,  0,  0,  0,  0,  0,  0,  0,  0, 26, 27, 28, 29,\n",
       "        30],\n",
       "       [ 0,  0,  0,  0,  1,  2, 70,  9, 71, 12, 13, 72,  7, 73,  8, 74,\n",
       "        75],\n",
       "       [ 0,  0,  0,  0,  0,  0,  0,  0,  0,  0,  0,  0, 35, 36, 37,  4,\n",
       "        38]])"
      ]
     },
     "execution_count": 29,
     "metadata": {},
     "output_type": "execute_result"
    }
   ],
   "source": [
    "x_test"
   ]
  },
  {
   "cell_type": "code",
   "execution_count": 30,
   "metadata": {},
   "outputs": [
    {
     "data": {
      "text/plain": [
       "array([[0., 0., 0., ..., 0., 0., 0.],\n",
       "       [0., 0., 0., ..., 0., 1., 0.],\n",
       "       [0., 0., 0., ..., 0., 0., 0.],\n",
       "       ...,\n",
       "       [0., 0., 0., ..., 0., 0., 0.],\n",
       "       [0., 0., 0., ..., 0., 0., 0.],\n",
       "       [0., 0., 0., ..., 0., 0., 0.]])"
      ]
     },
     "execution_count": 30,
     "metadata": {},
     "output_type": "execute_result"
    }
   ],
   "source": [
    "y_train"
   ]
  },
  {
   "cell_type": "code",
   "execution_count": 31,
   "metadata": {},
   "outputs": [
    {
     "data": {
      "text/plain": [
       "array([[0., 0., 0., ..., 0., 0., 0.],\n",
       "       [0., 1., 0., ..., 0., 0., 0.],\n",
       "       [0., 0., 0., ..., 0., 0., 0.],\n",
       "       ...,\n",
       "       [0., 0., 0., ..., 0., 0., 0.],\n",
       "       [0., 0., 0., ..., 0., 0., 0.],\n",
       "       [0., 0., 0., ..., 0., 0., 0.]])"
      ]
     },
     "execution_count": 31,
     "metadata": {},
     "output_type": "execute_result"
    }
   ],
   "source": [
    "y_test"
   ]
  },
  {
   "cell_type": "code",
   "execution_count": 32,
   "metadata": {},
   "outputs": [],
   "source": [
    "from tensorflow.keras.callbacks import EarlyStopping"
   ]
  },
  {
   "cell_type": "code",
   "execution_count": 33,
   "metadata": {},
   "outputs": [],
   "source": [
    "earlyStopping=EarlyStopping(monitor='val_accuracy',patience=100,restore_best_weights=True)"
   ]
  },
  {
   "cell_type": "code",
   "execution_count": 34,
   "metadata": {},
   "outputs": [],
   "source": [
    "early_stopping=EarlyStopping(monitor='accuracy',patience=100,restore_best_weights=True)"
   ]
  },
  {
   "cell_type": "code",
   "execution_count": 35,
   "metadata": {},
   "outputs": [
    {
     "name": "stdout",
     "output_type": "stream",
     "text": [
      "Epoch 1/150\n",
      "\u001b[1m3/3\u001b[0m \u001b[32m━━━━━━━━━━━━━━━━━━━━\u001b[0m\u001b[37m\u001b[0m \u001b[1m4s\u001b[0m 206ms/step - accuracy: 0.0189 - loss: 4.4768 - val_accuracy: 0.0000e+00 - val_loss: 4.4791\n",
      "Epoch 2/150\n",
      "\u001b[1m3/3\u001b[0m \u001b[32m━━━━━━━━━━━━━━━━━━━━\u001b[0m\u001b[37m\u001b[0m \u001b[1m0s\u001b[0m 39ms/step - accuracy: 0.0403 - loss: 4.4708 - val_accuracy: 0.0000e+00 - val_loss: 4.4816\n",
      "Epoch 3/150\n",
      "\u001b[1m3/3\u001b[0m \u001b[32m━━━━━━━━━━━━━━━━━━━━\u001b[0m\u001b[37m\u001b[0m \u001b[1m0s\u001b[0m 32ms/step - accuracy: 0.0936 - loss: 4.4641 - val_accuracy: 0.0000e+00 - val_loss: 4.4847\n",
      "Epoch 4/150\n",
      "\u001b[1m3/3\u001b[0m \u001b[32m━━━━━━━━━━━━━━━━━━━━\u001b[0m\u001b[37m\u001b[0m \u001b[1m0s\u001b[0m 31ms/step - accuracy: 0.1164 - loss: 4.4548 - val_accuracy: 0.0000e+00 - val_loss: 4.4889\n",
      "Epoch 5/150\n",
      "\u001b[1m3/3\u001b[0m \u001b[32m━━━━━━━━━━━━━━━━━━━━\u001b[0m\u001b[37m\u001b[0m \u001b[1m0s\u001b[0m 29ms/step - accuracy: 0.0410 - loss: 4.4456 - val_accuracy: 0.0000e+00 - val_loss: 4.4956\n",
      "Epoch 6/150\n",
      "\u001b[1m3/3\u001b[0m \u001b[32m━━━━━━━━━━━━━━━━━━━━\u001b[0m\u001b[37m\u001b[0m \u001b[1m0s\u001b[0m 26ms/step - accuracy: 0.0410 - loss: 4.4336 - val_accuracy: 0.0000e+00 - val_loss: 4.5094\n",
      "Epoch 7/150\n",
      "\u001b[1m3/3\u001b[0m \u001b[32m━━━━━━━━━━━━━━━━━━━━\u001b[0m\u001b[37m\u001b[0m \u001b[1m0s\u001b[0m 22ms/step - accuracy: 0.0331 - loss: 4.4132 - val_accuracy: 0.0000e+00 - val_loss: 4.5425\n",
      "Epoch 8/150\n",
      "\u001b[1m3/3\u001b[0m \u001b[32m━━━━━━━━━━━━━━━━━━━━\u001b[0m\u001b[37m\u001b[0m \u001b[1m0s\u001b[0m 24ms/step - accuracy: 0.0598 - loss: 4.3594 - val_accuracy: 0.0000e+00 - val_loss: 4.6205\n",
      "Epoch 9/150\n",
      "\u001b[1m3/3\u001b[0m \u001b[32m━━━━━━━━━━━━━━━━━━━━\u001b[0m\u001b[37m\u001b[0m \u001b[1m0s\u001b[0m 23ms/step - accuracy: 0.0410 - loss: 4.3057 - val_accuracy: 0.0000e+00 - val_loss: 4.7545\n",
      "Epoch 10/150\n",
      "\u001b[1m3/3\u001b[0m \u001b[32m━━━━━━━━━━━━━━━━━━━━\u001b[0m\u001b[37m\u001b[0m \u001b[1m0s\u001b[0m 24ms/step - accuracy: 0.0865 - loss: 4.2239 - val_accuracy: 0.0000e+00 - val_loss: 4.8846\n",
      "Epoch 11/150\n",
      "\u001b[1m3/3\u001b[0m \u001b[32m━━━━━━━━━━━━━━━━━━━━\u001b[0m\u001b[37m\u001b[0m \u001b[1m0s\u001b[0m 24ms/step - accuracy: 0.0410 - loss: 4.2571 - val_accuracy: 0.0000e+00 - val_loss: 4.9433\n",
      "Epoch 12/150\n",
      "\u001b[1m3/3\u001b[0m \u001b[32m━━━━━━━━━━━━━━━━━━━━\u001b[0m\u001b[37m\u001b[0m \u001b[1m0s\u001b[0m 22ms/step - accuracy: 0.0598 - loss: 4.1763 - val_accuracy: 0.0000e+00 - val_loss: 4.9921\n",
      "Epoch 13/150\n",
      "\u001b[1m3/3\u001b[0m \u001b[32m━━━━━━━━━━━━━━━━━━━━\u001b[0m\u001b[37m\u001b[0m \u001b[1m0s\u001b[0m 24ms/step - accuracy: 0.0598 - loss: 4.1108 - val_accuracy: 0.0556 - val_loss: 5.0512\n",
      "Epoch 14/150\n",
      "\u001b[1m3/3\u001b[0m \u001b[32m━━━━━━━━━━━━━━━━━━━━\u001b[0m\u001b[37m\u001b[0m \u001b[1m0s\u001b[0m 32ms/step - accuracy: 0.0819 - loss: 4.1477 - val_accuracy: 0.0556 - val_loss: 5.0854\n",
      "Epoch 15/150\n",
      "\u001b[1m3/3\u001b[0m \u001b[32m━━━━━━━━━━━━━━━━━━━━\u001b[0m\u001b[37m\u001b[0m \u001b[1m0s\u001b[0m 40ms/step - accuracy: 0.0331 - loss: 4.1644 - val_accuracy: 0.1111 - val_loss: 5.1308\n",
      "Epoch 16/150\n",
      "\u001b[1m3/3\u001b[0m \u001b[32m━━━━━━━━━━━━━━━━━━━━\u001b[0m\u001b[37m\u001b[0m \u001b[1m0s\u001b[0m 31ms/step - accuracy: 0.0897 - loss: 4.1027 - val_accuracy: 0.1111 - val_loss: 5.2317\n",
      "Epoch 17/150\n",
      "\u001b[1m3/3\u001b[0m \u001b[32m━━━━━━━━━━━━━━━━━━━━\u001b[0m\u001b[37m\u001b[0m \u001b[1m0s\u001b[0m 32ms/step - accuracy: 0.1125 - loss: 4.0299 - val_accuracy: 0.0000e+00 - val_loss: 5.3589\n",
      "Epoch 18/150\n",
      "\u001b[1m3/3\u001b[0m \u001b[32m━━━━━━━━━━━━━━━━━━━━\u001b[0m\u001b[37m\u001b[0m \u001b[1m0s\u001b[0m 24ms/step - accuracy: 0.0670 - loss: 4.0442 - val_accuracy: 0.0000e+00 - val_loss: 5.4739\n",
      "Epoch 19/150\n",
      "\u001b[1m3/3\u001b[0m \u001b[32m━━━━━━━━━━━━━━━━━━━━\u001b[0m\u001b[37m\u001b[0m \u001b[1m0s\u001b[0m 24ms/step - accuracy: 0.0481 - loss: 4.0026 - val_accuracy: 0.0000e+00 - val_loss: 5.5913\n",
      "Epoch 20/150\n",
      "\u001b[1m3/3\u001b[0m \u001b[32m━━━━━━━━━━━━━━━━━━━━\u001b[0m\u001b[37m\u001b[0m \u001b[1m0s\u001b[0m 29ms/step - accuracy: 0.1157 - loss: 3.9448 - val_accuracy: 0.0000e+00 - val_loss: 5.6697\n",
      "Epoch 21/150\n",
      "\u001b[1m3/3\u001b[0m \u001b[32m━━━━━━━━━━━━━━━━━━━━\u001b[0m\u001b[37m\u001b[0m \u001b[1m0s\u001b[0m 24ms/step - accuracy: 0.0559 - loss: 3.9333 - val_accuracy: 0.0000e+00 - val_loss: 5.6612\n",
      "Epoch 22/150\n",
      "\u001b[1m3/3\u001b[0m \u001b[32m━━━━━━━━━━━━━━━━━━━━\u001b[0m\u001b[37m\u001b[0m \u001b[1m0s\u001b[0m 29ms/step - accuracy: 0.0676 - loss: 3.9299 - val_accuracy: 0.0000e+00 - val_loss: 5.6113\n",
      "Epoch 23/150\n",
      "\u001b[1m3/3\u001b[0m \u001b[32m━━━━━━━━━━━━━━━━━━━━\u001b[0m\u001b[37m\u001b[0m \u001b[1m0s\u001b[0m 22ms/step - accuracy: 0.0631 - loss: 3.9002 - val_accuracy: 0.0000e+00 - val_loss: 5.5641\n",
      "Epoch 24/150\n",
      "\u001b[1m3/3\u001b[0m \u001b[32m━━━━━━━━━━━━━━━━━━━━\u001b[0m\u001b[37m\u001b[0m \u001b[1m0s\u001b[0m 24ms/step - accuracy: 0.0819 - loss: 3.9376 - val_accuracy: 0.0556 - val_loss: 5.5897\n",
      "Epoch 25/150\n",
      "\u001b[1m3/3\u001b[0m \u001b[32m━━━━━━━━━━━━━━━━━━━━\u001b[0m\u001b[37m\u001b[0m \u001b[1m0s\u001b[0m 32ms/step - accuracy: 0.1001 - loss: 3.8548 - val_accuracy: 0.0556 - val_loss: 5.7374\n",
      "Epoch 26/150\n",
      "\u001b[1m3/3\u001b[0m \u001b[32m━━━━━━━━━━━━━━━━━━━━\u001b[0m\u001b[37m\u001b[0m \u001b[1m0s\u001b[0m 24ms/step - accuracy: 0.0741 - loss: 3.8561 - val_accuracy: 0.0556 - val_loss: 5.8134\n",
      "Epoch 27/150\n",
      "\u001b[1m3/3\u001b[0m \u001b[32m━━━━━━━━━━━━━━━━━━━━\u001b[0m\u001b[37m\u001b[0m \u001b[1m0s\u001b[0m 24ms/step - accuracy: 0.1008 - loss: 3.8020 - val_accuracy: 0.0556 - val_loss: 5.7962\n",
      "Epoch 28/150\n",
      "\u001b[1m3/3\u001b[0m \u001b[32m━━━━━━━━━━━━━━━━━━━━\u001b[0m\u001b[37m\u001b[0m \u001b[1m0s\u001b[0m 24ms/step - accuracy: 0.0975 - loss: 3.8002 - val_accuracy: 0.0556 - val_loss: 5.8060\n",
      "Epoch 29/150\n",
      "\u001b[1m3/3\u001b[0m \u001b[32m━━━━━━━━━━━━━━━━━━━━\u001b[0m\u001b[37m\u001b[0m \u001b[1m0s\u001b[0m 23ms/step - accuracy: 0.0975 - loss: 3.7636 - val_accuracy: 0.0556 - val_loss: 5.9284\n",
      "Epoch 30/150\n",
      "\u001b[1m3/3\u001b[0m \u001b[32m━━━━━━━━━━━━━━━━━━━━\u001b[0m\u001b[37m\u001b[0m \u001b[1m0s\u001b[0m 24ms/step - accuracy: 0.0891 - loss: 3.8519 - val_accuracy: 0.0556 - val_loss: 6.0418\n",
      "Epoch 31/150\n",
      "\u001b[1m3/3\u001b[0m \u001b[32m━━━━━━━━━━━━━━━━━━━━\u001b[0m\u001b[37m\u001b[0m \u001b[1m0s\u001b[0m 23ms/step - accuracy: 0.1086 - loss: 3.8299 - val_accuracy: 0.0556 - val_loss: 6.1000\n",
      "Epoch 32/150\n",
      "\u001b[1m3/3\u001b[0m \u001b[32m━━━━━━━━━━━━━━━━━━━━\u001b[0m\u001b[37m\u001b[0m \u001b[1m0s\u001b[0m 32ms/step - accuracy: 0.1086 - loss: 3.7758 - val_accuracy: 0.0556 - val_loss: 6.0974\n",
      "Epoch 33/150\n",
      "\u001b[1m3/3\u001b[0m \u001b[32m━━━━━━━━━━━━━━━━━━━━\u001b[0m\u001b[37m\u001b[0m \u001b[1m0s\u001b[0m 24ms/step - accuracy: 0.0670 - loss: 3.7963 - val_accuracy: 0.0556 - val_loss: 6.0635\n",
      "Epoch 34/150\n",
      "\u001b[1m3/3\u001b[0m \u001b[32m━━━━━━━━━━━━━━━━━━━━\u001b[0m\u001b[37m\u001b[0m \u001b[1m0s\u001b[0m 24ms/step - accuracy: 0.0670 - loss: 3.7292 - val_accuracy: 0.0556 - val_loss: 6.0640\n",
      "Epoch 35/150\n",
      "\u001b[1m3/3\u001b[0m \u001b[32m━━━━━━━━━━━━━━━━━━━━\u001b[0m\u001b[37m\u001b[0m \u001b[1m0s\u001b[0m 24ms/step - accuracy: 0.0670 - loss: 3.6837 - val_accuracy: 0.0556 - val_loss: 6.1319\n",
      "Epoch 36/150\n",
      "\u001b[1m3/3\u001b[0m \u001b[32m━━━━━━━━━━━━━━━━━━━━\u001b[0m\u001b[37m\u001b[0m \u001b[1m0s\u001b[0m 23ms/step - accuracy: 0.0709 - loss: 3.6726 - val_accuracy: 0.0556 - val_loss: 6.1936\n",
      "Epoch 37/150\n",
      "\u001b[1m3/3\u001b[0m \u001b[32m━━━━━━━━━━━━━━━━━━━━\u001b[0m\u001b[37m\u001b[0m \u001b[1m0s\u001b[0m 25ms/step - accuracy: 0.1196 - loss: 3.6034 - val_accuracy: 0.0556 - val_loss: 6.2187\n",
      "Epoch 38/150\n",
      "\u001b[1m3/3\u001b[0m \u001b[32m━━━━━━━━━━━━━━━━━━━━\u001b[0m\u001b[37m\u001b[0m \u001b[1m0s\u001b[0m 24ms/step - accuracy: 0.0936 - loss: 3.5922 - val_accuracy: 0.0556 - val_loss: 6.2908\n",
      "Epoch 39/150\n",
      "\u001b[1m3/3\u001b[0m \u001b[32m━━━━━━━━━━━━━━━━━━━━\u001b[0m\u001b[37m\u001b[0m \u001b[1m0s\u001b[0m 23ms/step - accuracy: 0.1118 - loss: 3.5748 - val_accuracy: 0.0000e+00 - val_loss: 6.3790\n",
      "Epoch 40/150\n",
      "\u001b[1m3/3\u001b[0m \u001b[32m━━━━━━━━━━━━━━━━━━━━\u001b[0m\u001b[37m\u001b[0m \u001b[1m0s\u001b[0m 31ms/step - accuracy: 0.1424 - loss: 3.5043 - val_accuracy: 0.0556 - val_loss: 6.4130\n",
      "Epoch 41/150\n",
      "\u001b[1m3/3\u001b[0m \u001b[32m━━━━━━━━━━━━━━━━━━━━\u001b[0m\u001b[37m\u001b[0m \u001b[1m0s\u001b[0m 33ms/step - accuracy: 0.1346 - loss: 3.5541 - val_accuracy: 0.0556 - val_loss: 6.4574\n",
      "Epoch 42/150\n",
      "\u001b[1m3/3\u001b[0m \u001b[32m━━━━━━━━━━━━━━━━━━━━\u001b[0m\u001b[37m\u001b[0m \u001b[1m0s\u001b[0m 24ms/step - accuracy: 0.0969 - loss: 3.5786 - val_accuracy: 0.0556 - val_loss: 6.5346\n",
      "Epoch 43/150\n",
      "\u001b[1m3/3\u001b[0m \u001b[32m━━━━━━━━━━━━━━━━━━━━\u001b[0m\u001b[37m\u001b[0m \u001b[1m0s\u001b[0m 24ms/step - accuracy: 0.1008 - loss: 3.5063 - val_accuracy: 0.0556 - val_loss: 6.6295\n",
      "Epoch 44/150\n",
      "\u001b[1m3/3\u001b[0m \u001b[32m━━━━━━━━━━━━━━━━━━━━\u001b[0m\u001b[37m\u001b[0m \u001b[1m0s\u001b[0m 24ms/step - accuracy: 0.1086 - loss: 3.5340 - val_accuracy: 0.0556 - val_loss: 6.6675\n",
      "Epoch 45/150\n",
      "\u001b[1m3/3\u001b[0m \u001b[32m━━━━━━━━━━━━━━━━━━━━\u001b[0m\u001b[37m\u001b[0m \u001b[1m0s\u001b[0m 24ms/step - accuracy: 0.1307 - loss: 3.5511 - val_accuracy: 0.0556 - val_loss: 6.7073\n",
      "Epoch 46/150\n",
      "\u001b[1m3/3\u001b[0m \u001b[32m━━━━━━━━━━━━━━━━━━━━\u001b[0m\u001b[37m\u001b[0m \u001b[1m0s\u001b[0m 21ms/step - accuracy: 0.1235 - loss: 3.4808 - val_accuracy: 0.0556 - val_loss: 6.7322\n",
      "Epoch 47/150\n",
      "\u001b[1m3/3\u001b[0m \u001b[32m━━━━━━━━━━━━━━━━━━━━\u001b[0m\u001b[37m\u001b[0m \u001b[1m0s\u001b[0m 24ms/step - accuracy: 0.0891 - loss: 3.5082 - val_accuracy: 0.0556 - val_loss: 6.7887\n",
      "Epoch 48/150\n",
      "\u001b[1m3/3\u001b[0m \u001b[32m━━━━━━━━━━━━━━━━━━━━\u001b[0m\u001b[37m\u001b[0m \u001b[1m0s\u001b[0m 27ms/step - accuracy: 0.1268 - loss: 3.4648 - val_accuracy: 0.0556 - val_loss: 6.8207\n",
      "Epoch 49/150\n",
      "\u001b[1m3/3\u001b[0m \u001b[32m━━━━━━━━━━━━━━━━━━━━\u001b[0m\u001b[37m\u001b[0m \u001b[1m0s\u001b[0m 24ms/step - accuracy: 0.1190 - loss: 3.4799 - val_accuracy: 0.0556 - val_loss: 6.8386\n",
      "Epoch 50/150\n",
      "\u001b[1m3/3\u001b[0m \u001b[32m━━━━━━━━━━━━━━━━━━━━\u001b[0m\u001b[37m\u001b[0m \u001b[1m0s\u001b[0m 40ms/step - accuracy: 0.1385 - loss: 3.4174 - val_accuracy: 0.0556 - val_loss: 6.8549\n",
      "Epoch 51/150\n",
      "\u001b[1m3/3\u001b[0m \u001b[32m━━━━━━━━━━━━━━━━━━━━\u001b[0m\u001b[37m\u001b[0m \u001b[1m0s\u001b[0m 32ms/step - accuracy: 0.1118 - loss: 3.3696 - val_accuracy: 0.0556 - val_loss: 6.8612\n",
      "Epoch 52/150\n",
      "\u001b[1m3/3\u001b[0m \u001b[32m━━━━━━━━━━━━━━━━━━━━\u001b[0m\u001b[37m\u001b[0m \u001b[1m0s\u001b[0m 24ms/step - accuracy: 0.1086 - loss: 3.3429 - val_accuracy: 0.0556 - val_loss: 6.8731\n",
      "Epoch 53/150\n",
      "\u001b[1m3/3\u001b[0m \u001b[32m━━━━━━━━━━━━━━━━━━━━\u001b[0m\u001b[37m\u001b[0m \u001b[1m0s\u001b[0m 24ms/step - accuracy: 0.1456 - loss: 3.3016 - val_accuracy: 0.0556 - val_loss: 6.8782\n",
      "Epoch 54/150\n",
      "\u001b[1m3/3\u001b[0m \u001b[32m━━━━━━━━━━━━━━━━━━━━\u001b[0m\u001b[37m\u001b[0m \u001b[1m0s\u001b[0m 24ms/step - accuracy: 0.1190 - loss: 3.2970 - val_accuracy: 0.0556 - val_loss: 6.9321\n",
      "Epoch 55/150\n",
      "\u001b[1m3/3\u001b[0m \u001b[32m━━━━━━━━━━━━━━━━━━━━\u001b[0m\u001b[37m\u001b[0m \u001b[1m0s\u001b[0m 22ms/step - accuracy: 0.1762 - loss: 3.2655 - val_accuracy: 0.0556 - val_loss: 7.0098\n",
      "Epoch 56/150\n",
      "\u001b[1m3/3\u001b[0m \u001b[32m━━━━━━━━━━━━━━━━━━━━\u001b[0m\u001b[37m\u001b[0m \u001b[1m0s\u001b[0m 24ms/step - accuracy: 0.1268 - loss: 3.3151 - val_accuracy: 0.0556 - val_loss: 7.0773\n",
      "Epoch 57/150\n",
      "\u001b[1m3/3\u001b[0m \u001b[32m━━━━━━━━━━━━━━━━━━━━\u001b[0m\u001b[37m\u001b[0m \u001b[1m0s\u001b[0m 28ms/step - accuracy: 0.1489 - loss: 3.2625 - val_accuracy: 0.0556 - val_loss: 7.1475\n",
      "Epoch 58/150\n",
      "\u001b[1m3/3\u001b[0m \u001b[32m━━━━━━━━━━━━━━━━━━━━\u001b[0m\u001b[37m\u001b[0m \u001b[1m0s\u001b[0m 31ms/step - accuracy: 0.1275 - loss: 3.1886 - val_accuracy: 0.0556 - val_loss: 7.2071\n",
      "Epoch 59/150\n",
      "\u001b[1m3/3\u001b[0m \u001b[32m━━━━━━━━━━━━━━━━━━━━\u001b[0m\u001b[37m\u001b[0m \u001b[1m0s\u001b[0m 28ms/step - accuracy: 0.1528 - loss: 3.2635 - val_accuracy: 0.0556 - val_loss: 7.2399\n",
      "Epoch 60/150\n",
      "\u001b[1m3/3\u001b[0m \u001b[32m━━━━━━━━━━━━━━━━━━━━\u001b[0m\u001b[37m\u001b[0m \u001b[1m0s\u001b[0m 32ms/step - accuracy: 0.1339 - loss: 3.1621 - val_accuracy: 0.0556 - val_loss: 7.2701\n",
      "Epoch 61/150\n",
      "\u001b[1m3/3\u001b[0m \u001b[32m━━━━━━━━━━━━━━━━━━━━\u001b[0m\u001b[37m\u001b[0m \u001b[1m0s\u001b[0m 24ms/step - accuracy: 0.1261 - loss: 3.1755 - val_accuracy: 0.0556 - val_loss: 7.2986\n",
      "Epoch 62/150\n",
      "\u001b[1m3/3\u001b[0m \u001b[32m━━━━━━━━━━━━━━━━━━━━\u001b[0m\u001b[37m\u001b[0m \u001b[1m0s\u001b[0m 21ms/step - accuracy: 0.1378 - loss: 3.2048 - val_accuracy: 0.0556 - val_loss: 7.3374\n",
      "Epoch 63/150\n",
      "\u001b[1m3/3\u001b[0m \u001b[32m━━━━━━━━━━━━━━━━━━━━\u001b[0m\u001b[37m\u001b[0m \u001b[1m0s\u001b[0m 29ms/step - accuracy: 0.1456 - loss: 3.0971 - val_accuracy: 0.0556 - val_loss: 7.3721\n",
      "Epoch 64/150\n",
      "\u001b[1m3/3\u001b[0m \u001b[32m━━━━━━━━━━━━━━━━━━━━\u001b[0m\u001b[37m\u001b[0m \u001b[1m0s\u001b[0m 26ms/step - accuracy: 0.2094 - loss: 3.0459 - val_accuracy: 0.0000e+00 - val_loss: 7.3606\n",
      "Epoch 65/150\n",
      "\u001b[1m3/3\u001b[0m \u001b[32m━━━━━━━━━━━━━━━━━━━━\u001b[0m\u001b[37m\u001b[0m \u001b[1m0s\u001b[0m 28ms/step - accuracy: 0.1834 - loss: 3.0488 - val_accuracy: 0.0000e+00 - val_loss: 7.3133\n",
      "Epoch 66/150\n",
      "\u001b[1m3/3\u001b[0m \u001b[32m━━━━━━━━━━━━━━━━━━━━\u001b[0m\u001b[37m\u001b[0m \u001b[1m0s\u001b[0m 25ms/step - accuracy: 0.2016 - loss: 2.9966 - val_accuracy: 0.0000e+00 - val_loss: 7.3252\n",
      "Epoch 67/150\n",
      "\u001b[1m3/3\u001b[0m \u001b[32m━━━━━━━━━━━━━━━━━━━━\u001b[0m\u001b[37m\u001b[0m \u001b[1m0s\u001b[0m 28ms/step - accuracy: 0.2094 - loss: 3.0313 - val_accuracy: 0.0000e+00 - val_loss: 7.3638\n",
      "Epoch 68/150\n",
      "\u001b[1m3/3\u001b[0m \u001b[32m━━━━━━━━━━━━━━━━━━━━\u001b[0m\u001b[37m\u001b[0m \u001b[1m0s\u001b[0m 21ms/step - accuracy: 0.1827 - loss: 2.9514 - val_accuracy: 0.0556 - val_loss: 7.4015\n",
      "Epoch 69/150\n",
      "\u001b[1m3/3\u001b[0m \u001b[32m━━━━━━━━━━━━━━━━━━━━\u001b[0m\u001b[37m\u001b[0m \u001b[1m0s\u001b[0m 21ms/step - accuracy: 0.2400 - loss: 3.0107 - val_accuracy: 0.0556 - val_loss: 7.4611\n",
      "Epoch 70/150\n",
      "\u001b[1m3/3\u001b[0m \u001b[32m━━━━━━━━━━━━━━━━━━━━\u001b[0m\u001b[37m\u001b[0m \u001b[1m0s\u001b[0m 25ms/step - accuracy: 0.1528 - loss: 2.9891 - val_accuracy: 0.0556 - val_loss: 7.5169\n",
      "Epoch 71/150\n",
      "\u001b[1m3/3\u001b[0m \u001b[32m━━━━━━━━━━━━━━━━━━━━\u001b[0m\u001b[37m\u001b[0m \u001b[1m0s\u001b[0m 20ms/step - accuracy: 0.1723 - loss: 2.8950 - val_accuracy: 0.0556 - val_loss: 7.5981\n",
      "Epoch 72/150\n",
      "\u001b[1m3/3\u001b[0m \u001b[32m━━━━━━━━━━━━━━━━━━━━\u001b[0m\u001b[37m\u001b[0m \u001b[1m0s\u001b[0m 25ms/step - accuracy: 0.2094 - loss: 2.9154 - val_accuracy: 0.0556 - val_loss: 7.6324\n",
      "Epoch 73/150\n",
      "\u001b[1m3/3\u001b[0m \u001b[32m━━━━━━━━━━━━━━━━━━━━\u001b[0m\u001b[37m\u001b[0m \u001b[1m0s\u001b[0m 21ms/step - accuracy: 0.1937 - loss: 2.9627 - val_accuracy: 0.0556 - val_loss: 7.6431\n",
      "Epoch 74/150\n",
      "\u001b[1m3/3\u001b[0m \u001b[32m━━━━━━━━━━━━━━━━━━━━\u001b[0m\u001b[37m\u001b[0m \u001b[1m0s\u001b[0m 25ms/step - accuracy: 0.1710 - loss: 2.9182 - val_accuracy: 0.0556 - val_loss: 7.6407\n",
      "Epoch 75/150\n",
      "\u001b[1m3/3\u001b[0m \u001b[32m━━━━━━━━━━━━━━━━━━━━\u001b[0m\u001b[37m\u001b[0m \u001b[1m0s\u001b[0m 21ms/step - accuracy: 0.1749 - loss: 2.9181 - val_accuracy: 0.0556 - val_loss: 7.6240\n",
      "Epoch 76/150\n",
      "\u001b[1m3/3\u001b[0m \u001b[32m━━━━━━━━━━━━━━━━━━━━\u001b[0m\u001b[37m\u001b[0m \u001b[1m0s\u001b[0m 17ms/step - accuracy: 0.1756 - loss: 2.9199 - val_accuracy: 0.0556 - val_loss: 7.6310\n",
      "Epoch 77/150\n",
      "\u001b[1m3/3\u001b[0m \u001b[32m━━━━━━━━━━━━━━━━━━━━\u001b[0m\u001b[37m\u001b[0m \u001b[1m0s\u001b[0m 21ms/step - accuracy: 0.2165 - loss: 2.8866 - val_accuracy: 0.0556 - val_loss: 7.6772\n",
      "Epoch 78/150\n",
      "\u001b[1m3/3\u001b[0m \u001b[32m━━━━━━━━━━━━━━━━━━━━\u001b[0m\u001b[37m\u001b[0m \u001b[1m0s\u001b[0m 20ms/step - accuracy: 0.1788 - loss: 2.8192 - val_accuracy: 0.0556 - val_loss: 7.7483\n",
      "Epoch 79/150\n",
      "\u001b[1m3/3\u001b[0m \u001b[32m━━━━━━━━━━━━━━━━━━━━\u001b[0m\u001b[37m\u001b[0m \u001b[1m0s\u001b[0m 17ms/step - accuracy: 0.2087 - loss: 2.8147 - val_accuracy: 0.0556 - val_loss: 7.7706\n",
      "Epoch 80/150\n",
      "\u001b[1m3/3\u001b[0m \u001b[32m━━━━━━━━━━━━━━━━━━━━\u001b[0m\u001b[37m\u001b[0m \u001b[1m0s\u001b[0m 20ms/step - accuracy: 0.2198 - loss: 2.7440 - val_accuracy: 0.0556 - val_loss: 7.7688\n",
      "Epoch 81/150\n",
      "\u001b[1m3/3\u001b[0m \u001b[32m━━━━━━━━━━━━━━━━━━━━\u001b[0m\u001b[37m\u001b[0m \u001b[1m0s\u001b[0m 23ms/step - accuracy: 0.1905 - loss: 2.7562 - val_accuracy: 0.0556 - val_loss: 7.7447\n",
      "Epoch 82/150\n",
      "\u001b[1m3/3\u001b[0m \u001b[32m━━━━━━━━━━━━━━━━━━━━\u001b[0m\u001b[37m\u001b[0m \u001b[1m0s\u001b[0m 29ms/step - accuracy: 0.2432 - loss: 2.7230 - val_accuracy: 0.0556 - val_loss: 7.7188\n",
      "Epoch 83/150\n",
      "\u001b[1m3/3\u001b[0m \u001b[32m━━━━━━━━━━━━━━━━━━━━\u001b[0m\u001b[37m\u001b[0m \u001b[1m0s\u001b[0m 25ms/step - accuracy: 0.2321 - loss: 2.7695 - val_accuracy: 0.0556 - val_loss: 7.7278\n",
      "Epoch 84/150\n",
      "\u001b[1m3/3\u001b[0m \u001b[32m━━━━━━━━━━━━━━━━━━━━\u001b[0m\u001b[37m\u001b[0m \u001b[1m0s\u001b[0m 28ms/step - accuracy: 0.2705 - loss: 2.6781 - val_accuracy: 0.0556 - val_loss: 7.7371\n",
      "Epoch 85/150\n",
      "\u001b[1m3/3\u001b[0m \u001b[32m━━━━━━━━━━━━━━━━━━━━\u001b[0m\u001b[37m\u001b[0m \u001b[1m0s\u001b[0m 29ms/step - accuracy: 0.3173 - loss: 2.7251 - val_accuracy: 0.0556 - val_loss: 7.7614\n",
      "Epoch 86/150\n",
      "\u001b[1m3/3\u001b[0m \u001b[32m━━━━━━━━━━━━━━━━━━━━\u001b[0m\u001b[37m\u001b[0m \u001b[1m0s\u001b[0m 25ms/step - accuracy: 0.1795 - loss: 2.7292 - val_accuracy: 0.0556 - val_loss: 7.8245\n",
      "Epoch 87/150\n",
      "\u001b[1m3/3\u001b[0m \u001b[32m━━━━━━━━━━━━━━━━━━━━\u001b[0m\u001b[37m\u001b[0m \u001b[1m0s\u001b[0m 41ms/step - accuracy: 0.1866 - loss: 2.7286 - val_accuracy: 0.0556 - val_loss: 7.8854\n",
      "Epoch 88/150\n",
      "\u001b[1m3/3\u001b[0m \u001b[32m━━━━━━━━━━━━━━━━━━━━\u001b[0m\u001b[37m\u001b[0m \u001b[1m0s\u001b[0m 29ms/step - accuracy: 0.2913 - loss: 2.7036 - val_accuracy: 0.0556 - val_loss: 7.8859\n",
      "Epoch 89/150\n",
      "\u001b[1m3/3\u001b[0m \u001b[32m━━━━━━━━━━━━━━━━━━━━\u001b[0m\u001b[37m\u001b[0m \u001b[1m0s\u001b[0m 25ms/step - accuracy: 0.2315 - loss: 2.7022 - val_accuracy: 0.0556 - val_loss: 7.8748\n",
      "Epoch 90/150\n",
      "\u001b[1m3/3\u001b[0m \u001b[32m━━━━━━━━━━━━━━━━━━━━\u001b[0m\u001b[37m\u001b[0m \u001b[1m0s\u001b[0m 29ms/step - accuracy: 0.2269 - loss: 2.7075 - val_accuracy: 0.0556 - val_loss: 7.8575\n",
      "Epoch 91/150\n",
      "\u001b[1m3/3\u001b[0m \u001b[32m━━━━━━━━━━━━━━━━━━━━\u001b[0m\u001b[37m\u001b[0m \u001b[1m0s\u001b[0m 21ms/step - accuracy: 0.3544 - loss: 2.6509 - val_accuracy: 0.0556 - val_loss: 7.8761\n",
      "Epoch 92/150\n",
      "\u001b[1m3/3\u001b[0m \u001b[32m━━━━━━━━━━━━━━━━━━━━\u001b[0m\u001b[37m\u001b[0m \u001b[1m0s\u001b[0m 25ms/step - accuracy: 0.3173 - loss: 2.7136 - val_accuracy: 0.0556 - val_loss: 7.8593\n",
      "Epoch 93/150\n",
      "\u001b[1m3/3\u001b[0m \u001b[32m━━━━━━━━━━━━━━━━━━━━\u001b[0m\u001b[37m\u001b[0m \u001b[1m0s\u001b[0m 21ms/step - accuracy: 0.2679 - loss: 2.6195 - val_accuracy: 0.0556 - val_loss: 7.8082\n",
      "Epoch 94/150\n",
      "\u001b[1m3/3\u001b[0m \u001b[32m━━━━━━━━━━━━━━━━━━━━\u001b[0m\u001b[37m\u001b[0m \u001b[1m0s\u001b[0m 25ms/step - accuracy: 0.3212 - loss: 2.5180 - val_accuracy: 0.0556 - val_loss: 7.8597\n",
      "Epoch 95/150\n",
      "\u001b[1m3/3\u001b[0m \u001b[32m━━━━━━━━━━━━━━━━━━━━\u001b[0m\u001b[37m\u001b[0m \u001b[1m0s\u001b[0m 23ms/step - accuracy: 0.2536 - loss: 2.6214 - val_accuracy: 0.0556 - val_loss: 7.9107\n",
      "Epoch 96/150\n",
      "\u001b[1m3/3\u001b[0m \u001b[32m━━━━━━━━━━━━━━━━━━━━\u001b[0m\u001b[37m\u001b[0m \u001b[1m0s\u001b[0m 25ms/step - accuracy: 0.2607 - loss: 2.6351 - val_accuracy: 0.0556 - val_loss: 7.8708\n",
      "Epoch 97/150\n",
      "\u001b[1m3/3\u001b[0m \u001b[32m━━━━━━━━━━━━━━━━━━━━\u001b[0m\u001b[37m\u001b[0m \u001b[1m0s\u001b[0m 25ms/step - accuracy: 0.3244 - loss: 2.5423 - val_accuracy: 0.0556 - val_loss: 7.8586\n",
      "Epoch 98/150\n",
      "\u001b[1m3/3\u001b[0m \u001b[32m━━━━━━━━━━━━━━━━━━━━\u001b[0m\u001b[37m\u001b[0m \u001b[1m0s\u001b[0m 25ms/step - accuracy: 0.2119 - loss: 2.6257 - val_accuracy: 0.0556 - val_loss: 7.9225\n",
      "Epoch 99/150\n",
      "\u001b[1m3/3\u001b[0m \u001b[32m━━━━━━━━━━━━━━━━━━━━\u001b[0m\u001b[37m\u001b[0m \u001b[1m0s\u001b[0m 25ms/step - accuracy: 0.3069 - loss: 2.5302 - val_accuracy: 0.0556 - val_loss: 7.9610\n",
      "Epoch 100/150\n",
      "\u001b[1m3/3\u001b[0m \u001b[32m━━━━━━━━━━━━━━━━━━━━\u001b[0m\u001b[37m\u001b[0m \u001b[1m0s\u001b[0m 29ms/step - accuracy: 0.3628 - loss: 2.4907 - val_accuracy: 0.0556 - val_loss: 7.9655\n",
      "Epoch 101/150\n",
      "\u001b[1m3/3\u001b[0m \u001b[32m━━━━━━━━━━━━━━━━━━━━\u001b[0m\u001b[37m\u001b[0m \u001b[1m0s\u001b[0m 21ms/step - accuracy: 0.2906 - loss: 2.5398 - val_accuracy: 0.0556 - val_loss: 7.9197\n",
      "Epoch 102/150\n",
      "\u001b[1m3/3\u001b[0m \u001b[32m━━━━━━━━━━━━━━━━━━━━\u001b[0m\u001b[37m\u001b[0m \u001b[1m0s\u001b[0m 25ms/step - accuracy: 0.3180 - loss: 2.4801 - val_accuracy: 0.0556 - val_loss: 7.8817\n",
      "Epoch 103/150\n",
      "\u001b[1m3/3\u001b[0m \u001b[32m━━━━━━━━━━━━━━━━━━━━\u001b[0m\u001b[37m\u001b[0m \u001b[1m0s\u001b[0m 25ms/step - accuracy: 0.3127 - loss: 2.5109 - val_accuracy: 0.0556 - val_loss: 7.9147\n",
      "Epoch 104/150\n",
      "\u001b[1m3/3\u001b[0m \u001b[32m━━━━━━━━━━━━━━━━━━━━\u001b[0m\u001b[37m\u001b[0m \u001b[1m0s\u001b[0m 24ms/step - accuracy: 0.3316 - loss: 2.4263 - val_accuracy: 0.0556 - val_loss: 8.0134\n",
      "Epoch 105/150\n",
      "\u001b[1m3/3\u001b[0m \u001b[32m━━━━━━━━━━━━━━━━━━━━\u001b[0m\u001b[37m\u001b[0m \u001b[1m0s\u001b[0m 25ms/step - accuracy: 0.3953 - loss: 2.4001 - val_accuracy: 0.0556 - val_loss: 8.1564\n",
      "Epoch 106/150\n",
      "\u001b[1m3/3\u001b[0m \u001b[32m━━━━━━━━━━━━━━━━━━━━\u001b[0m\u001b[37m\u001b[0m \u001b[1m0s\u001b[0m 26ms/step - accuracy: 0.2198 - loss: 2.4542 - val_accuracy: 0.0556 - val_loss: 8.1884\n",
      "Epoch 107/150\n",
      "\u001b[1m3/3\u001b[0m \u001b[32m━━━━━━━━━━━━━━━━━━━━\u001b[0m\u001b[37m\u001b[0m \u001b[1m0s\u001b[0m 21ms/step - accuracy: 0.3661 - loss: 2.4120 - val_accuracy: 0.0556 - val_loss: 8.0769\n",
      "Epoch 108/150\n",
      "\u001b[1m3/3\u001b[0m \u001b[32m━━━━━━━━━━━━━━━━━━━━\u001b[0m\u001b[37m\u001b[0m \u001b[1m0s\u001b[0m 25ms/step - accuracy: 0.3472 - loss: 2.3707 - val_accuracy: 0.0556 - val_loss: 7.9449\n",
      "Epoch 109/150\n",
      "\u001b[1m3/3\u001b[0m \u001b[32m━━━━━━━━━━━━━━━━━━━━\u001b[0m\u001b[37m\u001b[0m \u001b[1m0s\u001b[0m 20ms/step - accuracy: 0.3465 - loss: 2.4061 - val_accuracy: 0.0556 - val_loss: 7.9214\n",
      "Epoch 110/150\n",
      "\u001b[1m3/3\u001b[0m \u001b[32m━━━━━━━━━━━━━━━━━━━━\u001b[0m\u001b[37m\u001b[0m \u001b[1m0s\u001b[0m 21ms/step - accuracy: 0.3875 - loss: 2.3160 - val_accuracy: 0.0556 - val_loss: 7.9878\n",
      "Epoch 111/150\n",
      "\u001b[1m3/3\u001b[0m \u001b[32m━━━━━━━━━━━━━━━━━━━━\u001b[0m\u001b[37m\u001b[0m \u001b[1m0s\u001b[0m 25ms/step - accuracy: 0.2984 - loss: 2.4043 - val_accuracy: 0.0556 - val_loss: 8.0494\n",
      "Epoch 112/150\n",
      "\u001b[1m3/3\u001b[0m \u001b[32m━━━━━━━━━━━━━━━━━━━━\u001b[0m\u001b[37m\u001b[0m \u001b[1m0s\u001b[0m 29ms/step - accuracy: 0.3498 - loss: 2.4091 - val_accuracy: 0.0556 - val_loss: 8.1772\n",
      "Epoch 113/150\n",
      "\u001b[1m3/3\u001b[0m \u001b[32m━━━━━━━━━━━━━━━━━━━━\u001b[0m\u001b[37m\u001b[0m \u001b[1m0s\u001b[0m 25ms/step - accuracy: 0.2939 - loss: 2.3648 - val_accuracy: 0.0556 - val_loss: 8.2151\n",
      "Epoch 114/150\n",
      "\u001b[1m3/3\u001b[0m \u001b[32m━━━━━━━━━━━━━━━━━━━━\u001b[0m\u001b[37m\u001b[0m \u001b[1m0s\u001b[0m 28ms/step - accuracy: 0.3056 - loss: 2.3181 - val_accuracy: 0.0556 - val_loss: 8.1374\n",
      "Epoch 115/150\n",
      "\u001b[1m3/3\u001b[0m \u001b[32m━━━━━━━━━━━━━━━━━━━━\u001b[0m\u001b[37m\u001b[0m \u001b[1m0s\u001b[0m 25ms/step - accuracy: 0.3836 - loss: 2.2437 - val_accuracy: 0.0556 - val_loss: 8.1040\n",
      "Epoch 116/150\n",
      "\u001b[1m3/3\u001b[0m \u001b[32m━━━━━━━━━━━━━━━━━━━━\u001b[0m\u001b[37m\u001b[0m \u001b[1m0s\u001b[0m 28ms/step - accuracy: 0.3836 - loss: 2.3220 - val_accuracy: 0.0556 - val_loss: 8.1040\n",
      "Epoch 117/150\n",
      "\u001b[1m3/3\u001b[0m \u001b[32m━━━━━━━━━━━━━━━━━━━━\u001b[0m\u001b[37m\u001b[0m \u001b[1m0s\u001b[0m 29ms/step - accuracy: 0.4285 - loss: 2.2730 - val_accuracy: 0.0556 - val_loss: 8.0770\n",
      "Epoch 118/150\n",
      "\u001b[1m3/3\u001b[0m \u001b[32m━━━━━━━━━━━━━━━━━━━━\u001b[0m\u001b[37m\u001b[0m \u001b[1m0s\u001b[0m 29ms/step - accuracy: 0.3863 - loss: 2.2457 - val_accuracy: 0.0556 - val_loss: 8.1151\n",
      "Epoch 119/150\n",
      "\u001b[1m3/3\u001b[0m \u001b[32m━━━━━━━━━━━━━━━━━━━━\u001b[0m\u001b[37m\u001b[0m \u001b[1m0s\u001b[0m 23ms/step - accuracy: 0.4246 - loss: 2.3012 - val_accuracy: 0.0556 - val_loss: 8.1868\n",
      "Epoch 120/150\n",
      "\u001b[1m3/3\u001b[0m \u001b[32m━━━━━━━━━━━━━━━━━━━━\u001b[0m\u001b[37m\u001b[0m \u001b[1m0s\u001b[0m 29ms/step - accuracy: 0.4402 - loss: 2.3103 - val_accuracy: 0.0556 - val_loss: 8.1452\n",
      "Epoch 121/150\n",
      "\u001b[1m3/3\u001b[0m \u001b[32m━━━━━━━━━━━━━━━━━━━━\u001b[0m\u001b[37m\u001b[0m \u001b[1m0s\u001b[0m 25ms/step - accuracy: 0.3829 - loss: 2.2573 - val_accuracy: 0.0556 - val_loss: 8.1328\n",
      "Epoch 122/150\n",
      "\u001b[1m3/3\u001b[0m \u001b[32m━━━━━━━━━━━━━━━━━━━━\u001b[0m\u001b[37m\u001b[0m \u001b[1m0s\u001b[0m 25ms/step - accuracy: 0.3934 - loss: 2.1485 - val_accuracy: 0.0556 - val_loss: 8.1327\n",
      "Epoch 123/150\n",
      "\u001b[1m3/3\u001b[0m \u001b[32m━━━━━━━━━━━━━━━━━━━━\u001b[0m\u001b[37m\u001b[0m \u001b[1m0s\u001b[0m 31ms/step - accuracy: 0.3693 - loss: 2.1960 - val_accuracy: 0.0556 - val_loss: 8.1749\n",
      "Epoch 124/150\n",
      "\u001b[1m3/3\u001b[0m \u001b[32m━━━━━━━━━━━━━━━━━━━━\u001b[0m\u001b[37m\u001b[0m \u001b[1m0s\u001b[0m 33ms/step - accuracy: 0.4038 - loss: 2.2441 - val_accuracy: 0.0556 - val_loss: 8.2542\n",
      "Epoch 125/150\n",
      "\u001b[1m3/3\u001b[0m \u001b[32m━━━━━━━━━━━━━━━━━━━━\u001b[0m\u001b[37m\u001b[0m \u001b[1m0s\u001b[0m 25ms/step - accuracy: 0.5085 - loss: 2.0795 - val_accuracy: 0.0556 - val_loss: 8.3327\n",
      "Epoch 126/150\n",
      "\u001b[1m3/3\u001b[0m \u001b[32m━━━━━━━━━━━━━━━━━━━━\u001b[0m\u001b[37m\u001b[0m \u001b[1m0s\u001b[0m 25ms/step - accuracy: 0.3583 - loss: 2.1107 - val_accuracy: 0.0556 - val_loss: 8.2096\n",
      "Epoch 127/150\n",
      "\u001b[1m3/3\u001b[0m \u001b[32m━━━━━━━━━━━━━━━━━━━━\u001b[0m\u001b[37m\u001b[0m \u001b[1m0s\u001b[0m 29ms/step - accuracy: 0.3953 - loss: 2.1541 - val_accuracy: 0.0556 - val_loss: 8.1203\n",
      "Epoch 128/150\n",
      "\u001b[1m3/3\u001b[0m \u001b[32m━━━━━━━━━━━━━━━━━━━━\u001b[0m\u001b[37m\u001b[0m \u001b[1m0s\u001b[0m 30ms/step - accuracy: 0.4084 - loss: 2.1590 - val_accuracy: 0.0556 - val_loss: 8.1044\n",
      "Epoch 129/150\n",
      "\u001b[1m3/3\u001b[0m \u001b[32m━━━━━━━━━━━━━━━━━━━━\u001b[0m\u001b[37m\u001b[0m \u001b[1m0s\u001b[0m 25ms/step - accuracy: 0.4837 - loss: 2.1382 - val_accuracy: 0.0556 - val_loss: 8.1398\n",
      "Epoch 130/150\n",
      "\u001b[1m3/3\u001b[0m \u001b[32m━━━━━━━━━━━━━━━━━━━━\u001b[0m\u001b[37m\u001b[0m \u001b[1m0s\u001b[0m 24ms/step - accuracy: 0.5435 - loss: 2.1087 - val_accuracy: 0.0556 - val_loss: 8.1508\n",
      "Epoch 131/150\n",
      "\u001b[1m3/3\u001b[0m \u001b[32m━━━━━━━━━━━━━━━━━━━━\u001b[0m\u001b[37m\u001b[0m \u001b[1m0s\u001b[0m 21ms/step - accuracy: 0.5481 - loss: 2.0495 - val_accuracy: 0.0556 - val_loss: 8.1845\n",
      "Epoch 132/150\n",
      "\u001b[1m3/3\u001b[0m \u001b[32m━━━━━━━━━━━━━━━━━━━━\u001b[0m\u001b[37m\u001b[0m \u001b[1m0s\u001b[0m 29ms/step - accuracy: 0.4415 - loss: 2.1202 - val_accuracy: 0.0556 - val_loss: 8.3342\n",
      "Epoch 133/150\n",
      "\u001b[1m3/3\u001b[0m \u001b[32m━━━━━━━━━━━━━━━━━━━━\u001b[0m\u001b[37m\u001b[0m \u001b[1m0s\u001b[0m 29ms/step - accuracy: 0.3387 - loss: 2.2198 - val_accuracy: 0.0556 - val_loss: 8.3284\n",
      "Epoch 134/150\n",
      "\u001b[1m3/3\u001b[0m \u001b[32m━━━━━━━━━━━━━━━━━━━━\u001b[0m\u001b[37m\u001b[0m \u001b[1m0s\u001b[0m 29ms/step - accuracy: 0.4174 - loss: 2.0931 - val_accuracy: 0.0556 - val_loss: 8.1709\n",
      "Epoch 135/150\n",
      "\u001b[1m3/3\u001b[0m \u001b[32m━━━━━━━━━━━━━━━━━━━━\u001b[0m\u001b[37m\u001b[0m \u001b[1m0s\u001b[0m 28ms/step - accuracy: 0.4714 - loss: 2.0646 - val_accuracy: 0.0556 - val_loss: 8.2015\n",
      "Epoch 136/150\n",
      "\u001b[1m3/3\u001b[0m \u001b[32m━━━━━━━━━━━━━━━━━━━━\u001b[0m\u001b[37m\u001b[0m \u001b[1m0s\u001b[0m 35ms/step - accuracy: 0.4577 - loss: 2.0840 - val_accuracy: 0.0556 - val_loss: 8.3797\n",
      "Epoch 137/150\n",
      "\u001b[1m3/3\u001b[0m \u001b[32m━━━━━━━━━━━━━━━━━━━━\u001b[0m\u001b[37m\u001b[0m \u001b[1m0s\u001b[0m 40ms/step - accuracy: 0.3940 - loss: 2.1845 - val_accuracy: 0.0556 - val_loss: 8.3740\n",
      "Epoch 138/150\n",
      "\u001b[1m3/3\u001b[0m \u001b[32m━━━━━━━━━━━━━━━━━━━━\u001b[0m\u001b[37m\u001b[0m \u001b[1m0s\u001b[0m 28ms/step - accuracy: 0.4330 - loss: 2.1246 - val_accuracy: 0.0556 - val_loss: 8.3177\n",
      "Epoch 139/150\n",
      "\u001b[1m3/3\u001b[0m \u001b[32m━━━━━━━━━━━━━━━━━━━━\u001b[0m\u001b[37m\u001b[0m \u001b[1m0s\u001b[0m 24ms/step - accuracy: 0.4584 - loss: 2.1035 - val_accuracy: 0.0556 - val_loss: 8.3809\n",
      "Epoch 140/150\n",
      "\u001b[1m3/3\u001b[0m \u001b[32m━━━━━━━━━━━━━━━━━━━━\u001b[0m\u001b[37m\u001b[0m \u001b[1m0s\u001b[0m 25ms/step - accuracy: 0.2828 - loss: 2.1898 - val_accuracy: 0.0556 - val_loss: 8.3043\n",
      "Epoch 141/150\n",
      "\u001b[1m3/3\u001b[0m \u001b[32m━━━━━━━━━━━━━━━━━━━━\u001b[0m\u001b[37m\u001b[0m \u001b[1m0s\u001b[0m 27ms/step - accuracy: 0.4740 - loss: 2.0033 - val_accuracy: 0.0556 - val_loss: 8.3153\n",
      "Epoch 142/150\n",
      "\u001b[1m3/3\u001b[0m \u001b[32m━━━━━━━━━━━━━━━━━━━━\u001b[0m\u001b[37m\u001b[0m \u001b[1m0s\u001b[0m 24ms/step - accuracy: 0.4506 - loss: 2.0931 - val_accuracy: 0.0556 - val_loss: 8.3889\n",
      "Epoch 143/150\n",
      "\u001b[1m3/3\u001b[0m \u001b[32m━━━━━━━━━━━━━━━━━━━━\u001b[0m\u001b[37m\u001b[0m \u001b[1m0s\u001b[0m 25ms/step - accuracy: 0.5046 - loss: 2.0052 - val_accuracy: 0.0556 - val_loss: 8.4188\n",
      "Epoch 144/150\n",
      "\u001b[1m3/3\u001b[0m \u001b[32m━━━━━━━━━━━━━━━━━━━━\u001b[0m\u001b[37m\u001b[0m \u001b[1m0s\u001b[0m 27ms/step - accuracy: 0.4929 - loss: 2.0178 - val_accuracy: 0.0556 - val_loss: 8.3373\n",
      "Epoch 145/150\n",
      "\u001b[1m3/3\u001b[0m \u001b[32m━━━━━━━━━━━━━━━━━━━━\u001b[0m\u001b[37m\u001b[0m \u001b[1m0s\u001b[0m 20ms/step - accuracy: 0.5110 - loss: 2.0365 - val_accuracy: 0.0556 - val_loss: 8.2762\n",
      "Epoch 146/150\n",
      "\u001b[1m3/3\u001b[0m \u001b[32m━━━━━━━━━━━━━━━━━━━━\u001b[0m\u001b[37m\u001b[0m \u001b[1m0s\u001b[0m 16ms/step - accuracy: 0.5377 - loss: 2.0396 - val_accuracy: 0.0556 - val_loss: 8.2884\n",
      "Epoch 147/150\n",
      "\u001b[1m3/3\u001b[0m \u001b[32m━━━━━━━━━━━━━━━━━━━━\u001b[0m\u001b[37m\u001b[0m \u001b[1m0s\u001b[0m 46ms/step - accuracy: 0.4330 - loss: 1.9631 - val_accuracy: 0.0556 - val_loss: 8.3458\n",
      "Epoch 148/150\n",
      "\u001b[1m3/3\u001b[0m \u001b[32m━━━━━━━━━━━━━━━━━━━━\u001b[0m\u001b[37m\u001b[0m \u001b[1m0s\u001b[0m 29ms/step - accuracy: 0.5306 - loss: 1.9193 - val_accuracy: 0.0556 - val_loss: 8.3291\n",
      "Epoch 149/150\n",
      "\u001b[1m3/3\u001b[0m \u001b[32m━━━━━━━━━━━━━━━━━━━━\u001b[0m\u001b[37m\u001b[0m \u001b[1m0s\u001b[0m 75ms/step - accuracy: 0.4961 - loss: 1.9825 - val_accuracy: 0.0556 - val_loss: 8.3147\n",
      "Epoch 150/150\n",
      "\u001b[1m3/3\u001b[0m \u001b[32m━━━━━━━━━━━━━━━━━━━━\u001b[0m\u001b[37m\u001b[0m \u001b[1m0s\u001b[0m 25ms/step - accuracy: 0.5110 - loss: 1.9281 - val_accuracy: 0.0556 - val_loss: 8.3488\n"
     ]
    }
   ],
   "source": [
    "history=model.fit(x_train,y_train,validation_split=(0.2),callbacks=[early_stopping],epochs=150)"
   ]
  },
  {
   "cell_type": "code",
   "execution_count": 36,
   "metadata": {},
   "outputs": [],
   "source": [
    "import matplotlib.pyplot as plt"
   ]
  },
  {
   "cell_type": "code",
   "execution_count": 37,
   "metadata": {},
   "outputs": [
    {
     "data": {
      "text/plain": [
       "[<matplotlib.lines.Line2D at 0x20364891dc0>]"
      ]
     },
     "execution_count": 37,
     "metadata": {},
     "output_type": "execute_result"
    },
    {
     "data": {
      "image/png": "[encoded data removed]",
      "text/plain": [
       "<Figure size 640x480 with 1 Axes>"
      ]
     },
     "metadata": {},
     "output_type": "display_data"
    }
   ],
   "source": [
    "plt.plot(history.history['accuracy'])"
   ]
  },
  {
   "cell_type": "code",
   "execution_count": 38,
   "metadata": {},
   "outputs": [
    {
     "data": {
      "text/plain": [
       "[<matplotlib.lines.Line2D at 0x20364986270>]"
      ]
     },
     "execution_count": 38,
     "metadata": {},
     "output_type": "execute_result"
    },
    {
     "data": {
      "image/png": "[encoded data removed]",
      "text/plain": [
       "<Figure size 640x480 with 1 Axes>"
      ]
     },
     "metadata": {},
     "output_type": "display_data"
    }
   ],
   "source": [
    "plt.plot(history.history['val_accuracy'])"
   ]
  },
  {
   "cell_type": "code",
   "execution_count": 39,
   "metadata": {},
   "outputs": [],
   "source": [
    "import numpy as np"
   ]
  },
  {
   "cell_type": "code",
   "execution_count": 40,
   "metadata": {},
   "outputs": [
    {
     "name": "stdout",
     "output_type": "stream",
     "text": [
      "deep 1\n",
      "learning 2\n",
      "and 3\n",
      "it 4\n",
      "to 5\n",
      "of 6\n",
      "the 7\n",
      "for 8\n",
      "learn 9\n",
      "with 10\n",
      "is 11\n",
      "from 12\n",
      "data 13\n",
      "image 14\n",
      "tutorial 15\n",
      "covers 16\n",
      "basics 17\n",
      "more 18\n",
      "advanced 19\n",
      "topics 20\n",
      "making 21\n",
      "perfect 22\n",
      "beginners 23\n",
      "those 24\n",
      "experience 25\n",
      "whether 26\n",
      "you 27\n",
      "just 28\n",
      "starting 29\n",
      "or 30\n",
      "looking 31\n",
      "expand 32\n",
      "your 33\n",
      "knowledge 34\n",
      "this 35\n",
      "guide 36\n",
      "makes 37\n",
      "easy 38\n",
      "about 39\n",
      "different 40\n",
      "technologies 41\n",
      "a 42\n",
      "branch 43\n",
      "artificial 44\n",
      "intelligence 45\n",
      "that 46\n",
      "enables 47\n",
      "machines 48\n",
      "large 49\n",
      "amounts 50\n",
      "uses 51\n",
      "neural 52\n",
      "networks 53\n",
      "many 54\n",
      "layers 55\n",
      "automatically 56\n",
      "find 57\n",
      "patterns 58\n",
      "make 59\n",
      "predictions 60\n",
      "very 61\n",
      "useful 62\n",
      "tasks 63\n",
      "like 64\n",
      "recognition 65\n",
      "language 66\n",
      "translation 67\n",
      "speech 68\n",
      "processing 69\n",
      "models 70\n",
      "directly 71\n",
      "without 72\n",
      "need 73\n",
      "manual 74\n",
      "feature 75\n",
      "extraction 76\n",
      "popular 77\n",
      "applications 78\n",
      "include 79\n",
      "self 80\n",
      "driving 81\n",
      "cars 82\n",
      "chatbots 83\n",
      "medical 84\n",
      "analysis 85\n",
      "recommendation 86\n",
      "systems 87\n"
     ]
    }
   ],
   "source": [
    "for word,index in tokenizer.word_index.items():\n",
    "    print(word,index)"
   ]
  },
  {
   "cell_type": "code",
   "execution_count": 54,
   "metadata": {},
   "outputs": [],
   "source": [
    "def prediction(data):\n",
    "    token=tokenizer.texts_to_sequences([data])[0]\n",
    "    if len(token)>max_length:\n",
    "        token=token[-(max_length):]\n",
    "    else:\n",
    "        pad_vec=pad_sequences(np.array([token]),padding='pre',maxlen=max_length)\n",
    "        predicts=model.predict(pad_vec)\n",
    "        #print(predicts.shape)\n",
    "        max_num=np.argmax(predicts,axis=1)\n",
    "        for word,index in tokenizer.word_index.items():\n",
    "            if index==max_num:\n",
    "                return word\n",
    "        return None"
   ]
  },
  {
   "cell_type": "code",
   "execution_count": 55,
   "metadata": {},
   "outputs": [
    {
     "name": "stdout",
     "output_type": "stream",
     "text": [
      "\u001b[1m1/1\u001b[0m \u001b[32m━━━━━━━━━━━━━━━━━━━━\u001b[0m\u001b[37m\u001b[0m \u001b[1m0s\u001b[0m 35ms/step\n",
      "driving\n"
     ]
    }
   ],
   "source": [
    "text1=\"Popular applications of Deep Learning include self\"\n",
    "print(prediction(text1))"
   ]
  },
  {
   "cell_type": "code",
   "execution_count": 52,
   "metadata": {},
   "outputs": [],
   "source": [
    "#lstm=>it has both long term and short term memory \n",
    "#lstm=>it has a conveyer belt called cell state or memory state it contains info of long senetence\n",
    "#lstm has three states\n",
    "# forgot gate=>forgot gate forgot some information and it contain pointwise multiplication with memory or cell state\n",
    "#input and cadidate gate=>it will add some information in the cell state and it contain pointwise addition\n",
    "#ouput gate=>give output to hidden state ht\n"
   ]
  },
  {
   "cell_type": "code",
   "execution_count": 51,
   "metadata": {},
   "outputs": [],
   "source": [
    "#lstm variants\n",
    "# peephole=>connections=>\n",
    "# from memory cell to =>forgot gate,input gate,output gate it is called peephole connections "
   ]
  },
  {
   "cell_type": "code",
   "execution_count": 50,
   "metadata": {},
   "outputs": [],
   "source": [
    "#coupling forgot and input gate Another\n",
    "#(1-ft)"
   ]
  },
  {
   "cell_type": "code",
   "execution_count": 49,
   "metadata": {},
   "outputs": [],
   "source": [
    "#gru=>gated recurrent unit"
   ]
  }
 ],
 "metadata": {
  "kernelspec": {
   "display_name": "Python 3",
   "language": "python",
   "name": "python3"
  },
  "language_info": {
   "codemirror_mode": {
    "name": "ipython",
    "version": 3
   },
   "file_extension": ".py",
   "mimetype": "text/x-python",
   "name": "python",
   "nbconvert_exporter": "python",
   "pygments_lexer": "ipython3",
   "version": "3.12.2"
  }
 },
 "nbformat": 4,
 "nbformat_minor": 2
}
